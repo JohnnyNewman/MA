{
 "cells": [
  {
   "cell_type": "code",
   "execution_count": 35,
   "metadata": {},
   "outputs": [],
   "source": [
    "import os"
   ]
  },
  {
   "cell_type": "code",
   "execution_count": 36,
   "metadata": {},
   "outputs": [
    {
     "name": "stdout",
     "output_type": "stream",
     "text": [
      "('C:\\\\Users\\\\Nils\\\\Workspace\\\\MA_git', 'MA')\n"
     ]
    }
   ],
   "source": [
    "# check if already in right local directory\n",
    "# otherwise clone the repo from github and change directory\n",
    "\n",
    "cwd = os.getcwd()\n",
    "print(os.path.split(cwd))\n",
    "\n",
    "if not os.path.split(cwd)[1] == \"MA\":\n",
    "    !git clone https://www.github.com/JohnnyNewman/MA.git\n",
    "    os.chdir('MA')"
   ]
  },
  {
   "cell_type": "code",
   "execution_count": 1,
   "metadata": {},
   "outputs": [],
   "source": [
    "import numpy as np\n",
    "import pandas as pd\n",
    "import matplotlib.pyplot as plt\n",
    "from scipy import linalg\n",
    "from sklearn.decomposition import PCA\n",
    "import pickle"
   ]
  },
  {
   "cell_type": "code",
   "execution_count": null,
   "metadata": {},
   "outputs": [],
   "source": []
  },
  {
   "cell_type": "code",
   "execution_count": null,
   "metadata": {},
   "outputs": [],
   "source": []
  },
  {
   "cell_type": "markdown",
   "metadata": {},
   "source": [
    "### First, load the data:"
   ]
  },
  {
   "cell_type": "code",
   "execution_count": 2,
   "metadata": {},
   "outputs": [],
   "source": [
    "dv_list = pickle.load(open(\"save/dv_list.p\", \"rb\"))\n",
    "df_result = pd.read_excel(\"save/df_result.xlsx\")\n",
    "df_cd_grad = pd.read_excel(\"save/df_cd_grad.xlsx\")\n"
   ]
  },
  "cells": [
    {
      "cell_type": "markdown",
      "metadata": {
        "id": "view-in-github",
        "colab_type": "text"
      },
      "source": [
        "<a href=\"https://colab.research.google.com/github/JohnnyNewman/MA/blob/main/Active_Subspace_Method.ipynb\" target=\"_parent\"><img src=\"https://colab.research.google.com/assets/colab-badge.svg\" alt=\"Open In Colab\"/></a>"
      ]
    },
    {
      "cell_type": "code",
      "metadata": {
        "id": "EI0Vca2lL34Y"
      },
      "source": [
        "import numpy as np\n",
        "import pandas as pd\n",
        "import matplotlib.pyplot as plt\n",
        "from scipy import linalg\n",
        "from sklearn.decomposition import PCA\n",
        "import pickle"
      ],
      "execution_count": null,
      "outputs": []
    },
    {
      "cell_type": "code",
      "metadata": {
        "id": "tj2T8I3JL34i"
      },
      "source": [
        ""
      ],
      "execution_count": null,
      "outputs": []
    },
    {
      "cell_type": "code",
      "metadata": {
        "id": "rRpE2EkYL34k"
      },
      "source": [
        ""
      ],
      "execution_count": null,
      "outputs": []
    },
    {
      "cell_type": "markdown",
      "metadata": {
        "id": "J8WlwIgQL34m"
      },
      "source": [
        "### First, load the data:"
      ]
    },
    {
      "cell_type": "code",
      "metadata": {
        "id": "pZkMy28TL34p"
      },
      "source": [
        "dv_list = pickle.load(open(\"save/dv_list.p\", \"rb\"))\n",
        "df_result = pd.read_excel(\"save/df_result.xlsx\")\n",
        "df_cd_grad = pd.read_excel(\"save/df_cd_grad.xlsx\")\n"
      ],
      "execution_count": null,
      "outputs": []
    },
    {
      "cell_type": "code",
      "metadata": {
        "id": "gmFxvQiYL34r",
        "outputId": "ffced89e-cae9-49bb-a8a8-41691d01938f"
      },
      "source": [
        "df_result #, df_result.shape"
      ],
      "execution_count": null,
      "outputs": [
        {
          "output_type": "execute_result",
          "data": {
            "text/html": [
              "<div>\n",
              "<style scoped>\n",
              "    .dataframe tbody tr th:only-of-type {\n",
              "        vertical-align: middle;\n",
              "    }\n",
              "\n",
              "    .dataframe tbody tr th {\n",
              "        vertical-align: top;\n",
              "    }\n",
              "\n",
              "    .dataframe thead th {\n",
              "        text-align: right;\n",
              "    }\n",
              "</style>\n",
              "<table border=\"1\" class=\"dataframe\">\n",
              "  <thead>\n",
              "    <tr style=\"text-align: right;\">\n",
              "      <th></th>\n",
              "      <th>Unnamed: 0</th>\n",
              "      <th>DIR</th>\n",
              "      <th>c_L</th>\n",
              "      <th>c_D</th>\n",
              "      <th>rms_rho</th>\n",
              "      <th>rms_nu</th>\n",
              "      <th>AOA</th>\n",
              "    </tr>\n",
              "  </thead>\n",
              "  <tbody>\n",
              "    <tr>\n",
              "      <th>0</th>\n",
              "      <td>0</td>\n",
              "      <td>T006 DSN_000</td>\n",
              "      <td>0.712967</td>\n",
              "      <td>0.060632</td>\n",
              "      <td>-4.977940</td>\n",
              "      <td>-5.366283</td>\n",
              "      <td>5.622905</td>\n",
              "    </tr>\n",
              "    <tr>\n",
              "      <th>1</th>\n",
              "      <td>1</td>\n",
              "      <td>T006 DSN_001</td>\n",
              "      <td>0.724184</td>\n",
              "      <td>0.018179</td>\n",
              "      <td>-6.424451</td>\n",
              "      <td>-8.215098</td>\n",
              "      <td>3.673885</td>\n",
              "    </tr>\n",
              "    <tr>\n",
              "      <th>2</th>\n",
              "      <td>2</td>\n",
              "      <td>T006 DSN_002</td>\n",
              "      <td>0.724241</td>\n",
              "      <td>0.012951</td>\n",
              "      <td>-6.452422</td>\n",
              "      <td>-8.123596</td>\n",
              "      <td>1.245573</td>\n",
              "    </tr>\n",
              "    <tr>\n",
              "      <th>3</th>\n",
              "      <td>3</td>\n",
              "      <td>T006 DSN_003</td>\n",
              "      <td>0.724184</td>\n",
              "      <td>0.018523</td>\n",
              "      <td>-6.395492</td>\n",
              "      <td>-8.374623</td>\n",
              "      <td>2.102441</td>\n",
              "    </tr>\n",
              "    <tr>\n",
              "      <th>4</th>\n",
              "      <td>4</td>\n",
              "      <td>T006 DSN_004</td>\n",
              "      <td>0.724207</td>\n",
              "      <td>0.013087</td>\n",
              "      <td>-6.535674</td>\n",
              "      <td>-8.658059</td>\n",
              "      <td>2.780464</td>\n",
              "    </tr>\n",
              "    <tr>\n",
              "      <th>...</th>\n",
              "      <td>...</td>\n",
              "      <td>...</td>\n",
              "      <td>...</td>\n",
              "      <td>...</td>\n",
              "      <td>...</td>\n",
              "      <td>...</td>\n",
              "      <td>...</td>\n",
              "    </tr>\n",
              "    <tr>\n",
              "      <th>995</th>\n",
              "      <td>995</td>\n",
              "      <td>T006 DSN_995</td>\n",
              "      <td>0.723134</td>\n",
              "      <td>0.030137</td>\n",
              "      <td>-6.175512</td>\n",
              "      <td>-6.857003</td>\n",
              "      <td>2.950256</td>\n",
              "    </tr>\n",
              "    <tr>\n",
              "      <th>996</th>\n",
              "      <td>996</td>\n",
              "      <td>T006 DSN_996</td>\n",
              "      <td>0.724201</td>\n",
              "      <td>0.018668</td>\n",
              "      <td>-6.426329</td>\n",
              "      <td>-8.284552</td>\n",
              "      <td>2.422116</td>\n",
              "    </tr>\n",
              "    <tr>\n",
              "      <th>997</th>\n",
              "      <td>997</td>\n",
              "      <td>T006 DSN_997</td>\n",
              "      <td>0.724063</td>\n",
              "      <td>0.027954</td>\n",
              "      <td>-6.543067</td>\n",
              "      <td>-7.889432</td>\n",
              "      <td>2.725608</td>\n",
              "    </tr>\n",
              "    <tr>\n",
              "      <th>998</th>\n",
              "      <td>998</td>\n",
              "      <td>T006 DSN_998</td>\n",
              "      <td>0.724212</td>\n",
              "      <td>0.022010</td>\n",
              "      <td>-6.407270</td>\n",
              "      <td>-8.054449</td>\n",
              "      <td>2.908295</td>\n",
              "    </tr>\n",
              "    <tr>\n",
              "      <th>999</th>\n",
              "      <td>999</td>\n",
              "      <td>T006 DSN_999</td>\n",
              "      <td>0.724164</td>\n",
              "      <td>0.014425</td>\n",
              "      <td>-6.388792</td>\n",
              "      <td>-8.610080</td>\n",
              "      <td>1.884998</td>\n",
              "    </tr>\n",
              "  </tbody>\n",
              "</table>\n",
              "<p>1000 rows × 7 columns</p>\n",
              "</div>"
            ],
            "text/plain": [
              "     Unnamed: 0           DIR       c_L       c_D   rms_rho    rms_nu  \\\n",
              "0             0  T006 DSN_000  0.712967  0.060632 -4.977940 -5.366283   \n",
              "1             1  T006 DSN_001  0.724184  0.018179 -6.424451 -8.215098   \n",
              "2             2  T006 DSN_002  0.724241  0.012951 -6.452422 -8.123596   \n",
              "3             3  T006 DSN_003  0.724184  0.018523 -6.395492 -8.374623   \n",
              "4             4  T006 DSN_004  0.724207  0.013087 -6.535674 -8.658059   \n",
              "..          ...           ...       ...       ...       ...       ...   \n",
              "995         995  T006 DSN_995  0.723134  0.030137 -6.175512 -6.857003   \n",
              "996         996  T006 DSN_996  0.724201  0.018668 -6.426329 -8.284552   \n",
              "997         997  T006 DSN_997  0.724063  0.027954 -6.543067 -7.889432   \n",
              "998         998  T006 DSN_998  0.724212  0.022010 -6.407270 -8.054449   \n",
              "999         999  T006 DSN_999  0.724164  0.014425 -6.388792 -8.610080   \n",
              "\n",
              "          AOA  \n",
              "0    5.622905  \n",
              "1    3.673885  \n",
              "2    1.245573  \n",
              "3    2.102441  \n",
              "4    2.780464  \n",
              "..        ...  \n",
              "995  2.950256  \n",
              "996  2.422116  \n",
              "997  2.725608  \n",
              "998  2.908295  \n",
              "999  1.884998  \n",
              "\n",
              "[1000 rows x 7 columns]"
            ]
          },
          "metadata": {
            "tags": []
          },
          "execution_count": 3
        }
      ]
    },
    {
      "cell_type": "code",
      "metadata": {
        "id": "mqFpsPPjL34v"
      },
      "source": [
        "N = df_result.shape[0]"
      ],
      "execution_count": null,
      "outputs": []
    },
    {
      "cell_type": "code",
      "metadata": {
        "id": "HLjeFs5DL34w",
        "outputId": "53743330-eca4-4930-f8ec-fa5aa1d3f777"
      },
      "source": [
        "df_cd_grad"
      ],
      "execution_count": null,
      "outputs": [
        {
          "output_type": "execute_result",
          "data": {
            "text/html": [
              "<div>\n",
              "<style scoped>\n",
              "    .dataframe tbody tr th:only-of-type {\n",
              "        vertical-align: middle;\n",
              "    }\n",
              "\n",
              "    .dataframe tbody tr th {\n",
              "        vertical-align: top;\n",
              "    }\n",
              "\n",
              "    .dataframe thead th {\n",
              "        text-align: right;\n",
              "    }\n",
              "</style>\n",
              "<table border=\"1\" class=\"dataframe\">\n",
              "  <thead>\n",
              "    <tr style=\"text-align: right;\">\n",
              "      <th></th>\n",
              "      <th>Unnamed: 0</th>\n",
              "      <th>VAR</th>\n",
              "      <th>CD_GRAD</th>\n",
              "      <th>STEP</th>\n",
              "      <th>DIR</th>\n",
              "    </tr>\n",
              "  </thead>\n",
              "  <tbody>\n",
              "    <tr>\n",
              "      <th>0</th>\n",
              "      <td>0</td>\n",
              "      <td>0</td>\n",
              "      <td>0.761449</td>\n",
              "      <td>0.001</td>\n",
              "      <td>T006 DSN_000</td>\n",
              "    </tr>\n",
              "    <tr>\n",
              "      <th>1</th>\n",
              "      <td>1</td>\n",
              "      <td>1</td>\n",
              "      <td>0.753202</td>\n",
              "      <td>0.001</td>\n",
              "      <td>T006 DSN_000</td>\n",
              "    </tr>\n",
              "    <tr>\n",
              "      <th>2</th>\n",
              "      <td>2</td>\n",
              "      <td>2</td>\n",
              "      <td>0.645545</td>\n",
              "      <td>0.001</td>\n",
              "      <td>T006 DSN_000</td>\n",
              "    </tr>\n",
              "    <tr>\n",
              "      <th>3</th>\n",
              "      <td>3</td>\n",
              "      <td>3</td>\n",
              "      <td>0.502804</td>\n",
              "      <td>0.001</td>\n",
              "      <td>T006 DSN_000</td>\n",
              "    </tr>\n",
              "    <tr>\n",
              "      <th>4</th>\n",
              "      <td>4</td>\n",
              "      <td>4</td>\n",
              "      <td>0.356495</td>\n",
              "      <td>0.001</td>\n",
              "      <td>T006 DSN_000</td>\n",
              "    </tr>\n",
              "    <tr>\n",
              "      <th>...</th>\n",
              "      <td>...</td>\n",
              "      <td>...</td>\n",
              "      <td>...</td>\n",
              "      <td>...</td>\n",
              "      <td>...</td>\n",
              "    </tr>\n",
              "    <tr>\n",
              "      <th>37995</th>\n",
              "      <td>33</td>\n",
              "      <td>33</td>\n",
              "      <td>-0.448886</td>\n",
              "      <td>0.001</td>\n",
              "      <td>T006 DSN_999</td>\n",
              "    </tr>\n",
              "    <tr>\n",
              "      <th>37996</th>\n",
              "      <td>34</td>\n",
              "      <td>34</td>\n",
              "      <td>-0.264682</td>\n",
              "      <td>0.001</td>\n",
              "      <td>T006 DSN_999</td>\n",
              "    </tr>\n",
              "    <tr>\n",
              "      <th>37997</th>\n",
              "      <td>35</td>\n",
              "      <td>35</td>\n",
              "      <td>-0.084116</td>\n",
              "      <td>0.001</td>\n",
              "      <td>T006 DSN_999</td>\n",
              "    </tr>\n",
              "    <tr>\n",
              "      <th>37998</th>\n",
              "      <td>36</td>\n",
              "      <td>36</td>\n",
              "      <td>0.204847</td>\n",
              "      <td>0.001</td>\n",
              "      <td>T006 DSN_999</td>\n",
              "    </tr>\n",
              "    <tr>\n",
              "      <th>37999</th>\n",
              "      <td>37</td>\n",
              "      <td>37</td>\n",
              "      <td>0.806494</td>\n",
              "      <td>0.001</td>\n",
              "      <td>T006 DSN_999</td>\n",
              "    </tr>\n",
              "  </tbody>\n",
              "</table>\n",
              "<p>38000 rows × 5 columns</p>\n",
              "</div>"
            ],
            "text/plain": [
              "       Unnamed: 0  VAR   CD_GRAD   STEP           DIR\n",
              "0               0    0  0.761449  0.001  T006 DSN_000\n",
              "1               1    1  0.753202  0.001  T006 DSN_000\n",
              "2               2    2  0.645545  0.001  T006 DSN_000\n",
              "3               3    3  0.502804  0.001  T006 DSN_000\n",
              "4               4    4  0.356495  0.001  T006 DSN_000\n",
              "...           ...  ...       ...    ...           ...\n",
              "37995          33   33 -0.448886  0.001  T006 DSN_999\n",
              "37996          34   34 -0.264682  0.001  T006 DSN_999\n",
              "37997          35   35 -0.084116  0.001  T006 DSN_999\n",
              "37998          36   36  0.204847  0.001  T006 DSN_999\n",
              "37999          37   37  0.806494  0.001  T006 DSN_999\n",
              "\n",
              "[38000 rows x 5 columns]"
            ]
          },
          "metadata": {
            "tags": []
          },
          "execution_count": 5
        }
      ]
    },
    {
      "cell_type": "code",
      "metadata": {
        "id": "b3LenaUlL34y"
      },
      "source": [
        ""
      ],
      "execution_count": null,
      "outputs": []
    },
    {
      "cell_type": "markdown",
      "metadata": {
        "id": "AxpjJLQQL34z"
      },
      "source": [
        "### Then the non-converged results (rms_rho < -6) are removed from the dataset:"
      ]
    },
    {
      "cell_type": "code",
      "metadata": {
        "id": "wAPOhm9PL340",
        "outputId": "0afee141-ead1-4a30-8f25-0064c352303c"
      },
      "source": [
        "plt.plot(df_result[\"rms_nu\"], df_result[\"c_D\"], \"o\", label=\"nu\")\n",
        "plt.plot(df_result[\"rms_rho\"], df_result[\"c_D\"], \"o\")\n",
        "plt.vlines([-6], 0.01, 0.1, ls=\"--\")"
      ],
      "execution_count": null,
      "outputs": [
        {
          "output_type": "execute_result",
          "data": {
            "text/plain": [
              "<matplotlib.collections.LineCollection at 0x2596c124490>"
            ]
          },
          "metadata": {
            "tags": []
          },
          "execution_count": 6
        },
        {
          "output_type": "display_data",
          "data": {
            "image/png": "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\n",
            "text/plain": [
              "<Figure size 432x288 with 1 Axes>"
            ]
          },
          "metadata": {
            "tags": [],
            "needs_background": "light"
          }
        }
      ]
    },
    {
      "cell_type": "code",
      "metadata": {
        "id": "_Jap54iQL345"
      },
      "source": [
        "sim_converged = df_result[\"rms_rho\"] < -6\n",
        "\n",
        "dv_mat = np.asarray(dv_list)[sim_converged]\n",
        "c_D = df_result[\"c_D\"].values[sim_converged]\n",
        "d_CD = np.resize(df_cd_grad[\"CD_GRAD\"].values, ((N, 38)))[sim_converged]"
      ],
      "execution_count": null,
      "outputs": []
    },
    {
      "cell_type": "code",
      "metadata": {
        "id": "DPSvxvTEL346",
        "outputId": "0aa4810b-04a8-459e-9ea2-6f1f2d7f1d40"
      },
      "source": [
        "d_CD"
      ],
      "execution_count": null,
      "outputs": [
        {
          "output_type": "execute_result",
          "data": {
            "text/plain": [
              "array([[ 0.621198 ,  0.638195 ,  0.582739 , ..., -0.0946435,  0.303852 ,\n",
              "        -0.0358609],\n",
              "       [ 1.02982  ,  0.972347 ,  0.787893 , ..., -0.0362501, -0.0067322,\n",
              "        -0.0577502],\n",
              "       [ 1.17377  ,  1.13068  ,  0.952909 , ..., -0.0334564,  0.157533 ,\n",
              "         0.0435074],\n",
              "       ...,\n",
              "       [ 1.18327  ,  1.17908  ,  1.03277  , ..., -0.210642 ,  0.105212 ,\n",
              "         0.834902 ],\n",
              "       [ 0.951534 ,  0.914583 ,  0.754744 , ..., -0.293871 , -0.182783 ,\n",
              "        -0.0751327],\n",
              "       [ 1.1175   ,  1.07552  ,  0.900379 , ..., -0.0841159,  0.204847 ,\n",
              "         0.806494 ]])"
            ]
          },
          "metadata": {
            "tags": []
          },
          "execution_count": 8
        }
      ]
    },
    {
      "cell_type": "code",
      "metadata": {
        "id": "dB-T9p02L347",
        "outputId": "176bec79-727c-450f-af7e-e4bae4feedb4"
      },
      "source": [
        "d_CD.shape[0]"
      ],
      "execution_count": null,
      "outputs": [
        {
          "output_type": "execute_result",
          "data": {
            "text/plain": [
              "924"
            ]
          },
          "metadata": {
            "tags": []
          },
          "execution_count": 9
        }
      ]
    },
    {
      "cell_type": "markdown",
      "metadata": {
        "id": "j6k0Gh7OL348"
      },
      "source": [
        "### Calculation of the covariance matrix and eigenvalue decomposition:"
      ]
    },
    {
      "cell_type": "code",
      "metadata": {
        "id": "6PacgdtDL349"
      },
      "source": [
        "C = np.zeros((38,38))\n",
        "for i in range(d_CD.shape[0]):\n",
        "    C += np.outer(d_CD[i], d_CD[i])\n",
        "C = C / d_CD.shape[0]"
      ],
      "execution_count": null,
      "outputs": []
    },
    {
      "cell_type": "code",
      "metadata": {
        "id": "814VL7tfL34-",
        "outputId": "faa3781e-bf36-43d3-ceda-3b0d4efe89a2"
      },
      "source": [
        "i = 0\n",
        "np.outer(d_CD[i], d_CD[i]), d_CD[i]*d_CD[0,i]"
      ],
      "execution_count": null,
      "outputs": [
        {
          "output_type": "execute_result",
          "data": {
            "text/plain": [
              "(array([[ 0.38588696,  0.39644546,  0.3619963 , ..., -0.05879235,\n",
              "          0.18875225, -0.02227672],\n",
              "        [ 0.39644546,  0.40729286,  0.37190112, ..., -0.06040101,\n",
              "          0.19391683, -0.02288625],\n",
              "        [ 0.3619963 ,  0.37190112,  0.33958474, ..., -0.05515246,\n",
              "          0.17706641, -0.02089755],\n",
              "        ...,\n",
              "        [-0.05879235, -0.06040101, -0.05515246, ...,  0.00895739,\n",
              "         -0.02875762,  0.003394  ],\n",
              "        [ 0.18875225,  0.19391683,  0.17706641, ..., -0.02875762,\n",
              "          0.09232604, -0.01089641],\n",
              "        [-0.02227672, -0.02288625, -0.02089755, ...,  0.003394  ,\n",
              "         -0.01089641,  0.001286  ]]),\n",
              " array([ 0.38588696,  0.39644546,  0.3619963 ,  0.31247129,  0.26217227,\n",
              "         0.2192568 ,  0.18811925,  0.17037225,  0.16553125,  0.17172398,\n",
              "         0.18643208,  0.20713909,  0.23156522,  0.25692687,  0.27682074,\n",
              "         0.27162628,  0.17839937, -0.20597994, -1.41561706,  4.11382785,\n",
              "         3.66693801,  2.87701642,  2.01840897,  1.20559002,  0.49782497,\n",
              "        -0.074586  , -0.50012154, -0.78073407, -0.92890222, -0.96641015,\n",
              "        -0.92346052, -0.83452361, -0.72550336, -0.59130036, -0.38224487,\n",
              "        -0.05879235,  0.18875225, -0.02227672]))"
            ]
          },
          "metadata": {
            "tags": []
          },
          "execution_count": 11
        }
      ]
    },
    {
      "cell_type": "code",
      "metadata": {
        "id": "4oziCA69L34_",
        "outputId": "4512891e-8fde-4419-9d50-b6dedcdf0ad4"
      },
      "source": [
        "d_CD[i].reshape(1, -1).T @ d_CD[i].reshape(1, -1) - np.outer(d_CD[i], d_CD[i])"
      ],
      "execution_count": null,
      "outputs": [
        {
          "output_type": "execute_result",
          "data": {
            "text/plain": [
              "array([[0., 0., 0., ..., 0., 0., 0.],\n",
              "       [0., 0., 0., ..., 0., 0., 0.],\n",
              "       [0., 0., 0., ..., 0., 0., 0.],\n",
              "       ...,\n",
              "       [0., 0., 0., ..., 0., 0., 0.],\n",
              "       [0., 0., 0., ..., 0., 0., 0.],\n",
              "       [0., 0., 0., ..., 0., 0., 0.]])"
            ]
          },
          "metadata": {
            "tags": []
          },
          "execution_count": 12
        }
      ]
    },
    {
      "cell_type": "code",
      "metadata": {
        "id": "_m7ytcIJL34_",
        "outputId": "9bc4cba0-bf25-4f97-f89c-d62a60e0022a"
      },
      "source": [
        "l, W = linalg.eig(C)\n",
        "l = l.astype(\"double\")\n",
        "print(l.cumsum() / l.sum())\n",
        "print(np.cumsum(l**2) / np.sum(l**2))\n",
        "print((l**2) / np.sum(l**2))\n",
        "\n",
        "plt.plot(range(1,39), l.cumsum() / l.sum(), \"-s\")\n",
        "plt.hlines([0.99], 0, 38, ls=\"--\")\n",
        "plt.gca().set_xlabel(\"Eigenmodes\")\n",
        "plt.gca().set_ylabel(\"Cum. Fraction of Total EV\")"
      ],
      "execution_count": null,
      "outputs": [
        {
          "output_type": "stream",
          "text": [
            "[0.86080854 0.92919283 0.97347704 0.98481632 0.99171722 0.99545644\n",
            " 0.99755559 0.99875893 0.99946851 0.99981637 0.9999033  0.99996437\n",
            " 0.99997923 0.99999113 0.99999558 0.99999834 0.99999934 0.99999973\n",
            " 0.99999992 0.99999996 0.99999999 1.         1.         1.\n",
            " 1.         1.         1.         1.         1.         1.\n",
            " 1.         1.         1.         1.         1.         1.\n",
            " 1.         1.        ]\n",
            "[0.99086127 0.99711461 0.99973701 0.99990894 0.99997262 0.99999132\n",
            " 0.99999721 0.99999915 0.99999982 0.99999998 0.99999999 1.\n",
            " 1.         1.         1.         1.         1.         1.\n",
            " 1.         1.         1.         1.         1.         1.\n",
            " 1.         1.         1.         1.         1.         1.\n",
            " 1.         1.         1.         1.         1.         1.\n",
            " 1.         1.        ]\n",
            "[9.90861268e-01 6.25334627e-03 2.62239162e-03 1.71937392e-04\n",
            " 6.36811926e-05 1.86965179e-05 5.89234078e-06 1.93633119e-06\n",
            " 6.73277271e-07 1.61817389e-07 1.01038171e-08 4.98735002e-09\n",
            " 2.95517668e-10 1.89192868e-10 2.64543685e-11 1.01814857e-11\n",
            " 1.35019261e-12 2.04661950e-13 4.89646033e-14 2.04423601e-15\n",
            " 1.32256320e-15 1.39107069e-17 8.96451653e-18 4.77806797e-20\n",
            " 2.97370651e-20 2.12353384e-22 6.84740414e-23 6.81011686e-25\n",
            " 9.01242127e-26 3.02060695e-27 1.20897186e-27 6.04250926e-28\n",
            " 3.22719371e-28 3.01219757e-29 4.42853495e-30 3.31851673e-31\n",
            " 4.90532545e-31 1.61092668e-30]\n"
          ],
          "name": "stdout"
        },
        {
          "output_type": "stream",
          "text": [
            "<ipython-input-13-0718ee9b5381>:2: ComplexWarning: Casting complex values to real discards the imaginary part\n",
            "  l = l.astype(\"double\")\n"
          ],
          "name": "stderr"
        },
        {
          "output_type": "execute_result",
          "data": {
            "text/plain": [
              "Text(0, 0.5, 'Cum. Fraction of Total EV')"
            ]
          },
          "metadata": {
            "tags": []
          },
          "execution_count": 13
        },
        {
          "output_type": "display_data",
          "data": {
            "image/png": "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\n",
            "text/plain": [
              "<Figure size 432x288 with 1 Axes>"
            ]
          },
          "metadata": {
            "tags": [],
            "needs_background": "light"
          }
        }
      ]
    },
    {
      "cell_type": "markdown",
      "metadata": {
        "id": "VZeLDWbHL35A"
      },
      "source": [
        "### Alternatively, the subspace coordinates can be calculated using PCA:"
      ]
    },
    {
      "cell_type": "code",
      "metadata": {
        "id": "CK2cKzFcL35C",
        "outputId": "c70e2e7e-4b89-4a9e-88d5-af34eacf0384"
      },
      "source": [
        "pca = PCA(whiten=True)\n",
        "pca.fit(d_CD)\n",
        "print(pca.score(d_CD))"
      ],
      "execution_count": null,
      "outputs": [
        {
          "output_type": "stream",
          "text": [
            "-inf\n"
          ],
          "name": "stdout"
        }
      ]
    },
    {
      "cell_type": "code",
      "metadata": {
        "id": "drGoKUazL35D",
        "outputId": "f5d884b8-dbb3-4bd2-ff44-d327a0f161e7"
      },
      "source": [
        "print(pca.explained_variance_ratio_.cumsum())\n",
        "print(pca.explained_variance_ratio_)\n",
        "#print((pca.singular_values_**2) / np. sum(pca.singular_values_**2))\n",
        "plt.plot(range(1,39), pca.explained_variance_ratio_.cumsum(), \"-s\")\n",
        "plt.hlines([0.99], 0, 38, ls=\"--\")\n",
        "plt.gca().set_xlabel(\"Eigenmodes\")\n",
        "plt.gca().set_ylabel(\"Cum. Fraction of Total EV\")"
      ],
      "execution_count": null,
      "outputs": [
        {
          "output_type": "stream",
          "text": [
            "[0.81602317 0.92460194 0.97177398 0.98457641 0.99078203 0.99477067\n",
            " 0.99699236 0.99841531 0.9991921  0.99971976 0.9998493  0.99994653\n",
            " 0.99996947 0.99998662 0.99999313 0.99999743 0.99999903 0.99999961\n",
            " 0.99999989 0.99999994 0.99999999 1.         1.         1.\n",
            " 1.         1.         1.         1.         1.         1.\n",
            " 1.         1.         1.         1.         1.         1.\n",
            " 1.         1.        ]\n",
            "[8.16023171e-01 1.08578766e-01 4.71720458e-02 1.28024264e-02\n",
            " 6.20562130e-03 3.98863739e-03 2.22168963e-03 1.42294941e-03\n",
            " 7.76794791e-04 5.27661980e-04 1.29536231e-04 9.72271255e-05\n",
            " 2.29430734e-05 1.71479538e-05 6.50881344e-06 4.30471468e-06\n",
            " 1.59474052e-06 5.87406848e-07 2.75192185e-07 5.45284306e-08\n",
            " 4.72507599e-08 4.88308411e-09 4.12301427e-09 2.81874689e-10\n",
            " 2.28802424e-10 1.81796370e-11 1.10952464e-11 8.12299018e-13\n",
            " 4.11717057e-13 7.56215011e-14 4.46018627e-14 3.37601482e-14\n",
            " 2.46518151e-14 7.27621709e-15 2.89699765e-15 1.74830879e-15\n",
            " 9.64697638e-16 7.87720401e-16]\n"
          ],
          "name": "stdout"
        },
        {
          "output_type": "execute_result",
          "data": {
            "text/plain": [
              "Text(0, 0.5, 'Cum. Fraction of Total EV')"
            ]
          },
          "metadata": {
            "tags": []
          },
          "execution_count": 15
        },
        {
          "output_type": "display_data",
          "data": {
            "image/png": "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\n",
            "text/plain": [
              "<Figure size 432x288 with 1 Axes>"
            ]
          },
          "metadata": {
            "tags": [],
            "needs_background": "light"
          }
        }
      ]
    },
    {
      "cell_type": "code",
      "metadata": {
        "id": "mnmcaIT6L35D",
        "outputId": "82eac33b-4ccb-4b1d-c9e7-70c6690a826d"
      },
      "source": [
        "r = 5\n",
        "pca = PCA(whiten=True, n_components=r, svd_solver=\"full\")\n",
        "pca.fit(d_CD)\n",
        "pca.score(d_CD)"
      ],
      "execution_count": null,
      "outputs": [
        {
          "output_type": "execute_result",
          "data": {
            "text/plain": [
              "3.4825008640732027"
            ]
          },
          "metadata": {
            "tags": []
          },
          "execution_count": 16
        }
      ]
    },
    {
      "cell_type": "code",
      "metadata": {
        "id": "_wJtj7VXL35F"
      },
      "source": [
        ""
      ],
      "execution_count": null,
      "outputs": []
    },
    {
      "cell_type": "markdown",
      "metadata": {
        "id": "mdsYIAL6L35F"
      },
      "source": [
        "### Transformation of the design variables into the active subspace (dv_mat --> Y):"
      ]
    },
    {
      "cell_type": "code",
      "metadata": {
        "id": "Peb_DXr2L35G",
        "outputId": "3e321695-19fd-4e1a-bfe9-dd9ca909196c"
      },
      "source": [
        "Y = pca.transform(dv_mat)\n",
        "Y.shape"
      ],
      "execution_count": null,
      "outputs": [
        {
          "output_type": "execute_result",
          "data": {
            "text/plain": [
              "(924, 5)"
            ]
          },
          "metadata": {
            "tags": []
          },
          "execution_count": 17
        }
      ]
    },
    {
      "cell_type": "code",
      "metadata": {
        "id": "wc3K71UjL35I",
        "outputId": "7e477c1b-ca04-4dd0-908a-89993f3d7735"
      },
      "source": [
        "Y2 = np.dot(W[:r,:], dv_mat.T).T\n",
        "Y2.shape"
      ],
      "execution_count": null,
      "outputs": [
        {
          "output_type": "execute_result",
          "data": {
            "text/plain": [
              "(924, 5)"
            ]
          },
          "metadata": {
            "tags": []
          },
          "execution_count": 18
        }
      ]
    },
    {
      "cell_type": "code",
      "metadata": {
        "id": "WdcrQU9zL35J"
      },
      "source": [
        "#Y = dv_mat @ pca.components_.T"
      ],
      "execution_count": null,
      "outputs": []
    },
    {
      "cell_type": "code",
      "metadata": {
        "id": "Ml6oI6z9L35K"
      },
      "source": [
        ""
      ],
      "execution_count": null,
      "outputs": []
    },
    {
      "cell_type": "code",
      "metadata": {
        "id": "UKII5xaxL35K",
        "outputId": "788950e9-cde4-4597-830f-80a55da3f2be"
      },
      "source": [
        "Y"
      ],
      "execution_count": null,
      "outputs": [
        {
          "output_type": "execute_result",
          "data": {
            "text/plain": [
              "array([[-0.80459953, -0.05636308, -0.76507937, -0.45423668,  0.49722243],\n",
              "       [-0.80459123, -0.05636681, -0.76513224, -0.45427748,  0.49712055],\n",
              "       [-0.80459143, -0.05636791, -0.76509718, -0.4542845 ,  0.49721154],\n",
              "       ...,\n",
              "       [-0.8045928 , -0.05636514, -0.76508983, -0.45429842,  0.49711002],\n",
              "       [-0.80459391, -0.05637472, -0.76512397, -0.45420128,  0.49713149],\n",
              "       [-0.80459672, -0.05636842, -0.76511455, -0.45430416,  0.49709569]])"
            ]
          },
          "metadata": {
            "tags": []
          },
          "execution_count": 20
        }
      ]
    },
    {
      "cell_type": "code",
      "metadata": {
        "id": "C6KxuVrpL35L",
        "outputId": "d5bf9eb9-6138-46aa-ef6e-146f3fc7d152"
      },
      "source": [
        "Y2"
      ],
      "execution_count": null,
      "outputs": [
        {
          "output_type": "execute_result",
          "data": {
            "text/plain": [
              "array([[-4.55573754e-05, -2.16838251e-06, -1.98586184e-05,\n",
              "        -3.57888973e-05,  5.01396998e-05],\n",
              "       [ 1.72983810e-05, -1.58596527e-05,  2.33136174e-05,\n",
              "         4.29019506e-05, -6.55704059e-06],\n",
              "       [-5.62943591e-06, -1.85386409e-05,  2.79208277e-05,\n",
              "        -4.11101760e-05,  1.26161902e-05],\n",
              "       ...,\n",
              "       [ 3.18355841e-05, -1.14914406e-06,  9.98718189e-06,\n",
              "         4.27524960e-05, -1.12963876e-05],\n",
              "       [-1.52721601e-05,  1.24709554e-05,  1.90286079e-05,\n",
              "        -5.59610604e-05, -2.49566020e-05],\n",
              "       [ 5.45419009e-06, -9.09936987e-06, -4.35626359e-05,\n",
              "         1.94933402e-05, -2.84067472e-05]])"
            ]
          },
          "metadata": {
            "tags": []
          },
          "execution_count": 21
        }
      ]
    },
    {
      "cell_type": "code",
      "metadata": {
        "id": "kOh3Jyg6L35L",
        "outputId": "51295de0-60c3-4102-c304-25b57757a7c5"
      },
      "source": [
        "dimx = 3\n",
        "dimy = int(np.ceil(r / dimx))\n",
        "\n",
        "\n",
        "fig, axes = plt.subplots(dimy, dimx, figsize=(16, dimy*4))\n",
        "\n",
        "#plt.gca().invert_yaxis()\n",
        "\n",
        "for k, ax in enumerate(axes.flat):\n",
        "    if k < r:\n",
        "        ax.hist(Y[:,k])"
      ],
      "execution_count": null,
      "outputs": [
        {
          "output_type": "display_data",
          "data": {
            "image/png": "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\n",
            "text/plain": [
              "<Figure size 1152x576 with 6 Axes>"
            ]
          },
          "metadata": {
            "tags": [],
            "needs_background": "light"
          }
        }
      ]
    },
    {
      "cell_type": "code",
      "metadata": {
        "id": "8_LYhpOeL35M"
      },
      "source": [
        "#plt.hist(Y2[:,1])"
      ],
      "execution_count": null,
      "outputs": []
    },
    {
      "cell_type": "code",
      "metadata": {
        "id": "Jy9ieUJ-L35M"
      },
      "source": [
        "#pca.singular_values_"
      ],
      "execution_count": null,
      "outputs": []
    },
    {
      "cell_type": "code",
      "metadata": {
        "id": "HV9taS_ML35N"
      },
      "source": [
        ""
      ],
      "execution_count": null,
      "outputs": []
    },
    {
      "cell_type": "markdown",
      "metadata": {
        "id": "9SGKYqh_L35N"
      },
      "source": [
        "### Split data into train and test sets:\n",
        " (Arguably, this should be done before the unsupervised learning part/PCA)"
      ]
    },
    {
      "cell_type": "code",
      "metadata": {
        "id": "fTXYcoN6L35N"
      },
      "source": [
        "from sklearn.model_selection import train_test_split"
      ],
      "execution_count": null,
      "outputs": []
    },
    {
      "cell_type": "code",
      "metadata": {
        "id": "nBCE_SyrL35O"
      },
      "source": [
        "x_train, x_test, y_train, y_test = train_test_split(Y, c_D, test_size=0.2, random_state=3)\n"
      ],
      "execution_count": null,
      "outputs": []
    },
    {
      "cell_type": "code",
      "metadata": {
        "id": "aDGJqySTL35P"
      },
      "source": [
        ""
      ],
      "execution_count": null,
      "outputs": []
    },
    {
      "cell_type": "markdown",
      "metadata": {
        "id": "71l7Bk9cL35P"
      },
      "source": [
        "### Fit a GaussianProcessRegressor to the training data and evaluate for train and test data:"
      ]
    },
    {
      "cell_type": "code",
      "metadata": {
        "id": "Ysz26jefL35Q"
      },
      "source": [
        "from sklearn.gaussian_process import GaussianProcessRegressor\n",
        "from sklearn.gaussian_process.kernels import (RBF, Matern, RationalQuadratic,\n",
        "                                              ExpSineSquared, DotProduct,\n",
        "                                              ConstantKernel, WhiteKernel)\n"
      ],
      "execution_count": null,
      "outputs": []
    },
    {
      "cell_type": "code",
      "metadata": {
        "id": "GTT31tWfL35R",
        "outputId": "fe5288f2-e739-4729-eb17-32b83ffde1c5"
      },
      "source": [
        "ls = length_scale = [1.e-05]*r\n",
        "ls"
      ],
      "execution_count": null,
      "outputs": [
        {
          "output_type": "execute_result",
          "data": {
            "text/plain": [
              "[1e-05, 1e-05, 1e-05, 1e-05, 1e-05]"
            ]
          },
          "metadata": {
            "tags": []
          },
          "execution_count": 28
        }
      ]
    },
    {
      "cell_type": "markdown",
      "metadata": {
        "id": "4zpEmTadL35S"
      },
      "source": [
        "#### Unfortunately, the GPR is very sensitive to the choice of kernel"
      ]
    },
    {
      "cell_type": "code",
      "metadata": {
        "id": "akCovOB0L35S"
      },
      "source": [
        "#kernel = Matern(length_scale=ls, nu=1.5) +  WhiteKernel(noise_level=1e-05, noise_level_bounds=(1e-09, 1e-04))"
      ],
      "execution_count": null,
      "outputs": []
    },
    {
      "cell_type": "code",
      "metadata": {
        "id": "3Xs7AKZXL35S"
      },
      "source": [
        "#kernel = RBF(length_scale=ls) + Matern(length_scale=ls, nu=1.5) #+ WhiteKernel() #+ RBF()"
      ],
      "execution_count": null,
      "outputs": []
    },
    {
      "cell_type": "code",
      "metadata": {
        "id": "6T2IAc82L35T"
      },
      "source": [
        "kernel = RBF(length_scale=ls) + WhiteKernel(noise_level=1e-05, noise_level_bounds=(1e-09, 1e-04))# + ConstantKernel()"
      ],
      "execution_count": null,
      "outputs": []
    },
    {
      "cell_type": "code",
      "metadata": {
        "id": "G8KdGALdL35T",
        "outputId": "bf764d49-190c-4a99-8015-f498a5964178"
      },
      "source": [
        "gp = GaussianProcessRegressor(kernel=kernel, n_restarts_optimizer=5, normalize_y=False)\n",
        "gp.fit(x_train, y_train)\n",
        "print(gp.kernel_)\n",
        "print(gp.score(x_train, y_train))\n",
        "print(gp.score(x_test, y_test))\n",
        "print(gp.log_marginal_likelihood())"
      ],
      "execution_count": null,
      "outputs": [
        {
          "output_type": "stream",
          "text": [
            "RBF(length_scale=[0.000118, 0.000215, 0.000379, 3.49e+04, 383]) + WhiteKernel(noise_level=1.7e-05)\n",
            "0.5826636707135395\n",
            "0.4262018358111287\n",
            "2972.518281904336\n"
          ],
          "name": "stdout"
        }
      ]
    },
    {
      "cell_type": "code",
      "metadata": {
        "id": "XjU0rPLAL35U"
      },
      "source": [
        ""
      ],
      "execution_count": null,
      "outputs": []
    },
    {
      "cell_type": "markdown",
      "metadata": {
        "id": "tXyHHhqHL35V"
      },
      "source": [
        "### Plot the prediction result of the GPR for training and test data:"
      ]
    },
    {
      "cell_type": "code",
      "metadata": {
        "id": "Vcnp0M0HL35W",
        "outputId": "245a8ad3-1abe-4434-dced-c28e3260362f"
      },
      "source": [
        "plt.figure(figsize=(12,5))\n",
        "\n",
        "plt.subplot(1, 2, 1)\n",
        "\n",
        "y_pred = gp.predict(x_train)\n",
        "#plt.plot(y_pred)\n",
        "plt.plot(y_train, y_pred, '+')\n",
        "plt.plot([0.01, 0.05], [0.01, 0.05], \"--\")\n",
        "\n",
        "#plt.gca().set_xlim([0.008, 0.042])\n",
        "#plt.gca().set_ylim([0.008, 0.042])\n",
        "ax1 = plt.gca()\n",
        "ax1.set_ylabel(\"Predicted $C_D$\")\n",
        "ax1.set_xlabel(\"True $C_D$\")\n",
        "ax1.set_title(\"Training Data\")\n",
        "\n",
        "plt.subplot(1, 2, 2)\n",
        "\n",
        "y_pred = gp.predict(x_test)\n",
        "#plt.plot(y_pred)\n",
        "plt.plot(y_test, y_pred, '+', label=\"asd\")\n",
        "plt.plot([0.01, 0.05], [0.01, 0.05], \"--\")\n",
        "#plt.plot(y_pred, 'o', c=\"r\")\n",
        "ax1.set_xlim(plt.gca().get_xlim())\n",
        "ax1.set_ylim(plt.gca().get_ylim())\n",
        "ax2 = plt.gca()\n",
        "ax2.set_ylabel(\"Predicted $C_D$\")\n",
        "ax2.set_xlabel(\"True $C_D$\")\n",
        "ax2.set_title(\"Validation Data\")"
      ],
      "execution_count": null,
      "outputs": [
        {
          "output_type": "execute_result",
          "data": {
            "text/plain": [
              "Text(0.5, 1.0, 'Validation Data')"
            ]
          },
          "metadata": {
            "tags": []
          },
          "execution_count": 33
        },
        {
          "output_type": "display_data",
          "data": {
            "image/png": "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\n",
            "text/plain": [
              "<Figure size 864x360 with 2 Axes>"
            ]
          },
          "metadata": {
            "tags": [],
            "needs_background": "light"
          }
        }
      ]
    },
    {
      "cell_type": "code",
      "metadata": {
        "id": "B7GfKP6LL35Z"
      },
      "source": [
        ""
      ],
      "execution_count": null,
      "outputs": []
    }
  ]
}
