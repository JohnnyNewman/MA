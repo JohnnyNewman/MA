{
 "cells": [
  {
   "cell_type": "markdown",
   "metadata": {
    "colab_type": "text",
    "id": "view-in-github"
   },
   "source": [
    "<a href=\"https://colab.research.google.com/github/JohnnyNewman/MA/blob/main/Evaluation_Notebook_1.ipynb\" target=\"_parent\"><img src=\"https://colab.research.google.com/assets/colab-badge.svg\" alt=\"Open In Colab\"/></a>"
   ]
  },
  {
   "cell_type": "code",
   "execution_count": 1,
   "metadata": {
    "id": "X07yasp6vOGB"
   },
   "outputs": [],
   "source": [
    "import os"
   ]
  },
  {
   "cell_type": "code",
   "execution_count": 2,
   "metadata": {
    "id": "jWALeLtEvWGe"
   },
   "outputs": [
    {
     "name": "stdout",
     "output_type": "stream",
     "text": [
      "('C:\\\\Users\\\\Nils\\\\Workspace\\\\MA_git', 'MA')\n"
     ]
    }
   ],
   "source": [
    "# check if already in right local directory\n",
    "# otherwise clone the repo from github and change directory\n",
    "\n",
    "cwd = os.getcwd()\n",
    "print(os.path.split(cwd))\n",
    "\n",
    "if not os.path.split(cwd)[1] == \"MA\":\n",
    "    !git clone https://www.github.com/JohnnyNewman/MA.git\n",
    "    os.chdir('MA')"
   ]
  },
  {
   "cell_type": "code",
   "execution_count": null,
   "metadata": {
    "id": "_E8ji2XGvCZx"
   },
   "outputs": [],
   "source": []
  },
  {
   "cell_type": "code",
   "execution_count": 3,
   "metadata": {
    "id": "5G2oE1HftiG_"
   },
   "outputs": [],
   "source": [
    "import pickle"
   ]
  },
  {
   "cell_type": "code",
   "execution_count": 4,
   "metadata": {
    "id": "7K-0JwqktiHP"
   },
   "outputs": [],
   "source": [
    "import torch"
   ]
  },
  {
   "cell_type": "code",
   "execution_count": 5,
   "metadata": {
    "id": "pQSX0hIXtiHX"
   },
   "outputs": [],
   "source": [
    "from base import *"
   ]
  },
  {
   "cell_type": "code",
   "execution_count": null,
   "metadata": {
    "id": "RQ8AIv33tiHY"
   },
   "outputs": [],
   "source": []
  },
  {
   "cell_type": "code",
   "execution_count": null,
   "metadata": {
    "id": "tG9JD9B_vBAR"
   },
   "outputs": [],
   "source": []
  },
  {
   "cell_type": "code",
   "execution_count": 6,
   "metadata": {
    "id": "6rpzZTYatiHd"
   },
   "outputs": [],
   "source": [
    "# load data\n",
    "\n",
    "x_train = pickle.load(open(\"save/x_train.p\", \"rb\"))\n",
    "x_test = pickle.load(open(\"save/x_test.p\", \"rb\"))\n",
    "y_train = pickle.load(open(\"save/y_train.p\", \"rb\"))\n",
    "y_test = pickle.load(open(\"save/y_test.p\", \"rb\"))\n",
    "c_D_train = pickle.load(open(\"save/c_D_train.p\", \"rb\"))\n",
    "c_D_test = pickle.load(open(\"save/c_D_test.p\", \"rb\"))"
   ]
  },
  {
   "cell_type": "code",
   "execution_count": null,
   "metadata": {
    "id": "5f2PxVHAtiHr"
   },
   "outputs": [],
   "source": []
  },
  {
   "cell_type": "code",
   "execution_count": null,
   "metadata": {},
   "outputs": [],
   "source": [
    "# load neural network models"
   ]
  },
  {
   "cell_type": "code",
   "execution_count": 7,
   "metadata": {
    "id": "bqsSrmcZtiHw"
   },
   "outputs": [],
   "source": [
    "net = torch.load(\"net6.pt\", map_location=torch.device('cpu')).eval()"
   ]
  },
  {
   "cell_type": "code",
   "execution_count": 8,
   "metadata": {
    "id": "SyQdFGXGtiHx"
   },
   "outputs": [],
   "source": [
    "tm2 = torch.load(\"net6_tm2.pt\", map_location=torch.device('cpu')).eval()"
   ]
  },
  {
   "cell_type": "code",
   "execution_count": null,
   "metadata": {
    "id": "jhsHub3XtiH3"
   },
   "outputs": [],
   "source": []
  },
  {
   "cell_type": "code",
   "execution_count": 9,
   "metadata": {
    "colab": {
     "base_uri": "https://localhost:8080/"
    },
    "id": "6U5BLFxetiH3",
    "outputId": "c8e04cc2-5118-49b7-9447-00d8dc10e89b"
   },
   "outputs": [
    {
     "data": {
      "text/plain": [
       "TestModel(\n",
       "  (encoder): Sequential(\n",
       "    (0): Conv1d(2, 32, kernel_size=(15,), stride=(1,), padding=(7,))\n",
       "    (1): PReLU(num_parameters=1)\n",
       "    (2): MaxPool1d(kernel_size=3, stride=3, padding=0, dilation=1, ceil_mode=False)\n",
       "    (3): Conv1d(32, 64, kernel_size=(15,), stride=(1,), padding=(7,))\n",
       "    (4): PReLU(num_parameters=1)\n",
       "    (5): MaxPool1d(kernel_size=2, stride=2, padding=0, dilation=1, ceil_mode=False)\n",
       "    (6): Conv1d(64, 32, kernel_size=(15,), stride=(1,), padding=(7,))\n",
       "    (7): PReLU(num_parameters=1)\n",
       "    (8): Linear(in_features=32, out_features=64, bias=True)\n",
       "    (9): Conv1d(32, 1, kernel_size=(1,), stride=(1,))\n",
       "  )\n",
       "  (decoder): Sequential(\n",
       "    (0): Linear(in_features=64, out_features=64, bias=True)\n",
       "    (1): ConvTranspose1d(1, 32, kernel_size=(7,), stride=(2,))\n",
       "    (2): PReLU(num_parameters=1)\n",
       "    (3): ConvTranspose1d(32, 64, kernel_size=(7,), stride=(2,))\n",
       "    (4): PReLU(num_parameters=1)\n",
       "    (5): ConvTranspose1d(64, 64, kernel_size=(7,), stride=(2,))\n",
       "    (6): PReLU(num_parameters=1)\n",
       "    (7): ConvTranspose1d(64, 4, kernel_size=(7,), stride=(2,))\n",
       "  )\n",
       ")"
      ]
     },
     "execution_count": 9,
     "metadata": {},
     "output_type": "execute_result"
    }
   ],
   "source": [
    "# display network architecture\n",
    "\n",
    "net"
   ]
  },
  {
   "cell_type": "code",
   "execution_count": 10,
   "metadata": {
    "id": "iS9HGvYttiH4"
   },
   "outputs": [],
   "source": [
    "# produce latent vectors from input\n",
    "\n",
    "Z_train = net.encoder(x_train).detach().view(-1, 64)\n",
    "Z_test = net.encoder(x_test).detach().view(-1, 64)"
   ]
  },
  {
   "cell_type": "code",
   "execution_count": 11,
   "metadata": {
    "id": "Q6EvSTHs2d8r"
   },
   "outputs": [],
   "source": [
    "Z = np.vstack((Z_train, Z_test))"
   ]
  },
  {
   "cell_type": "code",
   "execution_count": 12,
   "metadata": {
    "id": "T6y8B6Xg2x_P"
   },
   "outputs": [],
   "source": [
    "c_D = torch.cat((c_D_train, c_D_test))"
   ]
  },
  {
   "cell_type": "code",
   "execution_count": 13,
   "metadata": {
    "colab": {
     "base_uri": "https://localhost:8080/"
    },
    "id": "lufPyjJe25cO",
    "outputId": "a958dd5d-d3e7-4d38-8194-24525d2beca8"
   },
   "outputs": [
    {
     "data": {
      "text/plain": [
       "(torch.Size([924]), torch.Size([739]), torch.Size([185]))"
      ]
     },
     "execution_count": 13,
     "metadata": {},
     "output_type": "execute_result"
    }
   ],
   "source": [
    "c_D.shape, c_D_train.shape, c_D_test.shape"
   ]
  },
  {
   "cell_type": "code",
   "execution_count": null,
   "metadata": {
    "id": "soYNPeYCtiH4"
   },
   "outputs": [],
   "source": []
  },
  {
   "cell_type": "code",
   "execution_count": 14,
   "metadata": {
    "id": "0EcB666YtiH5"
   },
   "outputs": [],
   "source": [
    "from sklearn.manifold import TSNE"
   ]
  },
  {
   "cell_type": "code",
   "execution_count": 46,
   "metadata": {
    "colab": {
     "base_uri": "https://localhost:8080/",
     "height": 283
    },
    "id": "OV8Auv9ttiH7",
    "outputId": "e3e879ce-fe56-49e9-fd71-865dab8aedfd"
   },
   "outputs": [
    {
     "name": "stdout",
     "output_type": "stream",
     "text": [
      "(924, 2)\n"
     ]
    },
    {
     "data": {
      "text/plain": [
       "<matplotlib.collections.PathCollection at 0x1f6c1d6ca90>"
      ]
     },
     "execution_count": 46,
     "metadata": {},
     "output_type": "execute_result"
    },
    {
     "data": {
      "image/png": "[encoded data removed]",
      "text/plain": [
       "<Figure size 432x288 with 1 Axes>"
      ]
     },
     "metadata": {
      "needs_background": "light"
     },
     "output_type": "display_data"
    }
   ],
   "source": [
    "# create 2-dimensional representation of the latent vectors for vizualisation\n",
    "# using t-distributed stochastic neighbor embedding (t-SNE)\n",
    "\n",
    "tsne = TSNE(metric=\"cosine\")\n",
    "emb = tsne.fit_transform(Z)\n",
    "print(emb.shape)\n",
    "\n",
    "plt.scatter(emb[:,0], emb[:,1], c=np.clip(c_D, a_max=0.03, a_min=0))"
   ]
  },
  {
   "cell_type": "code",
   "execution_count": null,
   "metadata": {},
   "outputs": [],
   "source": []
  },
  {
   "cell_type": "code",
   "execution_count": null,
   "metadata": {},
   "outputs": [],
   "source": [
    "# Try to fit a Gaussian Process Regressor to the latent vectors (input) and c_D values (output)"
   ]
  },
  {
   "cell_type": "code",
   "execution_count": 19,
   "metadata": {
    "id": "hUlHBfhTtiH8"
   },
   "outputs": [],
   "source": [
    "from sklearn.gaussian_process.kernels import PairwiseKernel, Product\n",
    "from sklearn.gaussian_process import GaussianProcessRegressor\n",
    "from sklearn.gaussian_process.kernels import (RBF, Matern, RationalQuadratic,\n",
    "                                              ExpSineSquared, DotProduct,\n",
    "                                              ConstantKernel, WhiteKernel)\n"
   ]
  },
  {
   "cell_type": "code",
   "execution_count": 20,
   "metadata": {
    "id": "8q6Fk2FutiH8"
   },
   "outputs": [],
   "source": [
    "pk = PairwiseKernel(metric=\"cosine\")\n",
    "kernel = Product(pk, pk)\n",
    "kernel = ConstantKernel()*pk*pk + WhiteKernel(noise_level=1e-05, noise_level_bounds=(1e-12, 1e-03))"
   ]
  },
  {
   "cell_type": "code",
   "execution_count": 21,
   "metadata": {
    "colab": {
     "base_uri": "https://localhost:8080/"
    },
    "id": "hIiOkPvgtiH9",
    "outputId": "b7e27c4a-6cbc-40b4-9279-e29e8032e2a8"
   },
   "outputs": [
    {
     "name": "stdout",
     "output_type": "stream",
     "text": [
      "0.584**2 * PairwiseKernel(gamma=1.0, metric=cosine) * PairwiseKernel(gamma=1.0, metric=cosine) + WhiteKernel(noise_level=4.79e-06)\n",
      "0.8487006189482245\n",
      "0.8159446495405189\n",
      "3327.338373542557\n"
     ]
    }
   ],
   "source": [
    "gp = GaussianProcessRegressor(kernel=kernel, random_state=0, alpha=0.000001,n_restarts_optimizer=3).fit(Z_train, c_D_train)\n",
    "print(gp.kernel_)\n",
    "print(gp.score(Z_train, c_D_train))\n",
    "print(gp.score(Z_test, c_D_test))\n",
    "print(gp.log_marginal_likelihood())"
   ]
  },
  {
   "cell_type": "code",
   "execution_count": 22,
   "metadata": {
    "colab": {
     "base_uri": "https://localhost:8080/"
    },
    "id": "P91Z0jgbtiH-",
    "outputId": "cffb08eb-9541-4327-cbc8-ddec39deb841"
   },
   "outputs": [
    {
     "data": {
      "text/plain": [
       "(torch.Size([739, 64]), torch.Size([739, 4, 192]))"
      ]
     },
     "execution_count": 22,
     "metadata": {},
     "output_type": "execute_result"
    }
   ],
   "source": [
    "Z_train.shape, y_train.shape"
   ]
  },
  {
   "cell_type": "code",
   "execution_count": 23,
   "metadata": {
    "id": "HLtRNnfotiH_"
   },
   "outputs": [],
   "source": [
    "c_D_train_predicted = gp.predict(Z_train)\n",
    "c_D_test_predicted = gp.predict(Z_test)"
   ]
  },
  {
   "cell_type": "code",
   "execution_count": null,
   "metadata": {
    "id": "oOEaiZLptiIB"
   },
   "outputs": [],
   "source": []
  },
  {
   "cell_type": "code",
   "execution_count": 24,
   "metadata": {
    "colab": {
     "base_uri": "https://localhost:8080/",
     "height": 353
    },
    "id": "PLBpegTutiIB",
    "outputId": "c8edf886-a15a-49a3-8ab3-6c5415106b3a"
   },
   "outputs": [
    {
     "data": {
      "image/png": "[encoded data removed]",
      "text/plain": [
       "<Figure size 864x360 with 2 Axes>"
      ]
     },
     "metadata": {
      "needs_background": "light"
     },
     "output_type": "display_data"
    }
   ],
   "source": [
    "plt.figure(figsize=(12,5))\n",
    "\n",
    "plt.subplot(1, 2, 1)\n",
    "\n",
    "#plt.plot(y_pred)\n",
    "plt.plot(c_D_train, c_D_train_predicted, '+')\n",
    "plt.plot([0.01, 0.05], [0.01, 0.05], \"--\")\n",
    "\n",
    "#plt.gca().set_xlim([0.008, 0.042])\n",
    "#plt.gca().set_ylim([0.008, 0.042])\n",
    "ax1 = plt.gca()\n",
    "ax1.set_ylabel(\"Predicted $C_D$\")\n",
    "ax1.set_xlabel(\"True $C_D$\")\n",
    "ax1.set_title(\"Training Data\")\n",
    "\n",
    "plt.subplot(1, 2, 2)\n",
    "\n",
    "#plt.plot(y_pred)\n",
    "plt.plot(c_D_test, c_D_test_predicted, '+', label=\"asd\")\n",
    "plt.plot([0.01, 0.05], [0.01, 0.05], \"--\")\n",
    "#plt.plot(y_pred, 'o', c=\"r\")\n",
    "ax1.set_xlim(plt.gca().get_xlim())\n",
    "ax1.set_ylim(plt.gca().get_ylim())\n",
    "ax2 = plt.gca()\n",
    "ax2.set_ylabel(\"Predicted $C_D$\")\n",
    "ax2.set_xlabel(\"True $C_D$\")\n",
    "ax2.set_title(\"Validation Data\")\n",
    "pass"
   ]
  },
  {
   "cell_type": "code",
   "execution_count": 25,
   "metadata": {
    "id": "VdW41v84tiIC"
   },
   "outputs": [],
   "source": [
    "c_D_train_predicted2 = tm2(Z_train).detach()\n",
    "c_D_test_predicted2 = tm2(Z_test).detach()"
   ]
  },
  {
   "cell_type": "code",
   "execution_count": 26,
   "metadata": {
    "colab": {
     "base_uri": "https://localhost:8080/",
     "height": 371
    },
    "id": "Mvd8TCMctiID",
    "outputId": "7849ff3e-e521-4095-c606-3691b16492a8"
   },
   "outputs": [
    {
     "data": {
      "text/plain": [
       "Text(0.5, 1.0, 'Validation Data')"
      ]
     },
     "execution_count": 26,
     "metadata": {},
     "output_type": "execute_result"
    },
    {
     "data": {
      "image/png": "[encoded data removed]",
      "text/plain": [
       "<Figure size 864x360 with 2 Axes>"
      ]
     },
     "metadata": {
      "needs_background": "light"
     },
     "output_type": "display_data"
    }
   ],
   "source": [
    "plt.figure(figsize=(12,5))\n",
    "\n",
    "plt.subplot(1, 2, 1)\n",
    "\n",
    "#plt.plot(y_pred)\n",
    "plt.plot(c_D_train, c_D_train_predicted2, '+')\n",
    "plt.plot([0.01, 0.05], [0.01, 0.05], \"--\")\n",
    "\n",
    "#plt.gca().set_xlim([0.008, 0.042])\n",
    "#plt.gca().set_ylim([0.008, 0.042])\n",
    "ax1 = plt.gca()\n",
    "ax1.set_ylabel(\"Predicted $C_D$\")\n",
    "ax1.set_xlabel(\"True $C_D$\")\n",
    "ax1.set_title(\"Training Data\")\n",
    "\n",
    "plt.subplot(1, 2, 2)\n",
    "\n",
    "#plt.plot(y_pred)\n",
    "plt.plot(c_D_test, c_D_test_predicted2, '+', label=\"asd\")\n",
    "plt.plot([0.01, 0.05], [0.01, 0.05], \"--\")\n",
    "#plt.plot(y_pred, 'o', c=\"r\")\n",
    "ax1.set_xlim(plt.gca().get_xlim())\n",
    "ax1.set_ylim(plt.gca().get_ylim())\n",
    "ax2 = plt.gca()\n",
    "ax2.set_ylabel(\"Predicted $C_D$\")\n",
    "ax2.set_xlabel(\"True $C_D$\")\n",
    "ax2.set_title(\"Validation Data\")"
   ]
  },
  {
   "cell_type": "code",
   "execution_count": null,
   "metadata": {
    "id": "3jMKdHyztiIF"
   },
   "outputs": [],
   "source": []
  },
  {
   "cell_type": "code",
   "execution_count": null,
   "metadata": {
    "id": "NsG3ACvJtiIG"
   },
   "outputs": [],
   "source": [
    "# do a PCA decompositon of the latent vectors and fit GPR to this representation"
   ]
  },
  {
   "cell_type": "code",
   "execution_count": 27,
   "metadata": {
    "id": "oHLbHVOEtiIH"
   },
   "outputs": [],
   "source": [
    "from sklearn.decomposition import PCA"
   ]
  },
  {
   "cell_type": "code",
   "execution_count": 28,
   "metadata": {
    "colab": {
     "base_uri": "https://localhost:8080/"
    },
    "id": "_w6CU6RdtiII",
    "outputId": "8af9af38-bc17-4586-b761-d1d7475e3888"
   },
   "outputs": [
    {
     "data": {
      "text/plain": [
       "PCA(n_components=10, svd_solver='full')"
      ]
     },
     "execution_count": 28,
     "metadata": {},
     "output_type": "execute_result"
    }
   ],
   "source": [
    "pca = PCA(n_components=10, svd_solver=\"full\")\n",
    "pca.fit(Z_train)"
   ]
  },
  {
   "cell_type": "code",
   "execution_count": 29,
   "metadata": {
    "colab": {
     "base_uri": "https://localhost:8080/"
    },
    "id": "l770aMrLtiIJ",
    "outputId": "0c8df34a-1af3-4836-ca97-5c49ca5b4744"
   },
   "outputs": [
    {
     "data": {
      "text/plain": [
       "array([3.91006600e+02, 1.94140843e+02, 1.87257250e+02, 5.72166326e+01,\n",
       "       2.92216101e+01, 1.23870807e+01, 4.55161368e+00, 1.57648269e+00,\n",
       "       3.93548679e-01, 1.32676105e-01])"
      ]
     },
     "execution_count": 29,
     "metadata": {},
     "output_type": "execute_result"
    }
   ],
   "source": [
    "pca.explained_variance_"
   ]
  },
  {
   "cell_type": "code",
   "execution_count": 30,
   "metadata": {
    "colab": {
     "base_uri": "https://localhost:8080/"
    },
    "id": "t_WpEf8QtiIK",
    "outputId": "24ed0e39-7e48-4536-a7b6-b02ee6716369"
   },
   "outputs": [
    {
     "data": {
      "text/plain": [
       "array([0.4453244 , 0.66643487, 0.87970549, 0.94487054, 0.97815155,\n",
       "       0.99225942, 0.99744333, 0.99923882, 0.99968704, 0.99983814])"
      ]
     },
     "execution_count": 30,
     "metadata": {},
     "output_type": "execute_result"
    }
   ],
   "source": [
    "pca.explained_variance_ratio_.cumsum()"
   ]
  },
  {
   "cell_type": "code",
   "execution_count": 31,
   "metadata": {
    "colab": {
     "base_uri": "https://localhost:8080/",
     "height": 283
    },
    "id": "7t-HU_wKtiIb",
    "outputId": "b12297c9-6f00-432b-d912-1946035bf922"
   },
   "outputs": [
    {
     "data": {
      "text/plain": [
       "[<matplotlib.lines.Line2D at 0x1f6c4933490>]"
      ]
     },
     "execution_count": 31,
     "metadata": {},
     "output_type": "execute_result"
    },
    {
     "data": {
      "image/png": "[encoded data removed]",
      "text/plain": [
       "<Figure size 432x288 with 1 Axes>"
      ]
     },
     "metadata": {
      "needs_background": "light"
     },
     "output_type": "display_data"
    }
   ],
   "source": [
    "plt.plot(pca.explained_variance_ratio_.cumsum())"
   ]
  },
  {
   "cell_type": "code",
   "execution_count": 32,
   "metadata": {
    "id": "1Ii8r22GtiIb"
   },
   "outputs": [],
   "source": [
    "ls = 1 / pca.singular_values_ ** 2"
   ]
  },
  {
   "cell_type": "code",
   "execution_count": 43,
   "metadata": {},
   "outputs": [
    {
     "data": {
      "text/plain": [
       "array([3.46544931e-06, 6.97953883e-06, 7.23610730e-06, 2.36821618e-05,\n",
       "       4.63702564e-05, 1.09389257e-04, 2.97699595e-04, 8.59516925e-04,\n",
       "       3.44306467e-03, 1.02129434e-02])"
      ]
     },
     "execution_count": 43,
     "metadata": {},
     "output_type": "execute_result"
    }
   ],
   "source": [
    "ls"
   ]
  },
  {
   "cell_type": "code",
   "execution_count": 33,
   "metadata": {
    "id": "4mQfUIsdtiIc"
   },
   "outputs": [],
   "source": [
    "kernel = 1.0 * RBF(length_scale=ls, length_scale_bounds=(1e-7, 10.0)) #+ WhiteKernel(noise_level=1e-05, noise_level_bounds=(1e-09, 1e-04))# + ConstantKernel()"
   ]
  },
  {
   "cell_type": "code",
   "execution_count": 34,
   "metadata": {
    "colab": {
     "base_uri": "https://localhost:8080/"
    },
    "id": "ogylaSpUtiId",
    "outputId": "50b904de-1b41-4373-c5ca-e4cff8dcbfff"
   },
   "outputs": [
    {
     "name": "stdout",
     "output_type": "stream",
     "text": [
      "0.0206**2 * RBF(length_scale=[0.0527, 0.00664, 0.00229, 0.000245, 0.0147, 0.000317, 1.36, 5.12, 0.000117, 0.216])\n",
      "0.9999415182100025\n",
      "-12.60909096169599\n",
      "1821.099928308813\n"
     ]
    }
   ],
   "source": [
    "gp = GaussianProcessRegressor(kernel=kernel, random_state=0, alpha=0.000001,n_restarts_optimizer=1).fit(pca.transform(Z_train), c_D_train)\n",
    "print(gp.kernel_)\n",
    "print(gp.score(pca.transform(Z_train), c_D_train))\n",
    "print(gp.score(pca.transform(Z_test), c_D_test))\n",
    "print(gp.log_marginal_likelihood())"
   ]
  },
  {
   "cell_type": "code",
   "execution_count": null,
   "metadata": {
    "id": "C2zCYQa3tiId"
   },
   "outputs": [],
   "source": []
  },
  {
   "cell_type": "code",
   "execution_count": null,
   "metadata": {},
   "outputs": [],
   "source": [
    "# alternatively to the TSNE embedding, I tried umap embedding\n",
    "# https://umap-learn.readthedocs.io/"
   ]
  },
  {
   "cell_type": "code",
   "execution_count": 47,
   "metadata": {},
   "outputs": [
    {
     "name": "stdout",
     "output_type": "stream",
     "text": [
      "Requirement already satisfied: umap-learn in c:\\users\\nils\\anaconda3\\envs\\ma\\lib\\site-packages (0.4.6)\n",
      "Requirement already satisfied: numba!=0.47,>=0.46 in c:\\users\\nils\\anaconda3\\envs\\ma\\lib\\site-packages (from umap-learn) (0.52.0)\n",
      "Requirement already satisfied: scipy>=1.3.1 in c:\\users\\nils\\anaconda3\\envs\\ma\\lib\\site-packages (from umap-learn) (1.5.0)\n",
      "Requirement already satisfied: numpy>=1.17 in c:\\users\\nils\\anaconda3\\envs\\ma\\lib\\site-packages (from umap-learn) (1.19.1)\n",
      "Requirement already satisfied: scikit-learn>=0.20 in c:\\users\\nils\\anaconda3\\envs\\ma\\lib\\site-packages (from umap-learn) (0.23.2)\n",
      "Requirement already satisfied: llvmlite<0.36,>=0.35.0 in c:\\users\\nils\\anaconda3\\envs\\ma\\lib\\site-packages (from numba!=0.47,>=0.46->umap-learn) (0.35.0)\n",
      "Requirement already satisfied: setuptools in c:\\users\\nils\\anaconda3\\envs\\ma\\lib\\site-packages (from numba!=0.47,>=0.46->umap-learn) (49.6.0.post20200917)\n",
      "Requirement already satisfied: joblib>=0.11 in c:\\users\\nils\\anaconda3\\envs\\ma\\lib\\site-packages (from scikit-learn>=0.20->umap-learn) (0.16.0)\n",
      "Requirement already satisfied: threadpoolctl>=2.0.0 in c:\\users\\nils\\anaconda3\\envs\\ma\\lib\\site-packages (from scikit-learn>=0.20->umap-learn) (2.1.0)\n"
     ]
    }
   ],
   "source": [
    "#!pip install umap-learn"
   ]
  },
  {
   "cell_type": "code",
   "execution_count": 35,
   "metadata": {
    "id": "q6PCClkQtiIe"
   },
   "outputs": [],
   "source": [
    "#import umap"
   ]
  },
  {
   "cell_type": "code",
   "execution_count": 36,
   "metadata": {
    "id": "08PHuFVntiIe"
   },
   "outputs": [],
   "source": [
    "#reducer = umap.UMAP()"
   ]
  },
  {
   "cell_type": "code",
   "execution_count": 37,
   "metadata": {
    "id": "5b9lw7L-tiIf"
   },
   "outputs": [],
   "source": [
    "#embedding_umap = reducer.fit_transform(Z)"
   ]
  },
  {
   "cell_type": "code",
   "execution_count": 38,
   "metadata": {
    "colab": {
     "base_uri": "https://localhost:8080/",
     "height": 283
    },
    "id": "BHTYrcsOtiIf",
    "outputId": "9ebcf348-dbfd-4c83-ddc5-fcbd1600dbfb"
   },
   "outputs": [],
   "source": [
    "#plt.scatter(embedding_umap[:,0], embedding_umap[:,1], c=np.clip(c_D, a_max=0.0275, a_min=0))"
   ]
  },
  {
   "cell_type": "code",
   "execution_count": null,
   "metadata": {
    "id": "Ribwe8-PtiIf"
   },
   "outputs": [],
   "source": []
  },
  {
   "cell_type": "code",
   "execution_count": 39,
   "metadata": {},
   "outputs": [
    {
     "name": "stdout",
     "output_type": "stream",
     "text": [
      "Requirement already satisfied: bokeh in c:\\users\\nils\\anaconda3\\envs\\ma\\lib\\site-packages (2.2.3)\n",
      "Requirement already satisfied: PyYAML>=3.10 in c:\\users\\nils\\anaconda3\\envs\\ma\\lib\\site-packages (from bokeh) (5.3.1)\n",
      "Requirement already satisfied: pillow>=7.1.0 in c:\\users\\nils\\anaconda3\\envs\\ma\\lib\\site-packages (from bokeh) (7.2.0)\n",
      "Requirement already satisfied: tornado>=5.1 in c:\\users\\nils\\anaconda3\\envs\\ma\\lib\\site-packages (from bokeh) (6.0.4)\n",
      "Requirement already satisfied: Jinja2>=2.7 in c:\\users\\nils\\anaconda3\\envs\\ma\\lib\\site-packages (from bokeh) (2.11.2)\n",
      "Requirement already satisfied: python-dateutil>=2.1 in c:\\users\\nils\\anaconda3\\envs\\ma\\lib\\site-packages (from bokeh) (2.8.1)\n",
      "Requirement already satisfied: typing-extensions>=3.7.4 in c:\\users\\nils\\anaconda3\\envs\\ma\\lib\\site-packages (from bokeh) (3.7.4.3)\n",
      "Requirement already satisfied: packaging>=16.8 in c:\\users\\nils\\anaconda3\\envs\\ma\\lib\\site-packages (from bokeh) (20.4)\n",
      "Requirement already satisfied: numpy>=1.11.3 in c:\\users\\nils\\anaconda3\\envs\\ma\\lib\\site-packages (from bokeh) (1.19.1)\n",
      "Requirement already satisfied: MarkupSafe>=0.23 in c:\\users\\nils\\anaconda3\\envs\\ma\\lib\\site-packages (from Jinja2>=2.7->bokeh) (1.1.1)\n",
      "Requirement already satisfied: six>=1.5 in c:\\users\\nils\\anaconda3\\envs\\ma\\lib\\site-packages (from python-dateutil>=2.1->bokeh) (1.15.0)\n",
      "Requirement already satisfied: pyparsing>=2.0.2 in c:\\users\\nils\\anaconda3\\envs\\ma\\lib\\site-packages (from packaging>=16.8->bokeh) (2.4.7)\n"
     ]
    }
   ],
   "source": [
    "# you will need the library 'bokeh' to display the plots\n",
    "# it will be automatically installed by the following command\n",
    "\n",
    "!pip install bokeh"
   ]
  },
  {
   "cell_type": "code",
   "execution_count": 40,
   "metadata": {
    "id": "WLIYHQTctiIg"
   },
   "outputs": [],
   "source": [
    "import bokeh"
   ]
  },
  {
   "cell_type": "code",
   "execution_count": 41,
   "metadata": {
    "id": "3MtHNGJXtiIg"
   },
   "outputs": [],
   "source": [
    "\n",
    "from bokeh.layouts import gridplot\n",
    "from bokeh.plotting import figure, output_file, show\n",
    "from bokeh.io import output_notebook\n",
    "from bokeh.models import ColumnDataSource\n",
    "from bokeh.models.tools import TapTool, LassoSelectTool, HoverTool\n",
    "from bokeh.themes import Theme\n",
    "import yaml"
   ]
  },
  {
   "cell_type": "code",
   "execution_count": null,
   "metadata": {
    "id": "opUWmi1mtiIh"
   },
   "outputs": [],
   "source": []
  },
  {
   "cell_type": "code",
   "execution_count": 42,
   "metadata": {
    "colab": {
     "base_uri": "https://localhost:8080/"
    },
    "id": "VeVimQf1tiIv",
    "outputId": "e50ce16e-0d46-4003-9305-325fe9ed7302",
    "scrolled": false
   },
   "outputs": [
    {
     "data": {
      "text/html": [
       "\n",
       "    <div class=\"bk-root\">\n",
       "        <a href=\"https://bokeh.org\" target=\"_blank\" class=\"bk-logo bk-logo-small bk-logo-notebook\"></a>\n",
       "        <span id=\"1001\">Loading BokehJS ...</span>\n",
       "    </div>"
      ]
     },
     "metadata": {},
     "output_type": "display_data"
    },
    {
     "data": {
      "application/javascript": [
       "\n",
       "(function(root) {\n",
       "  function now() {\n",
       "    return new Date();\n",
       "  }\n",
       "\n",
       "  var force = true;\n",
       "\n",
       "  if (typeof root._bokeh_onload_callbacks === \"undefined\" || force === true) {\n",
       "    root._bokeh_onload_callbacks = [];\n",
       "    root._bokeh_is_loading = undefined;\n",
       "  }\n",
       "\n",
       "  var JS_MIME_TYPE = 'application/javascript';\n",
       "  var HTML_MIME_TYPE = 'text/html';\n",
       "  var EXEC_MIME_TYPE = 'application/vnd.bokehjs_exec.v0+json';\n",
       "  var CLASS_NAME = 'output_bokeh rendered_html';\n",
       "\n",
       "  /**\n",
       "   * Render data to the DOM node\n",
       "   */\n",
       "  function render(props, node) {\n",
       "    var script = document.createElement(\"script\");\n",
       "    node.appendChild(script);\n",
       "  }\n",
       "\n",
       "  /**\n",
       "   * Handle when an output is cleared or removed\n",
       "   */\n",
       "  function handleClearOutput(event, handle) {\n",
       "    var cell = handle.cell;\n",
       "\n",
       "    var id = cell.output_area._bokeh_element_id;\n",
       "    var server_id = cell.output_area._bokeh_server_id;\n",
       "    // Clean up Bokeh references\n",
       "    if (id != null && id in Bokeh.index) {\n",
       "      Bokeh.index[id].model.document.clear();\n",
       "      delete Bokeh.index[id];\n",
       "    }\n",
       "\n",
       "    if (server_id !== undefined) {\n",
       "      // Clean up Bokeh references\n",
       "      var cmd = \"from bokeh.io.state import curstate; print(curstate().uuid_to_server['\" + server_id + \"'].get_sessions()[0].document.roots[0]._id)\";\n",
       "      cell.notebook.kernel.execute(cmd, {\n",
       "        iopub: {\n",
       "          output: function(msg) {\n",
       "            var id = msg.content.text.trim();\n",
       "            if (id in Bokeh.index) {\n",
       "              Bokeh.index[id].model.document.clear();\n",
       "              delete Bokeh.index[id];\n",
       "            }\n",
       "          }\n",
       "        }\n",
       "      });\n",
       "      // Destroy server and session\n",
       "      var cmd = \"import bokeh.io.notebook as ion; ion.destroy_server('\" + server_id + \"')\";\n",
       "      cell.notebook.kernel.execute(cmd);\n",
       "    }\n",
       "  }\n",
       "\n",
       "  /**\n",
       "   * Handle when a new output is added\n",
       "   */\n",
       "  function handleAddOutput(event, handle) {\n",
       "    var output_area = handle.output_area;\n",
       "    var output = handle.output;\n",
       "\n",
       "    // limit handleAddOutput to display_data with EXEC_MIME_TYPE content only\n",
       "    if ((output.output_type != \"display_data\") || (!output.data.hasOwnProperty(EXEC_MIME_TYPE))) {\n",
       "      return\n",
       "    }\n",
       "\n",
       "    var toinsert = output_area.element.find(\".\" + CLASS_NAME.split(' ')[0]);\n",
       "\n",
       "    if (output.metadata[EXEC_MIME_TYPE][\"id\"] !== undefined) {\n",
       "      toinsert[toinsert.length - 1].firstChild.textContent = output.data[JS_MIME_TYPE];\n",
       "      // store reference to embed id on output_area\n",
       "      output_area._bokeh_element_id = output.metadata[EXEC_MIME_TYPE][\"id\"];\n",
       "    }\n",
       "    if (output.metadata[EXEC_MIME_TYPE][\"server_id\"] !== undefined) {\n",
       "      var bk_div = document.createElement(\"div\");\n",
       "      bk_div.innerHTML = output.data[HTML_MIME_TYPE];\n",
       "      var script_attrs = bk_div.children[0].attributes;\n",
       "      for (var i = 0; i < script_attrs.length; i++) {\n",
       "        toinsert[toinsert.length - 1].firstChild.setAttribute(script_attrs[i].name, script_attrs[i].value);\n",
       "        toinsert[toinsert.length - 1].firstChild.textContent = bk_div.children[0].textContent\n",
       "      }\n",
       "      // store reference to server id on output_area\n",
       "      output_area._bokeh_server_id = output.metadata[EXEC_MIME_TYPE][\"server_id\"];\n",
       "    }\n",
       "  }\n",
       "\n",
       "  function register_renderer(events, OutputArea) {\n",
       "\n",
       "    function append_mime(data, metadata, element) {\n",
       "      // create a DOM node to render to\n",
       "      var toinsert = this.create_output_subarea(\n",
       "        metadata,\n",
       "        CLASS_NAME,\n",
       "        EXEC_MIME_TYPE\n",
       "      );\n",
       "      this.keyboard_manager.register_events(toinsert);\n",
       "      // Render to node\n",
       "      var props = {data: data, metadata: metadata[EXEC_MIME_TYPE]};\n",
       "      render(props, toinsert[toinsert.length - 1]);\n",
       "      element.append(toinsert);\n",
       "      return toinsert\n",
       "    }\n",
       "\n",
       "    /* Handle when an output is cleared or removed */\n",
       "    events.on('clear_output.CodeCell', handleClearOutput);\n",
       "    events.on('delete.Cell', handleClearOutput);\n",
       "\n",
       "    /* Handle when a new output is added */\n",
       "    events.on('output_added.OutputArea', handleAddOutput);\n",
       "\n",
       "    /**\n",
       "     * Register the mime type and append_mime function with output_area\n",
       "     */\n",
       "    OutputArea.prototype.register_mime_type(EXEC_MIME_TYPE, append_mime, {\n",
       "      /* Is output safe? */\n",
       "      safe: true,\n",
       "      /* Index of renderer in `output_area.display_order` */\n",
       "      index: 0\n",
       "    });\n",
       "  }\n",
       "\n",
       "  // register the mime type if in Jupyter Notebook environment and previously unregistered\n",
       "  if (root.Jupyter !== undefined) {\n",
       "    var events = require('base/js/events');\n",
       "    var OutputArea = require('notebook/js/outputarea').OutputArea;\n",
       "\n",
       "    if (OutputArea.prototype.mime_types().indexOf(EXEC_MIME_TYPE) == -1) {\n",
       "      register_renderer(events, OutputArea);\n",
       "    }\n",
       "  }\n",
       "\n",
       "  \n",
       "  if (typeof (root._bokeh_timeout) === \"undefined\" || force === true) {\n",
       "    root._bokeh_timeout = Date.now() + 5000;\n",
       "    root._bokeh_failed_load = false;\n",
       "  }\n",
       "\n",
       "  var NB_LOAD_WARNING = {'data': {'text/html':\n",
       "     \"<div style='background-color: #fdd'>\\n\"+\n",
       "     \"<p>\\n\"+\n",
       "     \"BokehJS does not appear to have successfully loaded. If loading BokehJS from CDN, this \\n\"+\n",
       "     \"may be due to a slow or bad network connection. Possible fixes:\\n\"+\n",
       "     \"</p>\\n\"+\n",
       "     \"<ul>\\n\"+\n",
       "     \"<li>re-rerun `output_notebook()` to attempt to load from CDN again, or</li>\\n\"+\n",
       "     \"<li>use INLINE resources instead, as so:</li>\\n\"+\n",
       "     \"</ul>\\n\"+\n",
       "     \"<code>\\n\"+\n",
       "     \"from bokeh.resources import INLINE\\n\"+\n",
       "     \"output_notebook(resources=INLINE)\\n\"+\n",
       "     \"</code>\\n\"+\n",
       "     \"</div>\"}};\n",
       "\n",
       "  function display_loaded() {\n",
       "    var el = document.getElementById(\"1001\");\n",
       "    if (el != null) {\n",
       "      el.textContent = \"BokehJS is loading...\";\n",
       "    }\n",
       "    if (root.Bokeh !== undefined) {\n",
       "      if (el != null) {\n",
       "        el.textContent = \"BokehJS \" + root.Bokeh.version + \" successfully loaded.\";\n",
       "      }\n",
       "    } else if (Date.now() < root._bokeh_timeout) {\n",
       "      setTimeout(display_loaded, 100)\n",
       "    }\n",
       "  }\n",
       "\n",
       "\n",
       "  function run_callbacks() {\n",
       "    try {\n",
       "      root._bokeh_onload_callbacks.forEach(function(callback) {\n",
       "        if (callback != null)\n",
       "          callback();\n",
       "      });\n",
       "    } finally {\n",
       "      delete root._bokeh_onload_callbacks\n",
       "    }\n",
       "    console.debug(\"Bokeh: all callbacks have finished\");\n",
       "  }\n",
       "\n",
       "  function load_libs(css_urls, js_urls, callback) {\n",
       "    if (css_urls == null) css_urls = [];\n",
       "    if (js_urls == null) js_urls = [];\n",
       "\n",
       "    root._bokeh_onload_callbacks.push(callback);\n",
       "    if (root._bokeh_is_loading > 0) {\n",
       "      console.debug(\"Bokeh: BokehJS is being loaded, scheduling callback at\", now());\n",
       "      return null;\n",
       "    }\n",
       "    if (js_urls == null || js_urls.length === 0) {\n",
       "      run_callbacks();\n",
       "      return null;\n",
       "    }\n",
       "    console.debug(\"Bokeh: BokehJS not loaded, scheduling load and callback at\", now());\n",
       "    root._bokeh_is_loading = css_urls.length + js_urls.length;\n",
       "\n",
       "    function on_load() {\n",
       "      root._bokeh_is_loading--;\n",
       "      if (root._bokeh_is_loading === 0) {\n",
       "        console.debug(\"Bokeh: all BokehJS libraries/stylesheets loaded\");\n",
       "        run_callbacks()\n",
       "      }\n",
       "    }\n",
       "\n",
       "    function on_error() {\n",
       "      console.error(\"failed to load \" + url);\n",
       "    }\n",
       "\n",
       "    for (var i = 0; i < css_urls.length; i++) {\n",
       "      var url = css_urls[i];\n",
       "      const element = document.createElement(\"link\");\n",
       "      element.onload = on_load;\n",
       "      element.onerror = on_error;\n",
       "      element.rel = \"stylesheet\";\n",
       "      element.type = \"text/css\";\n",
       "      element.href = url;\n",
       "      console.debug(\"Bokeh: injecting link tag for BokehJS stylesheet: \", url);\n",
       "      document.body.appendChild(element);\n",
       "    }\n",
       "\n",
       "    const hashes = {\"https://cdn.bokeh.org/bokeh/release/bokeh-2.2.3.min.js\": \"T2yuo9Oe71Cz/I4X9Ac5+gpEa5a8PpJCDlqKYO0CfAuEszu1JrXLl8YugMqYe3sM\", \"https://cdn.bokeh.org/bokeh/release/bokeh-widgets-2.2.3.min.js\": \"98GDGJ0kOMCUMUePhksaQ/GYgB3+NH9h996V88sh3aOiUNX3N+fLXAtry6xctSZ6\", \"https://cdn.bokeh.org/bokeh/release/bokeh-tables-2.2.3.min.js\": \"89bArO+nlbP3sgakeHjCo1JYxYR5wufVgA3IbUvDY+K7w4zyxJqssu7wVnfeKCq8\"};\n",
       "\n",
       "    for (var i = 0; i < js_urls.length; i++) {\n",
       "      var url = js_urls[i];\n",
       "      var element = document.createElement('script');\n",
       "      element.onload = on_load;\n",
       "      element.onerror = on_error;\n",
       "      element.async = false;\n",
       "      element.src = url;\n",
       "      if (url in hashes) {\n",
       "        element.crossOrigin = \"anonymous\";\n",
       "        element.integrity = \"sha384-\" + hashes[url];\n",
       "      }\n",
       "      console.debug(\"Bokeh: injecting script tag for BokehJS library: \", url);\n",
       "      document.head.appendChild(element);\n",
       "    }\n",
       "  };\n",
       "\n",
       "  function inject_raw_css(css) {\n",
       "    const element = document.createElement(\"style\");\n",
       "    element.appendChild(document.createTextNode(css));\n",
       "    document.body.appendChild(element);\n",
       "  }\n",
       "\n",
       "  \n",
       "  var js_urls = [\"https://cdn.bokeh.org/bokeh/release/bokeh-2.2.3.min.js\", \"https://cdn.bokeh.org/bokeh/release/bokeh-widgets-2.2.3.min.js\", \"https://cdn.bokeh.org/bokeh/release/bokeh-tables-2.2.3.min.js\"];\n",
       "  var css_urls = [];\n",
       "  \n",
       "\n",
       "  var inline_js = [\n",
       "    function(Bokeh) {\n",
       "      Bokeh.set_log_level(\"info\");\n",
       "    },\n",
       "    function(Bokeh) {\n",
       "    \n",
       "    \n",
       "    }\n",
       "  ];\n",
       "\n",
       "  function run_inline_js() {\n",
       "    \n",
       "    if (root.Bokeh !== undefined || force === true) {\n",
       "      \n",
       "    for (var i = 0; i < inline_js.length; i++) {\n",
       "      inline_js[i].call(root, root.Bokeh);\n",
       "    }\n",
       "    if (force === true) {\n",
       "        display_loaded();\n",
       "      }} else if (Date.now() < root._bokeh_timeout) {\n",
       "      setTimeout(run_inline_js, 100);\n",
       "    } else if (!root._bokeh_failed_load) {\n",
       "      console.log(\"Bokeh: BokehJS failed to load within specified timeout.\");\n",
       "      root._bokeh_failed_load = true;\n",
       "    } else if (force !== true) {\n",
       "      var cell = $(document.getElementById(\"1001\")).parents('.cell').data().cell;\n",
       "      cell.output_area.append_execute_result(NB_LOAD_WARNING)\n",
       "    }\n",
       "\n",
       "  }\n",
       "\n",
       "  if (root._bokeh_is_loading === 0) {\n",
       "    console.debug(\"Bokeh: BokehJS loaded, going straight to plotting\");\n",
       "    run_inline_js();\n",
       "  } else {\n",
       "    load_libs(css_urls, js_urls, function() {\n",
       "      console.debug(\"Bokeh: BokehJS plotting callback run at\", now());\n",
       "      run_inline_js();\n",
       "    });\n",
       "  }\n",
       "}(window));"
      ],
      "application/vnd.bokehjs_load.v0+json": "\n(function(root) {\n  function now() {\n    return new Date();\n  }\n\n  var force = true;\n\n  if (typeof root._bokeh_onload_callbacks === \"undefined\" || force === true) {\n    root._bokeh_onload_callbacks = [];\n    root._bokeh_is_loading = undefined;\n  }\n\n  \n\n  \n  if (typeof (root._bokeh_timeout) === \"undefined\" || force === true) {\n    root._bokeh_timeout = Date.now() + 5000;\n    root._bokeh_failed_load = false;\n  }\n\n  var NB_LOAD_WARNING = {'data': {'text/html':\n     \"<div style='background-color: #fdd'>\\n\"+\n     \"<p>\\n\"+\n     \"BokehJS does not appear to have successfully loaded. If loading BokehJS from CDN, this \\n\"+\n     \"may be due to a slow or bad network connection. Possible fixes:\\n\"+\n     \"</p>\\n\"+\n     \"<ul>\\n\"+\n     \"<li>re-rerun `output_notebook()` to attempt to load from CDN again, or</li>\\n\"+\n     \"<li>use INLINE resources instead, as so:</li>\\n\"+\n     \"</ul>\\n\"+\n     \"<code>\\n\"+\n     \"from bokeh.resources import INLINE\\n\"+\n     \"output_notebook(resources=INLINE)\\n\"+\n     \"</code>\\n\"+\n     \"</div>\"}};\n\n  function display_loaded() {\n    var el = document.getElementById(\"1001\");\n    if (el != null) {\n      el.textContent = \"BokehJS is loading...\";\n    }\n    if (root.Bokeh !== undefined) {\n      if (el != null) {\n        el.textContent = \"BokehJS \" + root.Bokeh.version + \" successfully loaded.\";\n      }\n    } else if (Date.now() < root._bokeh_timeout) {\n      setTimeout(display_loaded, 100)\n    }\n  }\n\n\n  function run_callbacks() {\n    try {\n      root._bokeh_onload_callbacks.forEach(function(callback) {\n        if (callback != null)\n          callback();\n      });\n    } finally {\n      delete root._bokeh_onload_callbacks\n    }\n    console.debug(\"Bokeh: all callbacks have finished\");\n  }\n\n  function load_libs(css_urls, js_urls, callback) {\n    if (css_urls == null) css_urls = [];\n    if (js_urls == null) js_urls = [];\n\n    root._bokeh_onload_callbacks.push(callback);\n    if (root._bokeh_is_loading > 0) {\n      console.debug(\"Bokeh: BokehJS is being loaded, scheduling callback at\", now());\n      return null;\n    }\n    if (js_urls == null || js_urls.length === 0) {\n      run_callbacks();\n      return null;\n    }\n    console.debug(\"Bokeh: BokehJS not loaded, scheduling load and callback at\", now());\n    root._bokeh_is_loading = css_urls.length + js_urls.length;\n\n    function on_load() {\n      root._bokeh_is_loading--;\n      if (root._bokeh_is_loading === 0) {\n        console.debug(\"Bokeh: all BokehJS libraries/stylesheets loaded\");\n        run_callbacks()\n      }\n    }\n\n    function on_error() {\n      console.error(\"failed to load \" + url);\n    }\n\n    for (var i = 0; i < css_urls.length; i++) {\n      var url = css_urls[i];\n      const element = document.createElement(\"link\");\n      element.onload = on_load;\n      element.onerror = on_error;\n      element.rel = \"stylesheet\";\n      element.type = \"text/css\";\n      element.href = url;\n      console.debug(\"Bokeh: injecting link tag for BokehJS stylesheet: \", url);\n      document.body.appendChild(element);\n    }\n\n    const hashes = {\"https://cdn.bokeh.org/bokeh/release/bokeh-2.2.3.min.js\": \"T2yuo9Oe71Cz/I4X9Ac5+gpEa5a8PpJCDlqKYO0CfAuEszu1JrXLl8YugMqYe3sM\", \"https://cdn.bokeh.org/bokeh/release/bokeh-widgets-2.2.3.min.js\": \"98GDGJ0kOMCUMUePhksaQ/GYgB3+NH9h996V88sh3aOiUNX3N+fLXAtry6xctSZ6\", \"https://cdn.bokeh.org/bokeh/release/bokeh-tables-2.2.3.min.js\": \"89bArO+nlbP3sgakeHjCo1JYxYR5wufVgA3IbUvDY+K7w4zyxJqssu7wVnfeKCq8\"};\n\n    for (var i = 0; i < js_urls.length; i++) {\n      var url = js_urls[i];\n      var element = document.createElement('script');\n      element.onload = on_load;\n      element.onerror = on_error;\n      element.async = false;\n      element.src = url;\n      if (url in hashes) {\n        element.crossOrigin = \"anonymous\";\n        element.integrity = \"sha384-\" + hashes[url];\n      }\n      console.debug(\"Bokeh: injecting script tag for BokehJS library: \", url);\n      document.head.appendChild(element);\n    }\n  };\n\n  function inject_raw_css(css) {\n    const element = document.createElement(\"style\");\n    element.appendChild(document.createTextNode(css));\n    document.body.appendChild(element);\n  }\n\n  \n  var js_urls = [\"https://cdn.bokeh.org/bokeh/release/bokeh-2.2.3.min.js\", \"https://cdn.bokeh.org/bokeh/release/bokeh-widgets-2.2.3.min.js\", \"https://cdn.bokeh.org/bokeh/release/bokeh-tables-2.2.3.min.js\"];\n  var css_urls = [];\n  \n\n  var inline_js = [\n    function(Bokeh) {\n      Bokeh.set_log_level(\"info\");\n    },\n    function(Bokeh) {\n    \n    \n    }\n  ];\n\n  function run_inline_js() {\n    \n    if (root.Bokeh !== undefined || force === true) {\n      \n    for (var i = 0; i < inline_js.length; i++) {\n      inline_js[i].call(root, root.Bokeh);\n    }\n    if (force === true) {\n        display_loaded();\n      }} else if (Date.now() < root._bokeh_timeout) {\n      setTimeout(run_inline_js, 100);\n    } else if (!root._bokeh_failed_load) {\n      console.log(\"Bokeh: BokehJS failed to load within specified timeout.\");\n      root._bokeh_failed_load = true;\n    } else if (force !== true) {\n      var cell = $(document.getElementById(\"1001\")).parents('.cell').data().cell;\n      cell.output_area.append_execute_result(NB_LOAD_WARNING)\n    }\n\n  }\n\n  if (root._bokeh_is_loading === 0) {\n    console.debug(\"Bokeh: BokehJS loaded, going straight to plotting\");\n    run_inline_js();\n  } else {\n    load_libs(css_urls, js_urls, function() {\n      console.debug(\"Bokeh: BokehJS plotting callback run at\", now());\n      run_inline_js();\n    });\n  }\n}(window));"
     },
     "metadata": {},
     "output_type": "display_data"
    },
    {
     "data": {
      "application/vnd.bokehjs_exec.v0+json": "",
      "text/html": [
       "\n",
       "<script id=\"1002\">\n",
       "  var xhr = new XMLHttpRequest()\n",
       "  xhr.responseType = 'blob';\n",
       "  xhr.open('GET', \"http://localhost:53773/autoload.js?bokeh-autoload-element=1002&bokeh-absolute-url=http://localhost:53773&resources=none\", true);\n",
       "  \n",
       "  xhr.onload = function (event) {\n",
       "    var script = document.createElement('script'),\n",
       "    src = URL.createObjectURL(event.target.response);\n",
       "    script.src = src;\n",
       "    document.body.appendChild(script);\n",
       "  };\n",
       "xhr.send();\n",
       "</script>"
      ]
     },
     "metadata": {
      "application/vnd.bokehjs_exec.v0+json": {
       "server_id": "9a50dac494c14697a709a01bc42ab3a4"
      }
     },
     "output_type": "display_data"
    },
    {
     "name": "stderr",
     "output_type": "stream",
     "text": [
      "BokehUserWarning: ColumnDataSource's columns must be of the same length. Current lengths: ('c', 739), ('is_train', 924), ('x', 924), ('y', 924)\n"
     ]
    }
   ],
   "source": [
    "# this will create an interactive vizualisation of the airfoils and their embedded latent vectors \n",
    "# unfortunately google colab does not allow this\n",
    "# but should work locally\n",
    "\n",
    "output_notebook()\n",
    "\n",
    "def bkapp(doc):\n",
    "    \n",
    "    data = ColumnDataSource({\n",
    "    \"x\": emb[:,0],\n",
    "    \"y\": emb[:,1],\n",
    "    \"c\": c_D_train.numpy(),\n",
    "    \"is_train\": [1]*x_train.shape[0] + [0] * x_test.shape[0],\n",
    "    })\n",
    "    \n",
    "    s1 = figure(width=50, plot_height=200, title=None, name=\"asd\")\n",
    "    s1.scatter(\"x\", \"y\", source=data, size=10, fill_color=bokeh.transform.linear_cmap(\"c\", bokeh.palettes.Plasma256, 0.0, 0.03))\n",
    "    \n",
    "    i = 0\n",
    "    airfoil_data = ColumnDataSource({\n",
    "    \"x\": x_train[i, 0, :].numpy(),\n",
    "    \"y\": 10*x_train[i, 1, :].numpy(),\n",
    "    \"cp\": y_train[i, 0, :].numpy(),    \n",
    "    \"cd\": np.ones(192)*c_D_train[i].numpy(),\n",
    "    })\n",
    "    \n",
    "    s2 = figure(width=50, plot_height=100)    \n",
    "    #s2.circle(, x_train[i, 1, :].numpy())\n",
    "    s2.scatter(\"x\", \"y\", source=airfoil_data, fill_color=bokeh.transform.linear_cmap(\"cd\", \"Plasma256\", 0.0, 0.05))\n",
    "    \n",
    "    #s3 = figure(width=50, plot_height=100)    \n",
    "    s2.square(\"x\", \"cp\", source=airfoil_data, fill_color=bokeh.transform.linear_cmap(\"cd\", \"Plasma256\", 0.0, 0.05))\n",
    "    \n",
    "    hover = HoverTool(tooltips=[(\"c_D\", \"@c\")])\n",
    "    s1.add_tools(TapTool(), LassoSelectTool(), hover)\n",
    "\n",
    "    p = gridplot([[s1],[s2]])\n",
    "\n",
    "    def selection_change(attrname, old, new):\n",
    "        print(attrname, old, new)\n",
    "        if len(new) >= 1:\n",
    "            airfoil_data.data = {k: [] for k in airfoil_data.data}\n",
    "            #i = new[0]\n",
    "            for i in new:\n",
    "                airfoil_data.data[\"x\"] = np.hstack((airfoil_data.data[\"x\"], x_train[i, 0, :].numpy()))\n",
    "                airfoil_data.data[\"y\"] = np.hstack((airfoil_data.data[\"y\"], 10*x_train[i, 1, :].numpy()))\n",
    "                airfoil_data.data[\"cp\"] = np.hstack((airfoil_data.data[\"cp\"], y_train[i, 0, :].numpy()))\n",
    "                airfoil_data.data[\"cd\"] = np.hstack((airfoil_data.data[\"cd\"], np.ones(192)*c_D_train[i].numpy()))\n",
    "            #airfoil_data.data = {\"x\": x_train[i, 0, :].numpy(), \"y\": 10*x_train[i, 1, :].numpy(), \"cp\": y_train[i, 0, :].numpy() for i in new}\n",
    "            #s2.circle(x_train[i, 0, :].numpy(), x_train[i, 1, :].numpy())\n",
    "        pass\n",
    "\n",
    "    data.selected.on_change('indices', selection_change)\n",
    "    #hover.on_change(\"data\", selection_change)\n",
    "    \n",
    "    doc.add_root(p)\n",
    "    doc.theme = Theme(json=yaml.load(\"\"\"\n",
    "        attrs:\n",
    "            Figure:\n",
    "                toolbar_location: above\n",
    "                height: 500\n",
    "                width: 800\n",
    "            Grid:\n",
    "                grid_line_dash: [6, 4]\n",
    "                grid_line_color: white\n",
    "    \"\"\", Loader=yaml.FullLoader))\n",
    "\n",
    "show(bkapp)"
   ]
  },
  {
   "cell_type": "code",
   "execution_count": null,
   "metadata": {
    "id": "2daNVlGMtiIx"
   },
   "outputs": [],
   "source": []
  },
  {
   "cell_type": "code",
   "execution_count": null,
   "metadata": {
    "id": "6uA5SJwJtiIz"
   },
   "outputs": [],
   "source": []
  }
 ],
 "metadata": {
  "colab": {
   "include_colab_link": true,
   "name": "Untitled.ipynb",
   "provenance": []
  },
  "kernelspec": {
   "display_name": "Python 3",
   "language": "python",
   "name": "python3"
  },
  "language_info": {
   "codemirror_mode": {
    "name": "ipython",
    "version": 3
   },
   "file_extension": ".py",
   "mimetype": "text/x-python",
   "name": "python",
   "nbconvert_exporter": "python",
   "pygments_lexer": "ipython3",
   "version": "3.8.5"
  }
 },
 "nbformat": 4,
 "nbformat_minor": 1
}
