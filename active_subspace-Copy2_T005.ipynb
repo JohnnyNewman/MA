{
 "cells": [
  {
   "cell_type": "code",
   "execution_count": 1,
   "metadata": {},
   "outputs": [],
   "source": [
    "import numpy as np\n",
    "import pandas as pd\n",
    "import matplotlib.pyplot as plt\n",
    "import json\n",
    "import os\n",
    "import re\n",
    "from scipy import linalg"
   ]
  },
  {
   "cell_type": "code",
   "execution_count": null,
   "metadata": {},
   "outputs": [],
   "source": []
  },
  {
   "cell_type": "code",
   "execution_count": 2,
   "metadata": {},
   "outputs": [],
   "source": [
    "collectedData = {}\n",
    "df_grad_cd_list = []\n",
    "for dir1 in os.listdir(\"CollectedData\"):\n",
    "    if os.path.isdir(os.path.join(\"CollectedData\", dir1)):\n",
    "        \n",
    "        collectedData[dir1] = {}\n",
    "        for dsn_dir in os.listdir(os.path.join(\"CollectedData\", dir1)):\n",
    "            if os.path.isdir(os.path.join(\"CollectedData\", dir1, dsn_dir)):\n",
    "                data = json.load(open(os.path.join(\"CollectedData\", dir1, dsn_dir, \"dsn_data.json\"), \"r\"))\n",
    "                collectedData[dir1][dsn_dir] = data"
   ]
  },
  {
   "cell_type": "code",
   "execution_count": null,
   "metadata": {},
   "outputs": [],
   "source": []
  },
  {
   "cell_type": "code",
   "execution_count": null,
   "metadata": {},
   "outputs": [],
   "source": []
  },
  {
   "cell_type": "code",
   "execution_count": null,
   "metadata": {},
   "outputs": [],
   "source": []
  },
  {
   "cell_type": "code",
   "execution_count": 3,
   "metadata": {
    "scrolled": true
   },
   "outputs": [
    {
     "name": "stdout",
     "output_type": "stream",
     "text": [
      "T006 DSN_000\n",
      "T006 DSN_001\n",
      "T006 DSN_002\n",
      "T006 DSN_003\n",
      "T006 DSN_004\n",
      "T006 DSN_005\n",
      "T006 DSN_006\n",
      "T006 DSN_007\n",
      "T006 DSN_008\n",
      "T006 DSN_009\n",
      "T006 DSN_010\n",
      "T006 DSN_011\n",
      "T006 DSN_012\n",
      "T006 DSN_013\n",
      "T006 DSN_014\n",
      "T006 DSN_015\n",
      "T006 DSN_016\n",
      "T006 DSN_017\n",
      "T006 DSN_018\n",
      "T006 DSN_019\n",
      "T006 DSN_020\n",
      "T006 DSN_021\n",
      "T006 DSN_022\n",
      "T006 DSN_023\n",
      "T006 DSN_024\n",
      "T006 DSN_025\n",
      "T006 DSN_026\n",
      "T006 DSN_027\n",
      "T006 DSN_028\n",
      "T006 DSN_029\n",
      "T006 DSN_030\n",
      "T006 DSN_031\n",
      "T006 DSN_032\n",
      "T006 DSN_033\n",
      "T006 DSN_034\n",
      "T006 DSN_035\n",
      "T006 DSN_036\n",
      "T006 DSN_037\n",
      "T006 DSN_038\n",
      "T006 DSN_039\n",
      "T006 DSN_040\n",
      "T006 DSN_041\n",
      "T006 DSN_042\n",
      "T006 DSN_043\n",
      "T006 DSN_044\n",
      "T006 DSN_045\n",
      "T006 DSN_046\n",
      "T006 DSN_047\n",
      "T006 DSN_048\n",
      "T006 DSN_049\n",
      "T006 DSN_050\n",
      "T006 DSN_051\n",
      "T006 DSN_052\n",
      "T006 DSN_053\n",
      "T006 DSN_054\n",
      "T006 DSN_055\n",
      "T006 DSN_056\n",
      "T006 DSN_057\n",
      "T006 DSN_058\n",
      "T006 DSN_059\n",
      "T006 DSN_060\n",
      "T006 DSN_061\n",
      "T006 DSN_062\n",
      "T006 DSN_063\n",
      "T006 DSN_064\n",
      "T006 DSN_065\n",
      "T006 DSN_066\n",
      "T006 DSN_067\n",
      "T006 DSN_068\n",
      "T006 DSN_069\n",
      "T006 DSN_070\n",
      "T006 DSN_071\n",
      "T006 DSN_072\n",
      "T006 DSN_073\n",
      "T006 DSN_074\n",
      "T006 DSN_075\n",
      "T006 DSN_076\n",
      "T006 DSN_077\n",
      "T006 DSN_078\n",
      "T006 DSN_079\n",
      "T006 DSN_080\n",
      "T006 DSN_081\n",
      "T006 DSN_082\n",
      "T006 DSN_083\n",
      "T006 DSN_084\n",
      "T006 DSN_085\n",
      "T006 DSN_086\n",
      "T006 DSN_087\n",
      "T006 DSN_088\n",
      "T006 DSN_089\n",
      "T006 DSN_090\n",
      "T006 DSN_091\n",
      "T006 DSN_092\n",
      "T006 DSN_093\n",
      "T006 DSN_094\n",
      "T006 DSN_095\n",
      "T006 DSN_096\n",
      "T006 DSN_097\n",
      "T006 DSN_098\n",
      "T006 DSN_099\n",
      "T006 DSN_100\n",
      "T006 DSN_101\n",
      "T006 DSN_102\n",
      "T006 DSN_103\n",
      "T006 DSN_104\n",
      "T006 DSN_105\n",
      "T006 DSN_106\n",
      "T006 DSN_107\n",
      "T006 DSN_108\n",
      "T006 DSN_109\n",
      "T006 DSN_110\n",
      "T006 DSN_111\n",
      "T006 DSN_112\n",
      "T006 DSN_113\n",
      "T006 DSN_114\n",
      "T006 DSN_115\n",
      "T006 DSN_116\n",
      "T006 DSN_117\n",
      "T006 DSN_118\n",
      "T006 DSN_119\n",
      "T006 DSN_120\n",
      "T006 DSN_121\n",
      "T006 DSN_122\n",
      "T006 DSN_123\n",
      "T006 DSN_124\n",
      "T006 DSN_125\n",
      "T006 DSN_126\n",
      "T006 DSN_127\n",
      "T006 DSN_128\n",
      "T006 DSN_129\n",
      "T006 DSN_130\n",
      "T006 DSN_131\n",
      "T006 DSN_132\n",
      "T006 DSN_133\n",
      "T006 DSN_134\n",
      "T006 DSN_135\n",
      "T006 DSN_136\n",
      "T006 DSN_137\n",
      "T006 DSN_138\n",
      "T006 DSN_139\n",
      "T006 DSN_140\n",
      "T006 DSN_141\n",
      "T006 DSN_142\n",
      "T006 DSN_143\n",
      "T006 DSN_144\n",
      "T006 DSN_145\n",
      "T006 DSN_146\n",
      "T006 DSN_147\n",
      "T006 DSN_148\n",
      "T006 DSN_149\n",
      "T006 DSN_150\n",
      "T006 DSN_151\n",
      "T006 DSN_152\n",
      "T006 DSN_153\n",
      "T006 DSN_154\n",
      "T006 DSN_155\n",
      "T006 DSN_156\n",
      "T006 DSN_157\n",
      "T006 DSN_158\n",
      "T006 DSN_159\n",
      "T006 DSN_160\n",
      "T006 DSN_161\n",
      "T006 DSN_162\n",
      "T006 DSN_163\n",
      "T006 DSN_164\n",
      "T006 DSN_165\n",
      "T006 DSN_166\n",
      "T006 DSN_167\n",
      "T006 DSN_168\n",
      "T006 DSN_169\n",
      "T006 DSN_170\n",
      "T006 DSN_171\n",
      "T006 DSN_172\n",
      "T006 DSN_173\n",
      "T006 DSN_174\n",
      "T006 DSN_175\n",
      "T006 DSN_176\n",
      "T006 DSN_177\n",
      "T006 DSN_178\n",
      "T006 DSN_179\n",
      "T006 DSN_180\n",
      "T006 DSN_181\n",
      "T006 DSN_182\n",
      "T006 DSN_183\n",
      "T006 DSN_184\n",
      "T006 DSN_185\n",
      "T006 DSN_186\n",
      "T006 DSN_187\n",
      "T006 DSN_188\n",
      "T006 DSN_189\n",
      "T006 DSN_190\n",
      "T006 DSN_191\n",
      "T006 DSN_192\n",
      "T006 DSN_193\n",
      "T006 DSN_194\n",
      "T006 DSN_195\n",
      "T006 DSN_196\n",
      "T006 DSN_197\n",
      "T006 DSN_198\n",
      "T006 DSN_199\n",
      "T006 DSN_200\n",
      "T006 DSN_201\n",
      "T006 DSN_202\n",
      "T006 DSN_203\n",
      "T006 DSN_204\n",
      "T006 DSN_205\n",
      "T006 DSN_206\n",
      "T006 DSN_207\n",
      "T006 DSN_208\n",
      "T006 DSN_209\n",
      "T006 DSN_210\n",
      "T006 DSN_211\n",
      "T006 DSN_212\n",
      "T006 DSN_213\n",
      "T006 DSN_214\n",
      "T006 DSN_215\n",
      "T006 DSN_216\n",
      "T006 DSN_217\n",
      "T006 DSN_218\n",
      "T006 DSN_219\n",
      "T006 DSN_220\n",
      "T006 DSN_221\n",
      "T006 DSN_222\n",
      "T006 DSN_223\n",
      "T006 DSN_224\n",
      "T006 DSN_225\n",
      "T006 DSN_226\n",
      "T006 DSN_227\n",
      "T006 DSN_228\n",
      "T006 DSN_229\n",
      "T006 DSN_230\n",
      "T006 DSN_231\n",
      "T006 DSN_232\n",
      "T006 DSN_233\n",
      "T006 DSN_234\n",
      "T006 DSN_235\n",
      "T006 DSN_236\n",
      "T006 DSN_237\n",
      "T006 DSN_238\n",
      "T006 DSN_239\n",
      "T006 DSN_240\n",
      "T006 DSN_241\n",
      "T006 DSN_242\n",
      "T006 DSN_243\n",
      "T006 DSN_244\n",
      "T006 DSN_245\n",
      "T006 DSN_246\n",
      "T006 DSN_247\n",
      "T006 DSN_248\n",
      "T006 DSN_249\n",
      "T006 DSN_250\n",
      "T006 DSN_251\n",
      "T006 DSN_252\n",
      "T006 DSN_253\n",
      "T006 DSN_254\n",
      "T006 DSN_255\n",
      "T006 DSN_256\n",
      "T006 DSN_257\n",
      "T006 DSN_258\n",
      "T006 DSN_259\n",
      "T006 DSN_260\n",
      "T006 DSN_261\n",
      "T006 DSN_262\n",
      "T006 DSN_263\n",
      "T006 DSN_264\n",
      "T006 DSN_265\n",
      "T006 DSN_266\n",
      "T006 DSN_267\n",
      "T006 DSN_268\n",
      "T006 DSN_269\n",
      "T006 DSN_270\n",
      "T006 DSN_271\n",
      "T006 DSN_272\n",
      "T006 DSN_273\n",
      "T006 DSN_274\n",
      "T006 DSN_275\n",
      "T006 DSN_276\n",
      "T006 DSN_277\n",
      "T006 DSN_278\n",
      "T006 DSN_279\n",
      "T006 DSN_280\n",
      "T006 DSN_281\n",
      "T006 DSN_282\n",
      "T006 DSN_283\n",
      "T006 DSN_284\n",
      "T006 DSN_285\n",
      "T006 DSN_286\n",
      "T006 DSN_287\n",
      "T006 DSN_288\n",
      "T006 DSN_289\n",
      "T006 DSN_290\n",
      "T006 DSN_291\n",
      "T006 DSN_292\n",
      "T006 DSN_293\n",
      "T006 DSN_294\n",
      "T006 DSN_295\n",
      "T006 DSN_296\n",
      "T006 DSN_297\n",
      "T006 DSN_298\n",
      "T006 DSN_299\n",
      "T006 DSN_300\n",
      "T006 DSN_301\n",
      "T006 DSN_302\n",
      "T006 DSN_303\n",
      "T006 DSN_304\n",
      "T006 DSN_305\n",
      "T006 DSN_306\n",
      "T006 DSN_307\n",
      "T006 DSN_308\n",
      "T006 DSN_309\n",
      "T006 DSN_310\n",
      "T006 DSN_311\n",
      "T006 DSN_312\n",
      "T006 DSN_313\n",
      "T006 DSN_314\n",
      "T006 DSN_315\n",
      "T006 DSN_316\n",
      "T006 DSN_317\n",
      "T006 DSN_318\n",
      "T006 DSN_319\n",
      "T006 DSN_320\n",
      "T006 DSN_321\n",
      "T006 DSN_322\n",
      "T006 DSN_323\n",
      "T006 DSN_324\n",
      "T006 DSN_325\n",
      "T006 DSN_326\n",
      "T006 DSN_327\n",
      "T006 DSN_328\n",
      "T006 DSN_329\n",
      "T006 DSN_330\n",
      "T006 DSN_331\n",
      "T006 DSN_332\n",
      "T006 DSN_333\n",
      "T006 DSN_334\n",
      "T006 DSN_335\n",
      "T006 DSN_336\n",
      "T006 DSN_337\n",
      "T006 DSN_338\n",
      "T006 DSN_339\n",
      "T006 DSN_340\n",
      "T006 DSN_341\n",
      "T006 DSN_342\n",
      "T006 DSN_343\n",
      "T006 DSN_344\n",
      "T006 DSN_345\n",
      "T006 DSN_346\n",
      "T006 DSN_347\n",
      "T006 DSN_348\n",
      "T006 DSN_349\n",
      "T006 DSN_350\n",
      "T006 DSN_351\n",
      "T006 DSN_352\n",
      "T006 DSN_353\n",
      "T006 DSN_354\n",
      "T006 DSN_355\n",
      "T006 DSN_356\n",
      "T006 DSN_357\n",
      "T006 DSN_358\n",
      "T006 DSN_359\n",
      "T006 DSN_360\n",
      "T006 DSN_361\n",
      "T006 DSN_362\n",
      "T006 DSN_363\n",
      "T006 DSN_364\n",
      "T006 DSN_365\n",
      "T006 DSN_366\n",
      "T006 DSN_367\n",
      "T006 DSN_368\n",
      "T006 DSN_369\n",
      "T006 DSN_370\n",
      "T006 DSN_371\n",
      "T006 DSN_372\n",
      "T006 DSN_373\n",
      "T006 DSN_374\n",
      "T006 DSN_375\n",
      "T006 DSN_376\n",
      "T006 DSN_377\n",
      "T006 DSN_378\n",
      "T006 DSN_379\n",
      "T006 DSN_380\n",
      "T006 DSN_381\n",
      "T006 DSN_382\n",
      "T006 DSN_383\n",
      "T006 DSN_384\n",
      "T006 DSN_385\n",
      "T006 DSN_386\n",
      "T006 DSN_387\n",
      "T006 DSN_388\n",
      "T006 DSN_389\n",
      "T006 DSN_390\n",
      "T006 DSN_391\n",
      "T006 DSN_392\n",
      "T006 DSN_393\n",
      "T006 DSN_394\n",
      "T006 DSN_395\n",
      "T006 DSN_396\n",
      "T006 DSN_397\n",
      "T006 DSN_398\n",
      "T006 DSN_399\n",
      "T006 DSN_400\n",
      "T006 DSN_401\n",
      "T006 DSN_402\n",
      "T006 DSN_403\n",
      "T006 DSN_404\n",
      "T006 DSN_405\n",
      "T006 DSN_406\n",
      "T006 DSN_407\n",
      "T006 DSN_408\n",
      "T006 DSN_409\n",
      "T006 DSN_410\n",
      "T006 DSN_411\n",
      "T006 DSN_412\n",
      "T006 DSN_413\n",
      "T006 DSN_414\n",
      "T006 DSN_415\n",
      "T006 DSN_416\n",
      "T006 DSN_417\n",
      "T006 DSN_418\n",
      "T006 DSN_419\n",
      "T006 DSN_420\n",
      "T006 DSN_421\n",
      "T006 DSN_422\n",
      "T006 DSN_423\n",
      "T006 DSN_424\n",
      "T006 DSN_425\n",
      "T006 DSN_426\n",
      "T006 DSN_427\n",
      "T006 DSN_428\n",
      "T006 DSN_429\n",
      "T006 DSN_430\n",
      "T006 DSN_431\n",
      "T006 DSN_432\n",
      "T006 DSN_433\n",
      "T006 DSN_434\n",
      "T006 DSN_435\n",
      "T006 DSN_436\n",
      "T006 DSN_437\n",
      "T006 DSN_438\n",
      "T006 DSN_439\n",
      "T006 DSN_440\n",
      "T006 DSN_441\n",
      "T006 DSN_442\n",
      "T006 DSN_443\n",
      "T006 DSN_444\n",
      "T006 DSN_445\n",
      "T006 DSN_446\n",
      "T006 DSN_447\n",
      "T006 DSN_448\n",
      "T006 DSN_449\n",
      "T006 DSN_450\n",
      "T006 DSN_451\n",
      "T006 DSN_452\n",
      "T006 DSN_453\n",
      "T006 DSN_454\n",
      "T006 DSN_455\n",
      "T006 DSN_456\n",
      "T006 DSN_457\n",
      "T006 DSN_458\n",
      "T006 DSN_459\n",
      "T006 DSN_460\n",
      "T006 DSN_461\n",
      "T006 DSN_462\n",
      "T006 DSN_463\n",
      "T006 DSN_464\n",
      "T006 DSN_465\n",
      "T006 DSN_466\n",
      "T006 DSN_467\n",
      "T006 DSN_468\n",
      "T006 DSN_469\n",
      "T006 DSN_470\n",
      "T006 DSN_471\n",
      "T006 DSN_472\n",
      "T006 DSN_473\n",
      "T006 DSN_474\n",
      "T006 DSN_475\n",
      "T006 DSN_476\n",
      "T006 DSN_477\n",
      "T006 DSN_478\n",
      "T006 DSN_479\n",
      "T006 DSN_480\n",
      "T006 DSN_481\n",
      "T006 DSN_482\n",
      "T006 DSN_483\n",
      "T006 DSN_484\n",
      "T006 DSN_485\n",
      "T006 DSN_486\n",
      "T006 DSN_487\n",
      "T006 DSN_488\n",
      "T006 DSN_489\n",
      "T006 DSN_490\n",
      "T006 DSN_491\n",
      "T006 DSN_492\n",
      "T006 DSN_493\n",
      "T006 DSN_494\n",
      "T006 DSN_495\n",
      "T006 DSN_496\n",
      "T006 DSN_497\n",
      "T006 DSN_498\n",
      "T006 DSN_499\n",
      "T006 DSN_500\n",
      "T006 DSN_501\n",
      "T006 DSN_502\n",
      "T006 DSN_503\n",
      "T006 DSN_504\n",
      "T006 DSN_505\n",
      "T006 DSN_506\n",
      "T006 DSN_507\n",
      "T006 DSN_508\n",
      "T006 DSN_509\n",
      "T006 DSN_510\n",
      "T006 DSN_511\n",
      "T006 DSN_512\n",
      "T006 DSN_513\n",
      "T006 DSN_514\n",
      "T006 DSN_515\n",
      "T006 DSN_516\n",
      "T006 DSN_517\n",
      "T006 DSN_518\n",
      "T006 DSN_519\n",
      "T006 DSN_520\n",
      "T006 DSN_521\n",
      "T006 DSN_522\n",
      "T006 DSN_523\n",
      "T006 DSN_524\n",
      "T006 DSN_525\n",
      "T006 DSN_526\n",
      "T006 DSN_527\n",
      "T006 DSN_528\n",
      "T006 DSN_529\n",
      "T006 DSN_530\n",
      "T006 DSN_531\n",
      "T006 DSN_532\n",
      "T006 DSN_533\n",
      "T006 DSN_534\n",
      "T006 DSN_535\n",
      "T006 DSN_536\n",
      "T006 DSN_537\n",
      "T006 DSN_538\n",
      "T006 DSN_539\n",
      "T006 DSN_540\n",
      "T006 DSN_541\n",
      "T006 DSN_542\n",
      "T006 DSN_543\n",
      "T006 DSN_544\n",
      "T006 DSN_545\n",
      "T006 DSN_546\n",
      "T006 DSN_547\n",
      "T006 DSN_548\n",
      "T006 DSN_549\n",
      "T006 DSN_550\n",
      "T006 DSN_551\n",
      "T006 DSN_552\n",
      "T006 DSN_553\n",
      "T006 DSN_554\n",
      "T006 DSN_555\n",
      "T006 DSN_556\n",
      "T006 DSN_557\n",
      "T006 DSN_558\n",
      "T006 DSN_559\n",
      "T006 DSN_560\n",
      "T006 DSN_561\n",
      "T006 DSN_562\n",
      "T006 DSN_563\n",
      "T006 DSN_564\n",
      "T006 DSN_565\n",
      "T006 DSN_566\n",
      "T006 DSN_567\n",
      "T006 DSN_568\n",
      "T006 DSN_569\n",
      "T006 DSN_570\n",
      "T006 DSN_571\n",
      "T006 DSN_572\n",
      "T006 DSN_573\n",
      "T006 DSN_574\n",
      "T006 DSN_575\n",
      "T006 DSN_576\n",
      "T006 DSN_577\n",
      "T006 DSN_578\n",
      "T006 DSN_579\n",
      "T006 DSN_580\n",
      "T006 DSN_581\n",
      "T006 DSN_582\n",
      "T006 DSN_583\n",
      "T006 DSN_584\n",
      "T006 DSN_585\n",
      "T006 DSN_586\n",
      "T006 DSN_587\n",
      "T006 DSN_588\n",
      "T006 DSN_589\n",
      "T006 DSN_590\n",
      "T006 DSN_591\n",
      "T006 DSN_592\n",
      "T006 DSN_593\n",
      "T006 DSN_594\n",
      "T006 DSN_595\n",
      "T006 DSN_596\n",
      "T006 DSN_597\n",
      "T006 DSN_598\n",
      "T006 DSN_599\n",
      "T006 DSN_600\n",
      "T006 DSN_601\n",
      "T006 DSN_602\n",
      "T006 DSN_603\n",
      "T006 DSN_604\n",
      "T006 DSN_605\n",
      "T006 DSN_606\n",
      "T006 DSN_607\n",
      "T006 DSN_608\n",
      "T006 DSN_609\n",
      "T006 DSN_610\n",
      "T006 DSN_611\n",
      "T006 DSN_612\n",
      "T006 DSN_613\n",
      "T006 DSN_614\n",
      "T006 DSN_615\n",
      "T006 DSN_616\n",
      "T006 DSN_617\n",
      "T006 DSN_618\n",
      "T006 DSN_619\n",
      "T006 DSN_620\n",
      "T006 DSN_621\n",
      "T006 DSN_622\n",
      "T006 DSN_623\n",
      "T006 DSN_624\n",
      "T006 DSN_625\n",
      "T006 DSN_626\n",
      "T006 DSN_627\n",
      "T006 DSN_628\n",
      "T006 DSN_629\n",
      "T006 DSN_630\n",
      "T006 DSN_631\n",
      "T006 DSN_632\n",
      "T006 DSN_633\n",
      "T006 DSN_634\n"
     ]
    },
    {
     "name": "stdout",
     "output_type": "stream",
     "text": [
      "T006 DSN_635\n",
      "T006 DSN_636\n",
      "T006 DSN_637\n",
      "T006 DSN_638\n",
      "T006 DSN_639\n",
      "T006 DSN_640\n",
      "T006 DSN_641\n",
      "T006 DSN_642\n",
      "T006 DSN_643\n",
      "T006 DSN_644\n",
      "T006 DSN_645\n",
      "T006 DSN_646\n",
      "T006 DSN_647\n",
      "T006 DSN_648\n",
      "T006 DSN_649\n",
      "T006 DSN_650\n",
      "T006 DSN_651\n",
      "T006 DSN_652\n",
      "T006 DSN_653\n",
      "T006 DSN_654\n",
      "T006 DSN_655\n",
      "T006 DSN_656\n",
      "T006 DSN_657\n",
      "T006 DSN_658\n",
      "T006 DSN_659\n",
      "T006 DSN_660\n",
      "T006 DSN_661\n",
      "T006 DSN_662\n",
      "T006 DSN_663\n",
      "T006 DSN_664\n",
      "T006 DSN_665\n",
      "T006 DSN_666\n",
      "T006 DSN_667\n",
      "T006 DSN_668\n",
      "T006 DSN_669\n",
      "T006 DSN_670\n",
      "T006 DSN_671\n",
      "T006 DSN_672\n",
      "T006 DSN_673\n",
      "T006 DSN_674\n",
      "T006 DSN_675\n",
      "T006 DSN_676\n",
      "T006 DSN_677\n",
      "T006 DSN_678\n",
      "T006 DSN_679\n",
      "T006 DSN_680\n",
      "T006 DSN_681\n",
      "T006 DSN_682\n",
      "T006 DSN_683\n",
      "T006 DSN_684\n",
      "T006 DSN_685\n",
      "T006 DSN_686\n",
      "T006 DSN_687\n",
      "T006 DSN_688\n",
      "T006 DSN_689\n",
      "T006 DSN_690\n",
      "T006 DSN_691\n",
      "T006 DSN_692\n",
      "T006 DSN_693\n",
      "T006 DSN_694\n",
      "T006 DSN_695\n",
      "T006 DSN_696\n",
      "T006 DSN_697\n",
      "T006 DSN_698\n",
      "T006 DSN_699\n",
      "T006 DSN_700\n",
      "T006 DSN_701\n",
      "T006 DSN_702\n",
      "T006 DSN_703\n",
      "T006 DSN_704\n",
      "T006 DSN_705\n",
      "T006 DSN_706\n",
      "T006 DSN_707\n",
      "T006 DSN_708\n",
      "T006 DSN_709\n",
      "T006 DSN_710\n",
      "T006 DSN_711\n",
      "T006 DSN_712\n",
      "T006 DSN_713\n",
      "T006 DSN_714\n",
      "T006 DSN_715\n",
      "T006 DSN_716\n",
      "T006 DSN_717\n",
      "T006 DSN_718\n",
      "T006 DSN_719\n",
      "T006 DSN_720\n",
      "T006 DSN_721\n",
      "T006 DSN_722\n",
      "T006 DSN_723\n",
      "T006 DSN_724\n",
      "T006 DSN_725\n",
      "T006 DSN_726\n",
      "T006 DSN_727\n",
      "T006 DSN_728\n",
      "T006 DSN_729\n",
      "T006 DSN_730\n",
      "T006 DSN_731\n",
      "T006 DSN_732\n",
      "T006 DSN_733\n",
      "T006 DSN_734\n",
      "T006 DSN_735\n",
      "T006 DSN_736\n",
      "T006 DSN_737\n",
      "T006 DSN_738\n",
      "T006 DSN_739\n",
      "T006 DSN_740\n",
      "T006 DSN_741\n",
      "T006 DSN_742\n",
      "T006 DSN_743\n",
      "T006 DSN_744\n",
      "T006 DSN_745\n",
      "T006 DSN_746\n",
      "T006 DSN_747\n",
      "T006 DSN_748\n",
      "T006 DSN_749\n",
      "T006 DSN_750\n",
      "T006 DSN_751\n",
      "T006 DSN_752\n",
      "T006 DSN_753\n",
      "T006 DSN_754\n",
      "T006 DSN_755\n",
      "T006 DSN_756\n",
      "T006 DSN_757\n",
      "T006 DSN_758\n",
      "T006 DSN_759\n",
      "T006 DSN_760\n",
      "T006 DSN_761\n",
      "T006 DSN_762\n",
      "T006 DSN_763\n",
      "T006 DSN_764\n",
      "T006 DSN_765\n",
      "T006 DSN_766\n",
      "T006 DSN_767\n",
      "T006 DSN_768\n",
      "T006 DSN_769\n",
      "T006 DSN_770\n",
      "T006 DSN_771\n",
      "T006 DSN_772\n",
      "T006 DSN_773\n",
      "T006 DSN_774\n",
      "T006 DSN_775\n",
      "T006 DSN_776\n",
      "T006 DSN_777\n",
      "T006 DSN_778\n",
      "T006 DSN_779\n",
      "T006 DSN_780\n",
      "T006 DSN_781\n",
      "T006 DSN_782\n",
      "T006 DSN_783\n",
      "T006 DSN_784\n",
      "T006 DSN_785\n",
      "T006 DSN_786\n",
      "T006 DSN_787\n",
      "T006 DSN_788\n",
      "T006 DSN_789\n",
      "T006 DSN_790\n",
      "T006 DSN_791\n",
      "T006 DSN_792\n",
      "T006 DSN_793\n",
      "T006 DSN_794\n",
      "T006 DSN_795\n",
      "T006 DSN_796\n",
      "T006 DSN_797\n",
      "T006 DSN_798\n",
      "T006 DSN_799\n",
      "T006 DSN_800\n",
      "T006 DSN_801\n",
      "T006 DSN_802\n",
      "T006 DSN_803\n",
      "T006 DSN_804\n",
      "T006 DSN_805\n",
      "T006 DSN_806\n",
      "T006 DSN_807\n",
      "T006 DSN_808\n",
      "T006 DSN_809\n",
      "T006 DSN_810\n",
      "T006 DSN_811\n",
      "T006 DSN_812\n",
      "T006 DSN_813\n",
      "T006 DSN_814\n",
      "T006 DSN_815\n",
      "T006 DSN_816\n",
      "T006 DSN_817\n",
      "T006 DSN_818\n",
      "T006 DSN_819\n",
      "T006 DSN_820\n",
      "T006 DSN_821\n",
      "T006 DSN_822\n",
      "T006 DSN_823\n",
      "T006 DSN_824\n",
      "T006 DSN_825\n",
      "T006 DSN_826\n",
      "T006 DSN_827\n",
      "T006 DSN_828\n",
      "T006 DSN_829\n",
      "T006 DSN_830\n",
      "T006 DSN_831\n",
      "T006 DSN_832\n",
      "T006 DSN_833\n",
      "T006 DSN_834\n",
      "T006 DSN_835\n",
      "T006 DSN_836\n",
      "T006 DSN_837\n",
      "T006 DSN_838\n",
      "T006 DSN_839\n",
      "T006 DSN_840\n",
      "T006 DSN_841\n",
      "T006 DSN_842\n",
      "T006 DSN_843\n",
      "T006 DSN_844\n",
      "T006 DSN_845\n",
      "T006 DSN_846\n",
      "T006 DSN_847\n",
      "T006 DSN_848\n",
      "T006 DSN_849\n",
      "T006 DSN_850\n",
      "T006 DSN_851\n",
      "T006 DSN_852\n",
      "T006 DSN_853\n",
      "T006 DSN_854\n",
      "T006 DSN_855\n",
      "T006 DSN_856\n",
      "T006 DSN_857\n",
      "T006 DSN_858\n",
      "T006 DSN_859\n",
      "T006 DSN_860\n",
      "T006 DSN_861\n",
      "T006 DSN_862\n",
      "T006 DSN_863\n",
      "T006 DSN_864\n",
      "T006 DSN_865\n",
      "T006 DSN_866\n",
      "T006 DSN_867\n",
      "T006 DSN_868\n",
      "T006 DSN_869\n",
      "T006 DSN_870\n",
      "T006 DSN_871\n",
      "T006 DSN_872\n",
      "T006 DSN_873\n",
      "T006 DSN_874\n",
      "T006 DSN_875\n",
      "T006 DSN_876\n",
      "T006 DSN_877\n",
      "T006 DSN_878\n",
      "T006 DSN_879\n",
      "T006 DSN_880\n",
      "T006 DSN_881\n",
      "T006 DSN_882\n",
      "T006 DSN_883\n",
      "T006 DSN_884\n",
      "T006 DSN_885\n",
      "T006 DSN_886\n",
      "T006 DSN_887\n",
      "T006 DSN_888\n",
      "T006 DSN_889\n",
      "T006 DSN_890\n",
      "T006 DSN_891\n",
      "T006 DSN_892\n",
      "T006 DSN_893\n",
      "T006 DSN_894\n",
      "T006 DSN_895\n",
      "T006 DSN_896\n",
      "T006 DSN_897\n",
      "T006 DSN_898\n",
      "T006 DSN_899\n",
      "T006 DSN_900\n",
      "T006 DSN_901\n",
      "T006 DSN_902\n",
      "T006 DSN_903\n",
      "T006 DSN_904\n",
      "T006 DSN_905\n",
      "T006 DSN_906\n",
      "T006 DSN_907\n",
      "T006 DSN_908\n",
      "T006 DSN_909\n",
      "T006 DSN_910\n",
      "T006 DSN_911\n",
      "T006 DSN_912\n",
      "T006 DSN_913\n",
      "T006 DSN_914\n",
      "T006 DSN_915\n",
      "T006 DSN_916\n",
      "T006 DSN_917\n",
      "T006 DSN_918\n",
      "T006 DSN_919\n",
      "T006 DSN_920\n",
      "T006 DSN_921\n",
      "T006 DSN_922\n",
      "T006 DSN_923\n",
      "T006 DSN_924\n",
      "T006 DSN_925\n",
      "T006 DSN_926\n",
      "T006 DSN_927\n",
      "T006 DSN_928\n",
      "T006 DSN_929\n",
      "T006 DSN_930\n",
      "T006 DSN_931\n",
      "T006 DSN_932\n",
      "T006 DSN_933\n",
      "T006 DSN_934\n",
      "T006 DSN_935\n",
      "T006 DSN_936\n",
      "T006 DSN_937\n",
      "T006 DSN_938\n",
      "T006 DSN_939\n",
      "T006 DSN_940\n",
      "T006 DSN_941\n",
      "T006 DSN_942\n",
      "T006 DSN_943\n",
      "T006 DSN_944\n",
      "T006 DSN_945\n",
      "T006 DSN_946\n",
      "T006 DSN_947\n",
      "T006 DSN_948\n",
      "T006 DSN_949\n",
      "T006 DSN_950\n",
      "T006 DSN_951\n",
      "T006 DSN_952\n",
      "T006 DSN_953\n",
      "T006 DSN_954\n",
      "T006 DSN_955\n",
      "T006 DSN_956\n",
      "T006 DSN_957\n",
      "T006 DSN_958\n",
      "T006 DSN_959\n",
      "T006 DSN_960\n",
      "T006 DSN_961\n",
      "T006 DSN_962\n",
      "T006 DSN_963\n",
      "T006 DSN_964\n",
      "T006 DSN_965\n",
      "T006 DSN_966\n",
      "T006 DSN_967\n",
      "T006 DSN_968\n",
      "T006 DSN_969\n",
      "T006 DSN_970\n",
      "T006 DSN_971\n",
      "T006 DSN_972\n",
      "T006 DSN_973\n",
      "T006 DSN_974\n",
      "T006 DSN_975\n",
      "T006 DSN_976\n",
      "T006 DSN_977\n",
      "T006 DSN_978\n",
      "T006 DSN_979\n",
      "T006 DSN_980\n",
      "T006 DSN_981\n",
      "T006 DSN_982\n",
      "T006 DSN_983\n",
      "T006 DSN_984\n",
      "T006 DSN_985\n",
      "T006 DSN_986\n",
      "T006 DSN_987\n",
      "T006 DSN_988\n",
      "T006 DSN_989\n",
      "T006 DSN_990\n",
      "T006 DSN_991\n",
      "T006 DSN_992\n",
      "T006 DSN_993\n",
      "T006 DSN_994\n",
      "T006 DSN_995\n",
      "T006 DSN_996\n",
      "T006 DSN_997\n",
      "T006 DSN_998\n",
      "T006 DSN_999\n"
     ]
    }
   ],
   "source": [
    "re_log_line = r\"\\|\\s+\\d+(\\|\\s+-?\\d+\\.\\d+){4}\\|\\n\"\n",
    "\n",
    "dir_list = []\n",
    "dfs = []\n",
    "dv_mat = []\n",
    "surf_dfs = []\n",
    "surf_cd_dfs = []\n",
    "\n",
    "#df_meta = pd.DataFrame(columns=[\"AOA\"])\n",
    "meta_rows = []\n",
    "\n",
    "result_rows = []\n",
    "for dir1 in sorted(collectedData.keys()):\n",
    "    if dir1.startswith(\"T006\"): # or dir1.startswith(\"T005\"):\n",
    "        for dsn_dir in sorted(collectedData[dir1].keys()):\n",
    "            dir_str = f\"{dir1} {dsn_dir}\"\n",
    "            print(dir_str)\n",
    "            field_names = [\"config_DSN.cfg\", \"grad_cd\", \"surface_adjoint_drag\", \"surface_flow\", \"log_direct\", \"flow.meta\"]\n",
    "            if len(collectedData[dir1][dsn_dir].keys() & set(field_names)) < len(field_names):\n",
    "                print(\"skipping\", dir_str)\n",
    "                continue\n",
    "            if \"config_DSN.cfg\" in collectedData[dir1][dsn_dir]:\n",
    "                config_lines = collectedData[dir1][dsn_dir][\"config_DSN.cfg\"]\n",
    "                dv_line = [l for l in config_lines if l.startswith(\"DV_VALUE=\")][-1].strip()\n",
    "                #print(dv_line)\n",
    "                dvs = [float(x) for x in dv_line[10:].split(\", \")]\n",
    "                #if len(dvs) < 30:\n",
    "                #    print(dir1, dsn_dir)\n",
    "                #    continue\n",
    "                #print(dvs)\n",
    "                if len(dvs) == 38:\n",
    "                    dv_mat.append(dvs)\n",
    "            if \"grad_cd\" in collectedData[dir1][dsn_dir]:\n",
    "                df = pd.DataFrame.from_dict(collectedData[dir1][dsn_dir][\"grad_cd\"])\n",
    "                df[\"DIR\"] = dir_str\n",
    "                dfs.append(df)\n",
    "                dir_list.append(f\"{dir1} {dsn_dir}\")\n",
    "            if \"surface_adjoint_drag\" in collectedData[dir1][dsn_dir]:\n",
    "                surf_df = pd.DataFrame.from_dict(collectedData[dir1][dsn_dir][\"surface_adjoint_drag\"])\n",
    "                surf_df[\"DIR\"] = dir_str\n",
    "                surf_cd_dfs.append(surf_df)\n",
    "            if \"surface_flow\" in collectedData[dir1][dsn_dir]:\n",
    "                surf_df = pd.DataFrame.from_dict(collectedData[dir1][dsn_dir][\"surface_flow\"])\n",
    "                surf_df[\"DIR\"] = dir_str\n",
    "                surf_dfs.append(surf_df)\n",
    "            if \"log_direct\" in collectedData[dir1][dsn_dir]:\n",
    "                log_lines = collectedData[dir1][dsn_dir][\"log_direct\"]\n",
    "                log_lines_iter = [l for l in log_lines if re.match(re_log_line, l)]#[-100:]\n",
    "                lls = log_lines_iter[-1].split(\"|\")[1:-1]\n",
    "                iteration = int(lls[0])\n",
    "                rms_rho = float(lls[1])\n",
    "                rms_nu = float(lls[2])\n",
    "                c_L = float(lls[3])\n",
    "                c_D = float(lls[4])\n",
    "                #print(dir_str, c_L, c_D)\n",
    "                result_rows.append((dir_str, c_L, c_D, rms_rho, rms_nu))\n",
    "            if \"flow.meta\" in collectedData[dir1][dsn_dir]:\n",
    "                #print(collectedData[dir1][dsn_dir][\"flow.meta\"])\n",
    "                #break\n",
    "                for l in collectedData[dir1][dsn_dir][\"flow.meta\"]:\n",
    "                    if l.startswith(\"AOA=\"):\n",
    "                        meta_rows.append((dir_str, float(l.strip().split()[1])))\n",
    "\n",
    "#dv_mat = np.asarray(dv_mat)\n",
    "df_result = pd.DataFrame(columns=[\"DIR\", \"c_L\", \"c_D\", \"rms_rho\", \"rms_nu\"], data=result_rows)\n",
    "df_meta =  pd.DataFrame(columns=[\"DIR\", \"AOA\"], data=meta_rows)\n",
    "df_result = df_result.merge(df_meta, on=\"DIR\")"
   ]
  },
  {
   "cell_type": "code",
   "execution_count": 4,
   "metadata": {},
   "outputs": [],
   "source": [
    "import pickle\n",
    "dir1 = \"T006\"\n",
    "dv_list = pickle.load(open(os.path.join(\"CollectedData\", dir1, \"dv_list.p\"), \"rb\"))\n",
    "dv_mat2 = np.asarray(dv_list) #[:len(dir_list),:]\n",
    "if len(dv_mat):\n",
    "    dv_mat = np.vstack((np.asarray(dv_mat), dv_mat2))[:len(dir_list),:]\n",
    "else:\n",
    "    dv_mat = dv_mat2[:len(dir_list),:]"
   ]
  },
  {
   "cell_type": "code",
   "execution_count": 5,
   "metadata": {},
   "outputs": [
    {
     "data": {
      "text/plain": [
       "((1000, 38), (1000, 38))"
      ]
     },
     "execution_count": 5,
     "metadata": {},
     "output_type": "execute_result"
    }
   ],
   "source": [
    "np.asarray(dv_mat).shape, dv_mat2.shape"
   ]
  },
  {
   "cell_type": "code",
   "execution_count": 6,
   "metadata": {},
   "outputs": [
    {
     "data": {
      "text/html": [
       "<div>\n",
       "<style scoped>\n",
       "    .dataframe tbody tr th:only-of-type {\n",
       "        vertical-align: middle;\n",
       "    }\n",
       "\n",
       "    .dataframe tbody tr th {\n",
       "        vertical-align: top;\n",
       "    }\n",
       "\n",
       "    .dataframe thead th {\n",
       "        text-align: right;\n",
       "    }\n",
       "</style>\n",
       "<table border=\"1\" class=\"dataframe\">\n",
       "  <thead>\n",
       "    <tr style=\"text-align: right;\">\n",
       "      <th></th>\n",
       "      <th>DIR</th>\n",
       "      <th>c_L</th>\n",
       "      <th>c_D</th>\n",
       "      <th>rms_rho</th>\n",
       "      <th>rms_nu</th>\n",
       "      <th>AOA</th>\n",
       "    </tr>\n",
       "  </thead>\n",
       "  <tbody>\n",
       "    <tr>\n",
       "      <th>0</th>\n",
       "      <td>T006 DSN_000</td>\n",
       "      <td>0.712967</td>\n",
       "      <td>0.060632</td>\n",
       "      <td>-4.977940</td>\n",
       "      <td>-5.366283</td>\n",
       "      <td>5.622905</td>\n",
       "    </tr>\n",
       "    <tr>\n",
       "      <th>1</th>\n",
       "      <td>T006 DSN_001</td>\n",
       "      <td>0.724184</td>\n",
       "      <td>0.018179</td>\n",
       "      <td>-6.424451</td>\n",
       "      <td>-8.215098</td>\n",
       "      <td>3.673885</td>\n",
       "    </tr>\n",
       "    <tr>\n",
       "      <th>2</th>\n",
       "      <td>T006 DSN_002</td>\n",
       "      <td>0.724241</td>\n",
       "      <td>0.012951</td>\n",
       "      <td>-6.452422</td>\n",
       "      <td>-8.123596</td>\n",
       "      <td>1.245573</td>\n",
       "    </tr>\n",
       "    <tr>\n",
       "      <th>3</th>\n",
       "      <td>T006 DSN_003</td>\n",
       "      <td>0.724184</td>\n",
       "      <td>0.018523</td>\n",
       "      <td>-6.395492</td>\n",
       "      <td>-8.374623</td>\n",
       "      <td>2.102441</td>\n",
       "    </tr>\n",
       "    <tr>\n",
       "      <th>4</th>\n",
       "      <td>T006 DSN_004</td>\n",
       "      <td>0.724207</td>\n",
       "      <td>0.013087</td>\n",
       "      <td>-6.535674</td>\n",
       "      <td>-8.658059</td>\n",
       "      <td>2.780464</td>\n",
       "    </tr>\n",
       "    <tr>\n",
       "      <th>...</th>\n",
       "      <td>...</td>\n",
       "      <td>...</td>\n",
       "      <td>...</td>\n",
       "      <td>...</td>\n",
       "      <td>...</td>\n",
       "      <td>...</td>\n",
       "    </tr>\n",
       "    <tr>\n",
       "      <th>995</th>\n",
       "      <td>T006 DSN_995</td>\n",
       "      <td>0.723134</td>\n",
       "      <td>0.030137</td>\n",
       "      <td>-6.175512</td>\n",
       "      <td>-6.857003</td>\n",
       "      <td>2.950256</td>\n",
       "    </tr>\n",
       "    <tr>\n",
       "      <th>996</th>\n",
       "      <td>T006 DSN_996</td>\n",
       "      <td>0.724201</td>\n",
       "      <td>0.018668</td>\n",
       "      <td>-6.426329</td>\n",
       "      <td>-8.284552</td>\n",
       "      <td>2.422116</td>\n",
       "    </tr>\n",
       "    <tr>\n",
       "      <th>997</th>\n",
       "      <td>T006 DSN_997</td>\n",
       "      <td>0.724063</td>\n",
       "      <td>0.027954</td>\n",
       "      <td>-6.543067</td>\n",
       "      <td>-7.889432</td>\n",
       "      <td>2.725608</td>\n",
       "    </tr>\n",
       "    <tr>\n",
       "      <th>998</th>\n",
       "      <td>T006 DSN_998</td>\n",
       "      <td>0.724212</td>\n",
       "      <td>0.022010</td>\n",
       "      <td>-6.407270</td>\n",
       "      <td>-8.054449</td>\n",
       "      <td>2.908295</td>\n",
       "    </tr>\n",
       "    <tr>\n",
       "      <th>999</th>\n",
       "      <td>T006 DSN_999</td>\n",
       "      <td>0.724164</td>\n",
       "      <td>0.014425</td>\n",
       "      <td>-6.388792</td>\n",
       "      <td>-8.610080</td>\n",
       "      <td>1.884998</td>\n",
       "    </tr>\n",
       "  </tbody>\n",
       "</table>\n",
       "<p>1000 rows × 6 columns</p>\n",
       "</div>"
      ],
      "text/plain": [
       "              DIR       c_L       c_D   rms_rho    rms_nu       AOA\n",
       "0    T006 DSN_000  0.712967  0.060632 -4.977940 -5.366283  5.622905\n",
       "1    T006 DSN_001  0.724184  0.018179 -6.424451 -8.215098  3.673885\n",
       "2    T006 DSN_002  0.724241  0.012951 -6.452422 -8.123596  1.245573\n",
       "3    T006 DSN_003  0.724184  0.018523 -6.395492 -8.374623  2.102441\n",
       "4    T006 DSN_004  0.724207  0.013087 -6.535674 -8.658059  2.780464\n",
       "..            ...       ...       ...       ...       ...       ...\n",
       "995  T006 DSN_995  0.723134  0.030137 -6.175512 -6.857003  2.950256\n",
       "996  T006 DSN_996  0.724201  0.018668 -6.426329 -8.284552  2.422116\n",
       "997  T006 DSN_997  0.724063  0.027954 -6.543067 -7.889432  2.725608\n",
       "998  T006 DSN_998  0.724212  0.022010 -6.407270 -8.054449  2.908295\n",
       "999  T006 DSN_999  0.724164  0.014425 -6.388792 -8.610080  1.884998\n",
       "\n",
       "[1000 rows x 6 columns]"
      ]
     },
     "execution_count": 6,
     "metadata": {},
     "output_type": "execute_result"
    }
   ],
   "source": [
    "df_result"
   ]
  },
  {
   "cell_type": "code",
   "execution_count": 7,
   "metadata": {},
   "outputs": [
    {
     "data": {
      "text/plain": [
       "[<matplotlib.lines.Line2D at 0x1e23aabd580>]"
      ]
     },
     "execution_count": 7,
     "metadata": {},
     "output_type": "execute_result"
    },
    {
     "data": {
      "image/png": "[encoded data removed]",
      "text/plain": [
       "<Figure size 432x288 with 1 Axes>"
      ]
     },
     "metadata": {
      "needs_background": "light"
     },
     "output_type": "display_data"
    }
   ],
   "source": [
    "plt.plot(df_result[\"rms_nu\"], df_result[\"c_D\"], \"o\")\n",
    "plt.plot(df_result[\"rms_rho\"], df_result[\"c_D\"], \"o\")"
   ]
  },
  {
   "cell_type": "code",
   "execution_count": 8,
   "metadata": {},
   "outputs": [
    {
     "data": {
      "text/plain": [
       "[<matplotlib.lines.Line2D at 0x1e23ab98af0>]"
      ]
     },
     "execution_count": 8,
     "metadata": {},
     "output_type": "execute_result"
    },
    {
     "data": {
      "image/png": "[encoded data removed]",
      "text/plain": [
       "<Figure size 432x288 with 1 Axes>"
      ]
     },
     "metadata": {
      "needs_background": "light"
     },
     "output_type": "display_data"
    }
   ],
   "source": [
    "plt.plot(df_result[\"rms_nu\"], df_result[\"AOA\"], \"o\")\n",
    "plt.plot(df_result[\"rms_rho\"], df_result[\"AOA\"], \"o\")"
   ]
  },
  {
   "cell_type": "code",
   "execution_count": 9,
   "metadata": {},
   "outputs": [
    {
     "data": {
      "text/plain": [
       "[<matplotlib.lines.Line2D at 0x1e23abf9a60>]"
      ]
     },
     "execution_count": 9,
     "metadata": {},
     "output_type": "execute_result"
    },
    {
     "data": {
      "image/png": "[encoded data removed]",
      "text/plain": [
       "<Figure size 432x288 with 1 Axes>"
      ]
     },
     "metadata": {
      "needs_background": "light"
     },
     "output_type": "display_data"
    }
   ],
   "source": [
    "plt.plot(df_result[\"c_D\"], df_result[\"AOA\"], \"o\")"
   ]
  },
  {
   "cell_type": "code",
   "execution_count": 10,
   "metadata": {},
   "outputs": [
    {
     "data": {
      "text/plain": [
       "924"
      ]
     },
     "execution_count": 10,
     "metadata": {},
     "output_type": "execute_result"
    }
   ],
   "source": [
    "a = df_result[\"rms_rho\"] < -6\n",
    "a.sum()"
   ]
  },
  {
   "cell_type": "code",
   "execution_count": 11,
   "metadata": {},
   "outputs": [
    {
     "data": {
      "text/plain": [
       "(924,)"
      ]
     },
     "execution_count": 11,
     "metadata": {},
     "output_type": "execute_result"
    }
   ],
   "source": [
    "c_D = df_result[\"c_D\"].values[a]\n",
    "c_D.shape"
   ]
  },
  {
   "cell_type": "code",
   "execution_count": 12,
   "metadata": {},
   "outputs": [],
   "source": [
    "df_cd_grad = pd.concat(dfs) #.set_index(\"DIR\") #.sort_values(\"DIR\")\n",
    "d_CD = np.resize(df_cd_grad[\"CD_GRAD\"].values, ((len(dir_list), 38)))[a]"
   ]
  },
  {
   "cell_type": "code",
   "execution_count": 13,
   "metadata": {},
   "outputs": [
    {
     "data": {
      "text/plain": [
       "(924, 38)"
      ]
     },
     "execution_count": 13,
     "metadata": {},
     "output_type": "execute_result"
    }
   ],
   "source": [
    "d_CD.shape"
   ]
  },
  {
   "cell_type": "code",
   "execution_count": 14,
   "metadata": {},
   "outputs": [],
   "source": [
    "#np.outer(d_CD[0], d_CD[0])[0] - d_CD[0,0]*d_CD[0]"
   ]
  },
  {
   "cell_type": "code",
   "execution_count": 15,
   "metadata": {},
   "outputs": [
    {
     "ename": "MemoryError",
     "evalue": "Unable to allocate 9.19 GiB for an array with shape (35112, 35112) and data type float64",
     "output_type": "error",
     "traceback": [
      "\u001b[1;31m---------------------------------------------------------------------------\u001b[0m",
      "\u001b[1;31mMemoryError\u001b[0m                               Traceback (most recent call last)",
      "\u001b[1;32m<ipython-input-15-2f2cd263c23f>\u001b[0m in \u001b[0;36m<module>\u001b[1;34m\u001b[0m\n\u001b[1;32m----> 1\u001b[1;33m \u001b[0mC\u001b[0m \u001b[1;33m=\u001b[0m \u001b[0mnp\u001b[0m\u001b[1;33m.\u001b[0m\u001b[0mouter\u001b[0m\u001b[1;33m(\u001b[0m\u001b[0md_CD\u001b[0m\u001b[1;33m,\u001b[0m \u001b[0md_CD\u001b[0m\u001b[1;33m.\u001b[0m\u001b[0mT\u001b[0m\u001b[1;33m)\u001b[0m \u001b[1;33m/\u001b[0m \u001b[0md_CD\u001b[0m\u001b[1;33m.\u001b[0m\u001b[0mshape\u001b[0m\u001b[1;33m[\u001b[0m\u001b[1;36m0\u001b[0m\u001b[1;33m]\u001b[0m\u001b[1;33m\u001b[0m\u001b[1;33m\u001b[0m\u001b[0m\n\u001b[0m",
      "\u001b[1;32m<__array_function__ internals>\u001b[0m in \u001b[0;36mouter\u001b[1;34m(*args, **kwargs)\u001b[0m\n",
      "\u001b[1;32m~\\Anaconda3\\envs\\MA\\lib\\site-packages\\numpy\\core\\numeric.py\u001b[0m in \u001b[0;36mouter\u001b[1;34m(a, b, out)\u001b[0m\n\u001b[0;32m    907\u001b[0m     \u001b[0ma\u001b[0m \u001b[1;33m=\u001b[0m \u001b[0masarray\u001b[0m\u001b[1;33m(\u001b[0m\u001b[0ma\u001b[0m\u001b[1;33m)\u001b[0m\u001b[1;33m\u001b[0m\u001b[1;33m\u001b[0m\u001b[0m\n\u001b[0;32m    908\u001b[0m     \u001b[0mb\u001b[0m \u001b[1;33m=\u001b[0m \u001b[0masarray\u001b[0m\u001b[1;33m(\u001b[0m\u001b[0mb\u001b[0m\u001b[1;33m)\u001b[0m\u001b[1;33m\u001b[0m\u001b[1;33m\u001b[0m\u001b[0m\n\u001b[1;32m--> 909\u001b[1;33m     \u001b[1;32mreturn\u001b[0m \u001b[0mmultiply\u001b[0m\u001b[1;33m(\u001b[0m\u001b[0ma\u001b[0m\u001b[1;33m.\u001b[0m\u001b[0mravel\u001b[0m\u001b[1;33m(\u001b[0m\u001b[1;33m)\u001b[0m\u001b[1;33m[\u001b[0m\u001b[1;33m:\u001b[0m\u001b[1;33m,\u001b[0m \u001b[0mnewaxis\u001b[0m\u001b[1;33m]\u001b[0m\u001b[1;33m,\u001b[0m \u001b[0mb\u001b[0m\u001b[1;33m.\u001b[0m\u001b[0mravel\u001b[0m\u001b[1;33m(\u001b[0m\u001b[1;33m)\u001b[0m\u001b[1;33m[\u001b[0m\u001b[0mnewaxis\u001b[0m\u001b[1;33m,\u001b[0m \u001b[1;33m:\u001b[0m\u001b[1;33m]\u001b[0m\u001b[1;33m,\u001b[0m \u001b[0mout\u001b[0m\u001b[1;33m)\u001b[0m\u001b[1;33m\u001b[0m\u001b[1;33m\u001b[0m\u001b[0m\n\u001b[0m\u001b[0;32m    910\u001b[0m \u001b[1;33m\u001b[0m\u001b[0m\n\u001b[0;32m    911\u001b[0m \u001b[1;33m\u001b[0m\u001b[0m\n",
      "\u001b[1;31mMemoryError\u001b[0m: Unable to allocate 9.19 GiB for an array with shape (35112, 35112) and data type float64"
     ]
    }
   ],
   "source": [
    "C = np.outer(d_CD, d_CD.T) / d_CD.shape[0]"
   ]
  },
  {
   "cell_type": "code",
   "execution_count": 37,
   "metadata": {},
   "outputs": [],
   "source": [
    "C = np.zeros((38,38))\n",
    "for i in range(d_CD.shape[0]):\n",
    "    C += np.outer(d_CD[i], d_CD[i])\n",
    "C = C / d_CD.shape[0]"
   ]
  },
  {
   "cell_type": "code",
   "execution_count": 38,
   "metadata": {},
   "outputs": [
    {
     "data": {
      "text/plain": [
       "924"
      ]
     },
     "execution_count": 38,
     "metadata": {},
     "output_type": "execute_result"
    }
   ],
   "source": [
    "d_CD.shape[0]"
   ]
  },
  {
   "cell_type": "code",
   "execution_count": 39,
   "metadata": {},
   "outputs": [
    {
     "data": {
      "text/plain": [
       "(38, 38)"
      ]
     },
     "execution_count": 39,
     "metadata": {},
     "output_type": "execute_result"
    }
   ],
   "source": [
    "C.shape"
   ]
  },
  {
   "cell_type": "code",
   "execution_count": 19,
   "metadata": {},
   "outputs": [
    {
     "data": {
      "image/png": "[encoded data removed]",
      "text/plain": [
       "<Figure size 432x288 with 1 Axes>"
      ]
     },
     "metadata": {
      "needs_background": "light"
     },
     "output_type": "display_data"
    }
   ],
   "source": [
    "for i in range(38):\n",
    "    plt.plot(C[i], 'o')"
   ]
  },
  {
   "cell_type": "code",
   "execution_count": 20,
   "metadata": {},
   "outputs": [
    {
     "name": "stderr",
     "output_type": "stream",
     "text": [
      "<ipython-input-20-e46ca48f6ef3>:2: ComplexWarning: Casting complex values to real discards the imaginary part\n",
      "  l = l.astype(\"double\")\n"
     ]
    }
   ],
   "source": [
    "l, W = linalg.eig(C)\n",
    "l = l.astype(\"double\")"
   ]
  },
  {
   "cell_type": "code",
   "execution_count": 21,
   "metadata": {},
   "outputs": [
    {
     "data": {
      "text/plain": [
       "(array([1.05124173e+02, 8.35126770e+00, 5.40810283e+00, 1.38478176e+00,\n",
       "        8.42755820e-01, 4.56642713e-01, 2.56353998e-01, 1.46955548e-01,\n",
       "        8.66549036e-02, 4.24823724e-02, 1.06154621e-02, 7.45814961e-03,\n",
       "        1.81546505e-03, 1.45260839e-03, 5.43181370e-04, 3.36978152e-04,\n",
       "        1.22713977e-04, 4.77765428e-05, 2.33688471e-05, 4.77487144e-06,\n",
       "        3.84064692e-06, 3.93886201e-07, 3.16198352e-07, 2.30845986e-08,\n",
       "        1.82114790e-08, 1.53895481e-09, 8.73894806e-10, 8.71512427e-11,\n",
       "        3.17042147e-11, 5.80461475e-12, 3.67202107e-12, 2.59619506e-12,\n",
       "        1.89747323e-12, 5.79189052e-13, 2.22080176e-13, 6.08298558e-14,\n",
       "        7.39642937e-14, 1.34050388e-13]),\n",
       " array([1.10510918e+04, 6.97436723e+01, 2.92475763e+01, 1.91762052e+00,\n",
       "        7.10237372e-01, 2.08522567e-01, 6.57173722e-02, 2.15959331e-02,\n",
       "        7.50907231e-03, 1.80475197e-03, 1.12688036e-04, 5.56239956e-05,\n",
       "        3.29591333e-06, 2.11007113e-06, 2.95046001e-07, 1.13554275e-07,\n",
       "        1.50587201e-08, 2.28259804e-09, 5.46103014e-10, 2.27993973e-11,\n",
       "        1.47505687e-11, 1.55146339e-13, 9.99813979e-14, 5.32898692e-16,\n",
       "        3.31657966e-16, 2.36838192e-18, 7.63692133e-19, 7.59533911e-21,\n",
       "        1.00515723e-21, 3.36935524e-23, 1.34837388e-23, 6.74022878e-24,\n",
       "        3.60040468e-24, 3.35459958e-25, 4.93196046e-26, 3.70027135e-27,\n",
       "        5.47071675e-27, 1.79695065e-26]),\n",
       " array([1.02530080e+01, 2.88985600e+00, 2.32553281e+00, 1.17676750e+00,\n",
       "        9.18017331e-01, 6.75753441e-01, 5.06314130e-01, 3.83347816e-01,\n",
       "        2.94372050e-01, 2.06112524e-01, 1.03031365e-01, 8.63605790e-02,\n",
       "        4.26082744e-02, 3.81130999e-02, 2.33062517e-02, 1.83569647e-02,\n",
       "        1.10776341e-02, 6.91205778e-03, 4.83413354e-03, 2.18514792e-03,\n",
       "        1.95975685e-03, 6.27603538e-04, 5.62315172e-04, 1.51936166e-04,\n",
       "        1.34949913e-04, 3.92295146e-05, 2.95617118e-05, 9.33548299e-06,\n",
       "        5.63064958e-06, 2.40927681e-06, 1.91625183e-06, 1.61127126e-06,\n",
       "        1.37748802e-06, 7.61044711e-07, 4.71253834e-07, 2.46637093e-07,\n",
       "        2.71963773e-07, 3.66128923e-07]))"
      ]
     },
     "execution_count": 21,
     "metadata": {},
     "output_type": "execute_result"
    }
   ],
   "source": [
    "l, l**2, np.sqrt(l)"
   ]
  },
  {
   "cell_type": "code",
   "execution_count": 22,
   "metadata": {},
   "outputs": [
    {
     "data": {
      "text/plain": [
       "(array([-9.54660363e-02, -8.74683184e-03,  6.99081113e-02, -3.71729990e-01,\n",
       "         2.32896180e-01, -2.49632750e-01,  9.03199219e-02,  3.12741459e-02,\n",
       "         1.36055531e-01, -1.00899754e-01, -6.85779086e-02,  1.08293411e-01,\n",
       "         2.54533495e-01,  1.29369873e-01,  5.66402443e-01, -5.37604932e-02,\n",
       "         2.62876297e-01,  2.24127060e-04, -2.95208489e-01, -2.37776388e-01,\n",
       "         1.60063491e-02,  1.66379818e-01, -8.62931968e-03,  1.40286171e-01,\n",
       "        -1.67213921e-02, -8.80261953e-02, -1.95017001e-02,  4.34337312e-02,\n",
       "        -4.96181564e-04, -7.45831477e-03, -2.48957395e-02, -9.78984510e-03,\n",
       "        -2.36927605e-03,  1.19120004e-02,  1.11366527e-04, -8.61850940e-04,\n",
       "        -9.54870915e-04, -9.67372046e-05]),\n",
       " array([-0.09546604, -0.09707783, -0.0865084 , -0.07157038, -0.05614313,\n",
       "        -0.04251905, -0.03197743, -0.0250159 , -0.02152232, -0.02096126,\n",
       "        -0.02257665, -0.02556765, -0.02916024, -0.03245446, -0.03381973,\n",
       "        -0.02921547, -0.00732753,  0.06633861,  0.30929228, -0.50750414,\n",
       "        -0.48139942, -0.40695831, -0.31799235, -0.22926729, -0.14861798,\n",
       "        -0.08006787, -0.0252182 ,  0.01581324,  0.04366366,  0.05927555,\n",
       "         0.06385514,  0.05924511,  0.0483919 ,  0.03515412,  0.02261125,\n",
       "         0.01031481, -0.00629644, -0.03056968]))"
      ]
     },
     "execution_count": 22,
     "metadata": {},
     "output_type": "execute_result"
    }
   ],
   "source": [
    "W[0], W[:,0]"
   ]
  },
  {
   "cell_type": "code",
   "execution_count": null,
   "metadata": {},
   "outputs": [],
   "source": []
  },
  {
   "cell_type": "code",
   "execution_count": 42,
   "metadata": {},
   "outputs": [],
   "source": [
    "pca = PCA(whiten=False)"
   ]
  },
  {
   "cell_type": "code",
   "execution_count": 43,
   "metadata": {},
   "outputs": [
    {
     "data": {
      "text/plain": [
       "PCA()"
      ]
     },
     "execution_count": 43,
     "metadata": {},
     "output_type": "execute_result"
    }
   ],
   "source": [
    "pca.fit(d_CD/np.sqrt(d_CD.shape[1]))"
   ]
  },
  {
   "cell_type": "code",
   "execution_count": 44,
   "metadata": {},
   "outputs": [
    {
     "data": {
      "text/plain": [
       "227.91581541237593"
      ]
     },
     "execution_count": 44,
     "metadata": {},
     "output_type": "execute_result"
    }
   ],
   "source": [
    "pca.score(d_CD/d_CD.shape[0])"
   ]
  },
  {
   "cell_type": "code",
   "execution_count": 45,
   "metadata": {},
   "outputs": [
    {
     "data": {
      "text/plain": [
       "0.019889569155081013"
      ]
     },
     "execution_count": 45,
     "metadata": {},
     "output_type": "execute_result"
    }
   ],
   "source": [
    "np.dot(pca.components_[0], W[:,1])"
   ]
  },
  {
   "cell_type": "code",
   "execution_count": 46,
   "metadata": {},
   "outputs": [
    {
     "data": {
      "text/plain": [
       "0.9999999999999993"
      ]
     },
     "execution_count": 46,
     "metadata": {},
     "output_type": "execute_result"
    }
   ],
   "source": [
    "np.dot(pca.components_[0], pca.components_[0])"
   ]
  },
  {
   "cell_type": "code",
   "execution_count": 28,
   "metadata": {},
   "outputs": [
    {
     "data": {
      "text/plain": [
       "-4.2711670608652774e-07"
      ]
     },
     "execution_count": 28,
     "metadata": {},
     "output_type": "execute_result"
    }
   ],
   "source": [
    "np.dot(W[0], W[1])"
   ]
  },
  {
   "cell_type": "code",
   "execution_count": 29,
   "metadata": {},
   "outputs": [
    {
     "data": {
      "text/plain": [
       "1.0"
      ]
     },
     "execution_count": 29,
     "metadata": {},
     "output_type": "execute_result"
    }
   ],
   "source": [
    "np.dot(W[:,0], W[:,0])"
   ]
  },
  {
   "cell_type": "code",
   "execution_count": 47,
   "metadata": {},
   "outputs": [
    {
     "data": {
      "text/plain": [
       "0.019889569155081013"
      ]
     },
     "execution_count": 47,
     "metadata": {},
     "output_type": "execute_result"
    }
   ],
   "source": [
    "np.dot(pca.components_[0], W[:,1])"
   ]
  },
  {
   "cell_type": "code",
   "execution_count": 31,
   "metadata": {},
   "outputs": [
    {
     "data": {
      "text/plain": [
       "(38, 38)"
      ]
     },
     "execution_count": 31,
     "metadata": {},
     "output_type": "execute_result"
    }
   ],
   "source": [
    "W.shape"
   ]
  },
  {
   "cell_type": "code",
   "execution_count": 32,
   "metadata": {},
   "outputs": [],
   "source": [
    "r = 5"
   ]
  },
  {
   "cell_type": "code",
   "execution_count": 48,
   "metadata": {},
   "outputs": [
    {
     "data": {
      "text/plain": [
       "(924, 5)"
      ]
     },
     "execution_count": 48,
     "metadata": {},
     "output_type": "execute_result"
    }
   ],
   "source": [
    "Y = pca.transform(dv_mat[a])[:,:r]\n",
    "Y.shape"
   ]
  },
  {
   "cell_type": "code",
   "execution_count": 49,
   "metadata": {},
   "outputs": [
    {
     "data": {
      "text/plain": [
       "<mpl_toolkits.mplot3d.art3d.Path3DCollection at 0x1e48878a7c0>"
      ]
     },
     "execution_count": 49,
     "metadata": {},
     "output_type": "execute_result"
    },
    {
     "data": {
      "image/png": "[encoded data removed]",
      "text/plain": [
       "<Figure size 432x288 with 1 Axes>"
      ]
     },
     "metadata": {
      "needs_background": "light"
     },
     "output_type": "display_data"
    }
   ],
   "source": [
    "fig = plt.figure()\n",
    "ax = fig.add_subplot(111, projection='3d')\n",
    "\n",
    "ax.scatter(Y[:,0], Y[:,1], c_D)"
   ]
  },
  {
   "cell_type": "code",
   "execution_count": null,
   "metadata": {},
   "outputs": [],
   "source": [
    "Y[:,0].mean(), Y[:,0].var()"
   ]
  },
  {
   "cell_type": "code",
   "execution_count": 50,
   "metadata": {},
   "outputs": [
    {
     "data": {
      "text/plain": [
       "(924, 5)"
      ]
     },
     "execution_count": 50,
     "metadata": {},
     "output_type": "execute_result"
    }
   ],
   "source": [
    "Y2 = np.dot(W[:r,:], dv_mat[a].T).T\n",
    "Y2.shape"
   ]
  },
  {
   "cell_type": "code",
   "execution_count": null,
   "metadata": {},
   "outputs": [],
   "source": [
    "Y[0], Y2[0]"
   ]
  },
  {
   "cell_type": "code",
   "execution_count": 35,
   "metadata": {},
   "outputs": [],
   "source": [
    "import scipy"
   ]
  },
  {
   "cell_type": "code",
   "execution_count": 36,
   "metadata": {},
   "outputs": [],
   "source": [
    "from scipy import linalg"
   ]
  },
  {
   "cell_type": "code",
   "execution_count": 51,
   "metadata": {},
   "outputs": [],
   "source": [
    "l, W = scipy.linalg.eig(C)"
   ]
  },
  {
   "cell_type": "code",
   "execution_count": 52,
   "metadata": {},
   "outputs": [],
   "source": [
    "np.outer(d_CD[0], d_CD[0]).shape\n",
    "\n",
    "C2 = np.zeros_like(C)\n",
    "for i in range(d_CD.shape[0]):\n",
    "    C2 += np.outer(d_CD[i], d_CD[i].T)\n",
    "\n",
    "C2 = C2 / d_CD.shape[0]"
   ]
  },
  {
   "cell_type": "code",
   "execution_count": 53,
   "metadata": {},
   "outputs": [
    {
     "data": {
      "text/plain": [
       "array([ 0.621198 ,  0.638195 ,  0.582739 ,  0.503014 ,  0.422043 ,\n",
       "        0.352958 ,  0.302833 ,  0.274264 ,  0.266471 ,  0.27644  ,\n",
       "        0.300117 ,  0.333451 ,  0.372772 ,  0.413599 ,  0.445624 ,\n",
       "        0.437262 ,  0.287186 , -0.331585 , -2.27885  ,  6.62241  ,\n",
       "        5.90301  ,  4.6314   ,  3.24922  ,  1.94075  ,  0.801395 ,\n",
       "       -0.120068 , -0.805092 , -1.25682  , -1.49534  , -1.55572  ,\n",
       "       -1.48658  , -1.34341  , -1.16791  , -0.951871 , -0.615335 ,\n",
       "       -0.0946435,  0.303852 , -0.0358609])"
      ]
     },
     "execution_count": 53,
     "metadata": {},
     "output_type": "execute_result"
    }
   ],
   "source": [
    "d_CD[0]"
   ]
  },
  {
   "cell_type": "code",
   "execution_count": 54,
   "metadata": {},
   "outputs": [
    {
     "data": {
      "text/plain": [
       "array([[ 0.38588696,  0.39644546,  0.3619963 , ..., -0.05879235,\n",
       "         0.18875225, -0.02227672],\n",
       "       [ 0.39644546,  0.40729286,  0.37190112, ..., -0.06040101,\n",
       "         0.19391683, -0.02288625],\n",
       "       [ 0.3619963 ,  0.37190112,  0.33958474, ..., -0.05515246,\n",
       "         0.17706641, -0.02089755],\n",
       "       ...,\n",
       "       [-0.05879235, -0.06040101, -0.05515246, ...,  0.00895739,\n",
       "        -0.02875762,  0.003394  ],\n",
       "       [ 0.18875225,  0.19391683,  0.17706641, ..., -0.02875762,\n",
       "         0.09232604, -0.01089641],\n",
       "       [-0.02227672, -0.02288625, -0.02089755, ...,  0.003394  ,\n",
       "        -0.01089641,  0.001286  ]])"
      ]
     },
     "execution_count": 54,
     "metadata": {},
     "output_type": "execute_result"
    }
   ],
   "source": [
    "i = 0\n",
    "np.outer(d_CD[i], d_CD[i].T)#.shape"
   ]
  },
  {
   "cell_type": "code",
   "execution_count": null,
   "metadata": {},
   "outputs": [],
   "source": [
    "C[:3,:3], C2[:3,:3]"
   ]
  },
  {
   "cell_type": "code",
   "execution_count": 55,
   "metadata": {
    "scrolled": true
   },
   "outputs": [
    {
     "data": {
      "text/plain": [
       "(1.255404486526879,\n",
       " array([4.17626575e-04, 1.14775891e-03, 1.49105629e-03, 7.30836347e-04,\n",
       "        8.38308585e-04, 1.05013153e-03, 1.33108805e-03, 6.98469354e-04,\n",
       "        2.16810482e-03, 1.31364610e-03, 5.25844260e-04, 8.61536902e-04,\n",
       "        8.17063156e-04, 1.26100555e-03, 1.13227502e-03, 8.06865991e-04,\n",
       "        8.42374974e-04, 8.69529345e-04, 8.20962749e-04, 1.44837870e-03,\n",
       "        1.01472810e-03, 9.28162678e-04, 1.79734598e-03, 1.29847578e-03,\n",
       "        6.35418617e-04, 7.27560094e-04, 1.11296377e-03, 1.14633276e-03,\n",
       "        7.45293314e-04, 7.75591886e-04, 1.23421040e-03, 1.36201575e-03,\n",
       "        1.06155016e-03, 9.82390424e-04, 6.42627026e-04, 9.30017766e-04,\n",
       "        8.20250300e-04, 1.49034500e-03, 1.09325293e-03, 1.28155571e-03,\n",
       "        3.18433193e-05, 6.11810615e-04, 1.07116921e-03, 1.18900366e-03,\n",
       "        1.10382944e-03, 9.26123218e-04, 1.32902444e-03, 1.42235486e-03,\n",
       "        1.51109249e-03, 8.41932000e-04, 1.69415730e-03, 5.96047653e-04,\n",
       "        1.12986309e-03, 1.13768353e-03, 1.33752910e-03, 8.20086368e-04,\n",
       "        1.54271520e-03, 4.86620457e-04, 8.14732740e-04, 1.00612600e-03,\n",
       "        1.50544539e-03, 4.79508614e-04, 1.37308648e-03, 9.73485386e-04,\n",
       "        4.21437715e-04, 1.81064802e-03, 1.04233602e-03, 7.50405088e-04,\n",
       "        1.71134318e-03, 1.15978251e-03, 1.07990171e-03, 9.58410539e-04,\n",
       "        4.07008185e-04, 1.20706287e-03, 1.01231925e-03, 1.40139035e-03,\n",
       "        9.13056595e-04, 9.64796640e-04, 7.14862883e-04, 2.27599787e-03,\n",
       "        1.02039069e-03, 9.68863744e-04, 1.73801143e-03, 6.39448587e-04,\n",
       "        5.94238695e-04, 1.43720743e-03, 8.35592348e-04, 9.92906896e-04,\n",
       "        8.61710720e-04, 1.20722288e-03, 1.20203910e-03, 5.02042938e-04,\n",
       "        7.76128860e-04, 1.01803601e-03, 9.61721320e-04, 1.14205964e-03,\n",
       "        8.08730397e-04, 1.39723088e-03, 8.75733343e-04, 6.31117055e-04,\n",
       "        5.72545675e-04, 9.80075910e-04, 1.37667275e-03, 1.01498591e-03,\n",
       "        5.90896091e-04, 9.17403814e-04, 6.40796962e-04, 8.56178409e-04,\n",
       "        1.47408267e-03, 1.11936039e-03, 9.81211185e-04, 1.27231574e-03,\n",
       "        1.10803050e-03, 1.09146976e-03, 9.44571239e-04, 1.20612583e-03,\n",
       "        1.08043799e-03, 3.21441472e-04, 9.82033691e-04, 9.95385955e-04,\n",
       "        9.06818621e-04, 3.38831748e-04, 8.75291415e-04, 8.60805126e-04,\n",
       "        1.12517936e-03, 1.01506347e-03, 6.25254641e-04, 9.16762229e-04,\n",
       "        1.74122218e-03, 5.15322469e-04, 8.94090046e-04, 2.11733511e-03,\n",
       "        8.15719002e-04, 1.29433004e-03, 8.03402836e-04, 1.07490644e-03,\n",
       "        1.13834940e-03, 1.11138394e-03, 7.34917042e-04, 8.14898015e-04,\n",
       "        1.16548085e-03, 1.19564712e-04, 1.79985732e-03, 5.20913150e-04,\n",
       "        6.82157716e-04, 1.51616086e-03, 9.00388794e-04, 9.67698795e-04,\n",
       "        1.55493704e-03, 9.95350667e-04, 7.28177825e-04, 1.31331226e-03,\n",
       "        1.15313720e-03, 6.96076979e-04, 1.09693257e-03, 1.39759982e-03,\n",
       "        2.88850183e-03, 8.14526170e-04, 4.96789340e-04, 1.02871364e-03,\n",
       "        1.18857264e-03, 9.46132976e-04, 8.75172679e-04, 1.66589487e-03,\n",
       "        3.94353308e-04, 7.73182375e-04, 1.34422692e-03, 1.14043706e-03,\n",
       "        1.05786406e-03, 1.04930868e-03, 7.04600101e-04, 1.41831304e-03,\n",
       "        1.12674689e-03, 9.71351585e-04, 8.31339384e-04, 1.37953048e-03,\n",
       "        1.00662694e-03, 1.47107811e-03, 5.40813692e-04, 1.57850573e-03,\n",
       "        1.02888247e-03, 7.35443317e-04, 8.11007249e-04, 1.80670260e-03,\n",
       "        1.02690803e-03, 1.20457251e-03, 5.99607759e-04, 2.29364126e-03,\n",
       "        1.26668946e-03, 9.88913724e-04, 1.35682435e-03, 1.47858260e-03,\n",
       "        5.70387715e-04, 7.02530289e-04, 1.45730668e-03, 1.18777886e-03,\n",
       "        1.20160573e-03, 1.00067385e-03, 1.43768139e-03, 6.36188410e-04,\n",
       "        6.38563760e-04, 1.59223316e-03, 1.13451223e-03, 9.84065664e-04,\n",
       "        6.14653777e-04, 2.05554652e-03, 7.84611175e-04, 6.40457237e-04,\n",
       "        2.73934683e-04, 7.94409384e-04, 1.90662910e-03, 8.46076052e-04,\n",
       "        8.72175785e-04, 1.03478331e-03, 9.30975114e-04, 9.67502317e-04,\n",
       "        6.07456874e-04, 9.28317031e-04, 8.81533480e-04, 1.32188618e-03,\n",
       "        1.16851518e-03, 8.98896856e-04, 4.91061820e-03, 1.38670000e-03,\n",
       "        9.80961821e-04, 7.58182500e-04, 1.62596268e-03, 1.18211668e-03,\n",
       "        1.15658053e-03, 9.91505884e-04, 6.04735590e-04, 1.20914394e-03,\n",
       "        1.05361834e-03, 9.50537858e-04, 1.25258514e-03, 1.05211322e-03,\n",
       "        1.44260023e-03, 2.50451422e-03, 1.13497767e-03, 1.08868920e-03,\n",
       "        1.23007633e-03, 1.21468694e-03, 5.55250334e-04, 1.11625871e-03,\n",
       "        2.11403638e-03, 1.01907333e-03, 8.48496837e-04, 1.55893510e-03,\n",
       "        1.69917106e-03, 5.09766408e-04, 1.10260564e-03, 1.46742124e-03,\n",
       "        6.92827718e-04, 1.06859530e-03, 6.78173315e-04, 1.10886291e-03,\n",
       "        6.81936055e-04, 1.03559832e-03, 9.16331975e-04, 1.08534853e-03,\n",
       "        9.55432870e-04, 7.76013386e-04, 1.52719715e-03, 7.14235001e-04,\n",
       "        1.09275263e-03, 8.26764274e-04, 1.00129418e-03, 8.83679728e-04,\n",
       "        4.70284858e-03, 1.05371444e-03, 1.32758566e-03, 1.41581149e-03,\n",
       "        5.54136169e-04, 1.42580610e-03, 7.31124526e-04, 1.09381862e-03,\n",
       "        1.23809673e-03, 9.06192633e-04, 1.11138394e-03, 1.22346244e-03,\n",
       "        1.14125932e-03, 8.58106620e-04, 1.32004486e-03, 8.12285635e-04,\n",
       "        1.17198138e-03, 1.17004508e-03, 1.02710412e-03, 1.22120813e-03,\n",
       "        1.05094403e-03, 1.19545563e-03, 7.98760312e-04, 1.04390215e-03,\n",
       "        8.00066232e-04, 1.30136988e-03, 1.86153515e-03, 5.60769383e-04,\n",
       "        1.20683429e-03, 1.11782001e-03, 1.15045764e-03, 9.05402532e-04,\n",
       "        1.26615093e-03, 2.18523349e-03, 7.97275242e-04, 1.07399632e-03,\n",
       "        8.78227356e-04, 1.32202972e-03, 8.05672182e-04, 8.40968172e-04,\n",
       "        1.23478834e-03, 7.49850064e-04, 1.38119274e-03, 1.02937638e-03,\n",
       "        7.82057040e-04, 1.43395515e-02, 2.85244030e-03, 1.25293446e-03,\n",
       "        1.41172954e-03, 1.19973625e-03, 1.08608564e-03, 1.18437993e-03,\n",
       "        1.08446000e-03, 8.96845900e-03, 1.10501019e-03, 2.08617618e-03,\n",
       "        1.71894554e-03, 8.84278327e-04, 1.10809621e-03, 6.95538956e-04,\n",
       "        4.94058094e-04, 1.61655791e-03, 1.53077326e-03, 4.83005934e-04,\n",
       "        7.40703895e-04, 1.60238338e-03, 3.50635824e-04, 1.22272611e-03,\n",
       "        5.99968704e-04, 1.76510700e-03, 7.64043691e-04, 7.35377299e-04,\n",
       "        1.19302273e-03, 7.75175996e-04, 6.34450404e-04, 9.66448637e-04,\n",
       "        1.59882976e-03, 1.62389394e-03, 7.06129106e-04, 1.88308663e-03,\n",
       "        1.53190613e-03, 9.68747013e-04, 1.20457251e-03, 6.66257865e-04,\n",
       "        1.26776686e-03, 1.20229004e-03, 7.58396293e-04, 1.18324804e-03,\n",
       "        1.32921634e-03, 1.15206500e-03, 1.84174505e-03, 8.12932709e-04,\n",
       "        1.16977502e-03, 7.48571406e-04, 1.55185114e-03, 9.70316305e-04,\n",
       "        2.81817686e-03, 1.11228343e-03, 1.36741169e-03, 1.84510671e-03,\n",
       "        9.53034571e-04, 6.50275348e-04, 1.29572701e-03, 7.02099607e-04,\n",
       "        9.88245530e-04, 9.44615726e-04, 3.24288291e-02, 1.02491231e-03,\n",
       "        7.79169102e-04, 7.35288091e-04, 1.69795082e-03, 1.06653582e-03,\n",
       "        1.18379128e-03, 7.49621266e-04, 9.64528937e-04, 8.75001400e-04,\n",
       "        1.21484747e-03, 1.28990735e-03, 1.06705373e-03, 1.12202555e-03,\n",
       "        1.18143813e-03, 4.84353104e-04, 1.10899437e-03, 1.16559316e-03,\n",
       "        6.59424522e-04, 1.20800027e-03, 5.56665181e-04, 1.09460214e-03,\n",
       "        8.92223992e-04, 8.52222850e-04, 1.56018230e-03, 5.87441712e-04,\n",
       "        1.78306488e-03, 1.01791845e-03, 1.01162227e-03, 6.13478239e-04,\n",
       "        1.37189209e-03, 1.39410920e-03, 9.89445544e-04, 4.16391816e-04,\n",
       "        1.27072036e-03, 1.18598815e-03, 4.75267785e-04, 6.58939705e-04,\n",
       "        2.40177044e-03, 8.86819738e-04, 8.80191936e-04, 9.04092398e-04,\n",
       "        1.58156567e-03, 9.14763200e-04, 1.10072754e-03, 6.00428099e-04,\n",
       "        9.62400898e-04, 1.64341342e-03, 9.95560332e-04, 3.18136237e-03,\n",
       "        8.29776934e-04, 1.42319866e-03, 8.06942619e-04, 4.12264217e-04,\n",
       "        1.39111370e-03, 1.54106171e-03, 7.08319775e-04, 1.28870248e-03,\n",
       "        1.49214896e-03, 8.62338543e-04, 5.64741674e-04, 1.17099052e-03,\n",
       "        1.18553502e-03, 1.74801016e-03, 8.32800769e-04, 1.50001271e-03,\n",
       "        5.07054487e-04, 7.34316070e-04, 8.40773565e-04, 1.07587954e-03,\n",
       "        1.94265200e-03, 5.38426327e-04, 6.83990812e-04, 1.28051395e-02,\n",
       "        2.86658409e-03, 1.66662002e-03, 8.79678631e-04, 9.87362537e-04,\n",
       "        7.85361448e-04, 7.02838997e-04, 1.04149315e-04, 7.81538252e-04,\n",
       "        1.29518234e-03, 1.63632613e-03, 1.21457229e-03, 1.10378573e-03,\n",
       "        7.22839936e-04, 7.79789989e-04, 1.17868069e-03, 7.75060593e-04,\n",
       "        6.93520626e-04, 9.66690012e-04, 1.18982055e-03, 1.84095452e-03,\n",
       "        6.95200629e-04, 1.16269724e-03, 1.07826774e-03, 1.07178947e-03,\n",
       "        1.20637719e-03, 1.03410402e-03, 6.64385954e-04, 6.41398361e-04,\n",
       "        1.12414230e-03, 1.08485004e-03, 1.08185718e-03, 1.78078741e-03,\n",
       "        1.26530824e-03, 1.27696682e-03, 1.21884103e-03, 7.25529465e-04,\n",
       "        1.12884598e-03, 1.75867214e-03, 8.05875758e-04, 9.95533344e-04,\n",
       "        1.17428000e-03, 1.44815335e-03, 1.00685658e-03, 7.60840745e-04,\n",
       "        1.61883375e-03, 1.69626868e-02, 1.55732488e-03, 8.45635933e-04,\n",
       "        1.83998246e-04, 1.39796880e-03, 9.97213515e-04, 1.09850211e-03,\n",
       "        1.35827888e-03, 8.12970228e-04, 1.35161867e-03, 1.13868241e-03,\n",
       "        5.95231917e-04, 1.02742255e-03, 5.21733389e-04, 2.06794474e-03,\n",
       "        1.16878509e-03, 1.23712457e-03, 1.16613234e-03, 9.16035238e-04,\n",
       "        1.32090558e-03, 7.63183703e-04, 7.17641533e-04, 1.10719841e-03,\n",
       "        8.36731983e-04, 8.27939525e-04, 2.88298807e-03, 1.17497905e-03,\n",
       "        6.07059639e-04, 6.81497992e-04, 2.14125926e-03, 1.38368801e-03,\n",
       "        1.11795200e-03, 1.41207566e-03, 1.63191100e-03, 3.48232565e-04,\n",
       "        5.54123779e-04, 1.54796572e-03, 1.10616968e-03, 1.08539189e-03,\n",
       "        8.85632770e-04, 1.84685938e-03, 1.09455860e-03, 1.09749922e-03,\n",
       "        4.84939730e-04, 1.48666424e-03, 1.16038758e-03, 1.52619454e-03,\n",
       "        1.09379686e-03, 1.11540156e-03, 1.49596373e-03, 8.68109733e-04,\n",
       "        8.09260004e-04, 1.56426517e-03, 1.54018366e-03, 5.69930537e-04,\n",
       "        8.12021252e-04, 9.94335867e-04, 1.42612910e-03, 7.15360812e-04,\n",
       "        8.33638322e-04, 1.59155063e-03, 7.04741573e-04, 1.27297296e-03,\n",
       "        1.59809321e-03, 7.89591420e-04, 7.05181801e-04, 1.63366570e-03,\n",
       "        5.10470790e-04, 2.00211430e-03, 1.00125462e-03, 1.13307219e-03,\n",
       "        1.01834673e-03, 8.62098977e-04, 1.32305860e-03, 1.01034823e-03,\n",
       "        3.09281000e-03, 1.17502416e-03, 1.06803186e-03, 1.07285598e-03,\n",
       "        6.10735356e-04, 8.31371635e-04, 1.24150228e-03, 9.73126169e-04,\n",
       "        9.81724438e-04, 1.30842880e-03, 1.30490884e-03, 8.52747295e-04,\n",
       "        7.78546625e-04, 1.33116007e-03, 1.71161538e-03, 9.93979047e-04,\n",
       "        6.81824378e-04, 9.65908720e-04, 9.77268364e-04, 1.47504275e-03,\n",
       "        1.18519523e-03, 1.49339458e-03, 7.34769005e-04, 6.24101877e-04,\n",
       "        8.57085419e-04, 1.83621488e-03, 1.25384291e-03, 8.52203642e-04,\n",
       "        9.68990723e-04, 9.31870690e-04, 1.04824117e-03, 2.13234791e-03,\n",
       "        9.07143587e-04, 1.33938258e-03, 1.64730994e-03, 1.03845658e-03,\n",
       "        6.01370005e-04, 1.42297528e-03, 2.52976692e-03, 7.49932944e-04,\n",
       "        7.19881749e-04, 1.34825847e-03, 1.45431927e-03, 8.87313563e-04,\n",
       "        4.73946210e-04, 1.72771318e-03, 1.84098275e-03, 5.64235189e-04,\n",
       "        1.65677684e-03, 1.19575138e-03, 1.28233311e-03, 1.85969041e-03,\n",
       "        1.43970284e-03, 1.50454659e-04, 7.24055714e-04, 1.83074933e-03,\n",
       "        7.01456445e-04, 1.85946343e-03, 7.87199010e-04, 1.32442309e-03,\n",
       "        1.15027912e-03, 1.11865608e-03, 6.86669203e-04, 1.40281929e-03,\n",
       "        1.14290473e-03, 8.27723716e-04, 7.86931360e-04, 1.16919001e-03,\n",
       "        6.06691705e-04, 8.49879229e-04, 1.43092859e-03, 8.20598947e-04,\n",
       "        8.83358993e-04, 8.42321505e-04, 1.39974059e-03, 9.72621325e-04,\n",
       "        1.25470508e-03, 9.61027704e-04, 1.37155093e-03, 3.19560367e-04,\n",
       "        9.96947584e-04, 8.12255632e-04, 1.87558507e-03, 8.46506714e-04,\n",
       "        1.30212952e-03, 8.53987009e-04, 9.38431917e-04, 1.12599610e-03,\n",
       "        8.23173681e-04, 1.01869320e-03, 1.28960017e-03, 1.04296063e-03,\n",
       "        8.82948381e-04, 1.09891648e-03, 9.07109899e-04, 1.00882002e-03,\n",
       "        9.06180749e-04, 1.26336644e-03, 8.77059795e-04, 9.99182092e-04,\n",
       "        1.81162805e-03, 8.77502168e-04, 1.57038644e-03, 8.20024191e-04,\n",
       "        5.47762603e-04, 1.37789364e-03, 1.61870139e-03, 1.40417498e-03,\n",
       "        1.19677543e-03, 1.20784020e-03, 8.44578203e-04, 1.75914124e-03,\n",
       "        1.01063686e-03, 5.28117408e-04, 8.27907341e-04, 6.45957148e-04,\n",
       "        1.15231067e-03, 7.06391387e-04, 1.60783991e-03, 8.60546473e-04,\n",
       "        8.71592952e-04, 8.13589424e-04, 1.16440293e-03, 1.30854780e-03,\n",
       "        7.13248886e-04, 1.19652507e-03, 1.07583637e-03, 9.09263232e-04,\n",
       "        1.75439795e-03, 8.49827441e-04, 4.87528009e-04, 1.01866800e-03,\n",
       "        2.20014801e-04, 6.44810508e-04, 1.13832720e-03, 1.24867613e-03,\n",
       "        6.34811740e-04, 1.32828098e-03, 9.40476806e-04, 1.17430255e-03,\n",
       "        1.60488643e-03, 1.05424632e-03, 9.12400633e-04, 1.25706007e-03,\n",
       "        7.20165995e-04, 1.09173062e-03, 1.55366600e-03, 2.28457037e-04,\n",
       "        1.66262023e-03, 1.00705284e-03, 9.12086650e-04, 1.14248215e-03,\n",
       "        7.07593259e-04, 7.43446158e-04, 7.61223727e-04, 1.39851006e-03,\n",
       "        8.72859892e-04, 1.59005482e-03, 9.35250920e-05, 1.27402955e-03,\n",
       "        1.42670063e-03, 1.20722288e-03, 7.93912468e-04, 2.33625061e-03,\n",
       "        7.18688884e-04, 5.63629304e-03, 1.53285910e-03, 9.22678473e-04,\n",
       "        1.23779578e-03, 7.77005278e-04, 9.37736678e-04, 1.58680320e-03,\n",
       "        8.29339181e-04, 7.29271924e-04, 7.03112879e-04, 1.44465014e-03,\n",
       "        9.72701352e-04, 1.40025758e-03, 1.96810948e-03, 6.23173534e-04,\n",
       "        1.27433486e-03, 1.03000976e-03, 1.19513716e-03, 8.95816256e-04,\n",
       "        1.62479554e-03, 1.04172858e-03, 7.88918592e-04, 1.17164354e-03,\n",
       "        1.22072533e-03, 1.01503831e-03, 7.49095343e-04, 3.66002647e-04,\n",
       "        1.23564393e-01, 8.07269732e-04, 8.94223831e-04, 2.19185123e-03,\n",
       "        1.07365135e-03, 1.43523758e-03, 5.43135800e-04, 1.38625902e-03,\n",
       "        1.04859056e-03, 1.98003659e-03, 5.39680487e-04, 1.14412844e-03,\n",
       "        9.35479434e-04, 8.59365653e-04, 4.49890361e-04, 1.93920258e-03,\n",
       "        1.23964834e-03, 3.05187079e-04, 7.31777585e-04, 2.27646873e-03,\n",
       "        6.10283412e-04, 7.23705210e-04, 7.88994364e-04, 1.32715418e-03,\n",
       "        1.42938591e-03, 8.44109800e-04, 6.78730347e-03, 1.27501609e-03,\n",
       "        7.09733610e-04, 8.89384417e-04, 6.03525936e-04, 1.40237575e-03,\n",
       "        2.07423274e-03, 5.84848424e-04, 1.12736536e-03, 8.20883572e-04,\n",
       "        1.11371020e-03, 9.79891922e-03, 8.87970249e-04, 9.69607303e-04,\n",
       "        1.47461320e-03, 8.13927266e-04, 9.59565810e-04, 1.06950098e-03,\n",
       "        9.11291997e-04, 1.06988617e-03, 5.54850407e-04, 1.17527226e-03,\n",
       "        7.28975229e-04, 1.05023174e-03, 9.44280073e-04, 8.47755296e-04,\n",
       "        1.52282918e-03, 8.59240287e-04, 7.45717281e-04, 1.45025732e-03,\n",
       "        1.06496568e-03, 1.21835870e-03, 1.14573137e-03, 1.24127046e-03,\n",
       "        1.62912137e-03, 7.24597568e-04, 7.59821141e-04, 5.32891409e-05,\n",
       "        1.11683033e-03, 9.66546819e-04, 1.72353143e-03, 5.34639131e-04,\n",
       "        6.43506317e-04, 2.75876486e-02, 7.54263484e-04, 9.22590538e-04,\n",
       "        1.88642864e-03, 1.83179110e-03, 5.20731463e-04, 1.05957245e-03,\n",
       "        1.63566082e-03, 8.19822603e-04, 9.93759178e-04, 5.20140073e-04,\n",
       "        1.97705144e-03, 1.15747575e-03, 7.44248286e-04, 6.78341241e-04,\n",
       "        9.95651678e-04, 1.11892017e-03, 1.14375013e-03, 1.07836713e-03,\n",
       "        1.03257274e-03, 1.43406629e-03, 6.43636509e-04, 1.82245393e-03,\n",
       "        1.08266238e-03, 1.29738540e-03, 1.12030715e-03, 9.13432389e-04,\n",
       "        1.16759323e-03, 1.83043968e-03, 4.59390701e-04, 9.56277056e-04,\n",
       "        8.04410210e-04, 1.45969378e-03, 6.21022111e-04, 1.19338637e-03,\n",
       "        1.03071939e-03, 1.28797038e-03, 8.25794044e-04, 8.59425446e-04,\n",
       "        9.16698482e-04, 9.59879707e-04, 7.46434345e-04, 1.14221529e-03,\n",
       "        7.10249038e-04, 1.13296146e-03, 1.79648410e-04, 1.05623830e-03,\n",
       "        5.12756684e-04, 1.07242716e-03, 7.87138093e-04, 1.13103555e-03,\n",
       "        8.57674944e-04, 1.09412329e-03, 1.03172511e-03, 1.41276802e-03,\n",
       "        1.21659098e-03, 9.31892783e-04, 1.08339857e-03, 6.57823781e-04,\n",
       "        9.73458699e-04, 1.15003366e-03, 1.24925744e-03, 8.50840471e-04,\n",
       "        6.67726007e-04, 1.35379657e-03, 9.68190076e-04, 9.07325910e-04,\n",
       "        9.44953462e-04, 1.16586274e-03, 1.28789954e-03, 3.93264371e-04,\n",
       "        7.70131936e-04, 8.30442312e-04, 1.43905383e-03, 8.50907644e-04,\n",
       "        9.97213515e-04, 4.62630012e-04, 1.87555657e-03, 1.05540452e-03,\n",
       "        1.98235017e-03, 9.51024764e-04, 1.26804800e-03, 9.87782272e-04,\n",
       "        4.97405458e-04, 1.65744643e-03, 1.14644415e-03, 1.28648320e-03,\n",
       "        7.20379657e-04, 7.20531535e-04, 1.45888948e-03, 7.90577150e-04,\n",
       "        9.32851095e-04, 1.51528993e-03, 9.79888477e-04, 1.35152192e-03]),\n",
       " array([3.85886955e-01, 4.07292858e-01, 3.39584742e-01, 2.53023084e-01,\n",
       "        1.78120294e-01, 1.24579350e-01, 9.17078259e-02, 7.52207417e-02,\n",
       "        7.10067938e-02, 7.64190736e-02, 9.00702137e-02, 1.11189569e-01,\n",
       "        1.38958964e-01, 1.71064133e-01, 1.98580749e-01, 1.91198057e-01,\n",
       "        8.24757986e-02, 1.09948612e-01, 5.19315732e+00, 4.38563142e+01,\n",
       "        3.48455271e+01, 2.14498660e+01, 1.05574306e+01, 3.76651056e+00,\n",
       "        6.42233946e-01, 1.44163246e-02, 6.48173128e-01, 1.57959651e+00,\n",
       "        2.23604172e+00, 2.42026472e+00, 2.20992010e+00, 1.80475043e+00,\n",
       "        1.36401377e+00, 9.06058401e-01, 3.78637162e-01, 8.95739209e-03,\n",
       "        9.23260379e-02, 1.28600415e-03]))"
      ]
     },
     "execution_count": 55,
     "metadata": {},
     "output_type": "execute_result"
    }
   ],
   "source": [
    "i = 0\n",
    "C2[0,0], d_CD[:,0]*d_CD[:,0].T / d_CD.shape[0], np.multiply(d_CD[i].T, d_CD[i])"
   ]
  },
  {
   "cell_type": "code",
   "execution_count": 56,
   "metadata": {},
   "outputs": [
    {
     "data": {
      "text/plain": [
       "array([1.05124173e+02+0.j, 8.35126770e+00+0.j, 5.40810283e+00+0.j,\n",
       "       1.38478176e+00+0.j, 8.42755820e-01+0.j, 4.56642713e-01+0.j,\n",
       "       2.56353998e-01+0.j, 1.46955548e-01+0.j, 8.66549036e-02+0.j,\n",
       "       4.24823724e-02+0.j, 1.06154621e-02+0.j, 7.45814961e-03+0.j,\n",
       "       1.81546505e-03+0.j, 1.45260839e-03+0.j, 5.43181370e-04+0.j,\n",
       "       3.36978152e-04+0.j, 1.22713977e-04+0.j, 4.77765428e-05+0.j,\n",
       "       2.33688471e-05+0.j, 4.77487144e-06+0.j, 3.84064692e-06+0.j,\n",
       "       3.93886201e-07+0.j, 3.16198352e-07+0.j, 2.30845986e-08+0.j,\n",
       "       1.82114790e-08+0.j, 1.53895481e-09+0.j, 8.73894806e-10+0.j,\n",
       "       8.71512427e-11+0.j, 3.17042147e-11+0.j, 5.80461475e-12+0.j,\n",
       "       3.67202107e-12+0.j, 2.59619506e-12+0.j, 1.89747323e-12+0.j,\n",
       "       5.79189052e-13+0.j, 2.22080176e-13+0.j, 6.08298558e-14+0.j,\n",
       "       7.39642937e-14+0.j, 1.34050388e-13+0.j])"
      ]
     },
     "execution_count": 56,
     "metadata": {},
     "output_type": "execute_result"
    }
   ],
   "source": [
    "l"
   ]
  },
  {
   "cell_type": "code",
   "execution_count": 57,
   "metadata": {},
   "outputs": [],
   "source": [
    "import matplotlib.pyplot as plt"
   ]
  },
  {
   "cell_type": "code",
   "execution_count": 58,
   "metadata": {
    "scrolled": true
   },
   "outputs": [
    {
     "name": "stderr",
     "output_type": "stream",
     "text": [
      "C:\\Users\\Nils\\Anaconda3\\envs\\MA\\lib\\site-packages\\numpy\\core\\_asarray.py:83: ComplexWarning: Casting complex values to real discards the imaginary part\n",
      "  return array(a, dtype, copy=False, order=order)\n"
     ]
    },
    {
     "data": {
      "text/plain": [
       "Text(0.5, 0, 'Eigenmodes')"
      ]
     },
     "execution_count": 58,
     "metadata": {},
     "output_type": "execute_result"
    },
    {
     "data": {
      "image/png": "[encoded data removed]",
      "text/plain": [
       "<Figure size 432x288 with 1 Axes>"
      ]
     },
     "metadata": {
      "needs_background": "light"
     },
     "output_type": "display_data"
    }
   ],
   "source": [
    "plt.semilogy(range(1,39), l, \"-s\")\n",
    "plt.gca().set_ylabel(\"Eigenvalue\")\n",
    "plt.gca().set_xlabel(\"Eigenmodes\")"
   ]
  },
  {
   "cell_type": "code",
   "execution_count": 59,
   "metadata": {},
   "outputs": [
    {
     "name": "stderr",
     "output_type": "stream",
     "text": [
      "C:\\Users\\Nils\\Anaconda3\\envs\\MA\\lib\\site-packages\\numpy\\core\\_asarray.py:83: ComplexWarning: Casting complex values to real discards the imaginary part\n",
      "  return array(a, dtype, copy=False, order=order)\n"
     ]
    },
    {
     "data": {
      "text/plain": [
       "Text(0, 0.5, 'Cum. Fraction of Total EV')"
      ]
     },
     "execution_count": 59,
     "metadata": {},
     "output_type": "execute_result"
    },
    {
     "data": {
      "image/png": "[encoded data removed]",
      "text/plain": [
       "<Figure size 432x288 with 1 Axes>"
      ]
     },
     "metadata": {
      "needs_background": "light"
     },
     "output_type": "display_data"
    }
   ],
   "source": [
    "plt.plot(range(1,39), l.cumsum() / l.sum(), \"-s\")\n",
    "plt.gca().set_xlabel(\"Eigenmodes\")\n",
    "plt.gca().set_ylabel(\"Cum. Fraction of Total EV\")"
   ]
  },
  {
   "cell_type": "code",
   "execution_count": 60,
   "metadata": {},
   "outputs": [
    {
     "name": "stderr",
     "output_type": "stream",
     "text": [
      "<ipython-input-60-ddf29ef2c2f3>:1: ComplexWarning: Casting complex values to real discards the imaginary part\n",
      "  l.cumsum() / float(l.sum())\n"
     ]
    },
    {
     "data": {
      "text/plain": [
       "array([0.86080854+0.j, 0.92919283+0.j, 0.97347704+0.j, 0.98481632+0.j,\n",
       "       0.99171722+0.j, 0.99545644+0.j, 0.99755559+0.j, 0.99875893+0.j,\n",
       "       0.99946851+0.j, 0.99981637+0.j, 0.9999033 +0.j, 0.99996437+0.j,\n",
       "       0.99997923+0.j, 0.99999113+0.j, 0.99999558+0.j, 0.99999834+0.j,\n",
       "       0.99999934+0.j, 0.99999973+0.j, 0.99999992+0.j, 0.99999996+0.j,\n",
       "       0.99999999+0.j, 1.        +0.j, 1.        +0.j, 1.        +0.j,\n",
       "       1.        +0.j, 1.        +0.j, 1.        +0.j, 1.        +0.j,\n",
       "       1.        +0.j, 1.        +0.j, 1.        +0.j, 1.        +0.j,\n",
       "       1.        +0.j, 1.        +0.j, 1.        +0.j, 1.        +0.j,\n",
       "       1.        +0.j, 1.        +0.j])"
      ]
     },
     "execution_count": 60,
     "metadata": {},
     "output_type": "execute_result"
    }
   ],
   "source": [
    "l.cumsum() / float(l.sum())"
   ]
  },
  {
   "cell_type": "code",
   "execution_count": 61,
   "metadata": {},
   "outputs": [
    {
     "data": {
      "text/plain": [
       "array([1.05124173e+02+0.j, 8.35126770e+00+0.j, 5.40810283e+00+0.j,\n",
       "       1.38478176e+00+0.j, 8.42755820e-01+0.j, 4.56642713e-01+0.j,\n",
       "       2.56353998e-01+0.j, 1.46955548e-01+0.j, 8.66549036e-02+0.j,\n",
       "       4.24823724e-02+0.j, 1.06154621e-02+0.j, 7.45814961e-03+0.j,\n",
       "       1.81546505e-03+0.j, 1.45260839e-03+0.j, 5.43181370e-04+0.j,\n",
       "       3.36978152e-04+0.j, 1.22713977e-04+0.j, 4.77765428e-05+0.j,\n",
       "       2.33688471e-05+0.j, 4.77487144e-06+0.j, 3.84064692e-06+0.j,\n",
       "       3.93886201e-07+0.j, 3.16198352e-07+0.j, 2.30845986e-08+0.j,\n",
       "       1.82114790e-08+0.j, 1.53895481e-09+0.j, 8.73894806e-10+0.j,\n",
       "       8.71512427e-11+0.j, 3.17042147e-11+0.j, 5.80461475e-12+0.j,\n",
       "       3.67202107e-12+0.j, 2.59619506e-12+0.j, 1.89747323e-12+0.j,\n",
       "       5.79189052e-13+0.j, 2.22080176e-13+0.j, 6.08298558e-14+0.j,\n",
       "       7.39642937e-14+0.j, 1.34050388e-13+0.j])"
      ]
     },
     "execution_count": 61,
     "metadata": {},
     "output_type": "execute_result"
    }
   ],
   "source": [
    "l"
   ]
  },
  {
   "cell_type": "code",
   "execution_count": 62,
   "metadata": {},
   "outputs": [],
   "source": [
    "r = 5"
   ]
  },
  {
   "cell_type": "code",
   "execution_count": 63,
   "metadata": {},
   "outputs": [],
   "source": [
    "#U = np.zeros_like(W)\n",
    "U = W[:r,:].copy()\n",
    "l1 = l[:r]\n",
    "\n",
    "#V = np.zeros_like(W)\n",
    "V = W[r:,:].copy()\n",
    "l2 = l[r:]"
   ]
  },
  {
   "cell_type": "code",
   "execution_count": 64,
   "metadata": {},
   "outputs": [],
   "source": [
    "#U = np.zeros_like(W)\n",
    "U2 = W[:,:r].copy()\n",
    "l1 = l[:r]\n",
    "\n",
    "#V = np.zeros_like(W)\n",
    "V2 = W[:,r:].copy()\n",
    "l2 = l[r:]"
   ]
  },
  {
   "cell_type": "code",
   "execution_count": 65,
   "metadata": {
    "scrolled": true
   },
   "outputs": [
    {
     "data": {
      "text/plain": [
       "array([[ 0.        ,  0.088331  ,  0.15641652, -0.30015961,  0.28903931,\n",
       "        -0.2071137 ,  0.12229735,  0.05629004,  0.15757785, -0.07993849,\n",
       "        -0.04600126,  0.13386106,  0.28369374,  0.16182433,  0.60022218,\n",
       "        -0.02454502,  0.27020383, -0.06611448, -0.60450076,  0.26972775,\n",
       "         0.49740577,  0.57333812,  0.30936303,  0.36955346,  0.13189659,\n",
       "        -0.00795833,  0.0057165 ,  0.02762049, -0.04415984, -0.06673386,\n",
       "        -0.08875088, -0.06903496, -0.05076118, -0.02324212, -0.02249988,\n",
       "        -0.01117666,  0.00534157,  0.03047295],\n",
       "       [-0.088331  ,  0.        ,  0.06314165, -0.34975521,  0.21976835,\n",
       "        -0.24245322,  0.07643754,  0.00851276,  0.1599571 , -0.09790905,\n",
       "        -0.03591679,  0.05207423,  0.0956579 ,  0.04477123,  0.02305554,\n",
       "        -0.01660814, -0.1542289 , -0.05379809,  0.09355013,  0.48707635,\n",
       "         0.03106422, -0.39028442, -0.12133934, -0.61992161, -0.25015531,\n",
       "        -0.02088723, -0.31526929, -0.62612586, -0.37920397, -0.27527331,\n",
       "        -0.07594246, -0.07577975, -0.02976752, -0.08126592,  0.06825141,\n",
       "         0.07902786,  0.09085533,  0.10281675],\n",
       "       [-0.15641652, -0.06314165,  0.        , -0.30523507,  0.17717733,\n",
       "        -0.18441212,  0.08680584,  0.0313821 ,  0.22859824, -0.00689878,\n",
       "         0.09569942,  0.08525257,  0.04905225,  0.06216433, -0.17629847,\n",
       "         0.08641761, -0.22082976, -0.21183914, -0.58881598,  0.10021622,\n",
       "        -0.1381889 , -0.158406  , -0.15101722,  0.05713484, -0.09608502,\n",
       "        -0.34558911, -0.03831497,  0.46095094,  0.14140157,  0.04507839,\n",
       "        -0.22798647, -0.01940871,  0.04376274,  0.3851681 , -0.10328915,\n",
       "        -0.06827419, -0.05722775, -0.0421345 ],\n",
       "       [ 0.30015961,  0.34975521,  0.30523507,  0.        ,  0.25373373,\n",
       "        -0.0917812 ,  0.03463233, -0.06766846,  0.12374296, -0.10347568,\n",
       "         0.02545926, -0.08896988, -0.17863367, -0.11378622, -0.35748795,\n",
       "         0.02225504, -0.12807157,  0.00915996,  0.15987423,  0.15925014,\n",
       "         0.04309823,  0.09855941, -0.26734185,  0.01877599, -0.26563285,\n",
       "        -0.29677786, -0.03314048,  0.06551289,  0.1843228 ,  0.29440218,\n",
       "         0.44674945,  0.1394334 , -0.05344591, -0.74190073,  0.12276365,\n",
       "        -0.10564734, -0.07613544,  0.08832101],\n",
       "       [-0.28903931, -0.21976835, -0.17717733, -0.25373373,  0.        ,\n",
       "        -0.1324064 ,  0.006257  , -0.02958302,  0.2213498 ,  0.04426766,\n",
       "         0.21518892,  0.00987258, -0.10863602, -0.016925  , -0.15680564,\n",
       "         0.15603776,  0.17129825,  0.1699629 ,  0.0714804 ,  0.04755378,\n",
       "         0.22445038,  0.27013222, -0.07216208, -0.13354471, -0.21156301,\n",
       "         0.01328274, -0.0859933 , -0.34230229,  0.07851551,  0.23087924,\n",
       "         0.4301214 ,  0.37437611,  0.24400257,  0.5030481 , -0.42263194,\n",
       "         0.11014799,  0.05680365, -0.48221717]])"
      ]
     },
     "execution_count": 65,
     "metadata": {},
     "output_type": "execute_result"
    }
   ],
   "source": [
    "U - U2.T"
   ]
  },
  {
   "cell_type": "code",
   "execution_count": 66,
   "metadata": {},
   "outputs": [],
   "source": [
    "from sklearn.decomposition import PCA"
   ]
  },
  {
   "cell_type": "code",
   "execution_count": 67,
   "metadata": {},
   "outputs": [
    {
     "data": {
      "text/plain": [
       "(924, 38)"
      ]
     },
     "execution_count": 67,
     "metadata": {},
     "output_type": "execute_result"
    }
   ],
   "source": [
    "d_CD.shape"
   ]
  },
  {
   "cell_type": "code",
   "execution_count": 68,
   "metadata": {},
   "outputs": [
    {
     "data": {
      "text/plain": [
       "PCA(n_components=10, svd_solver='full')"
      ]
     },
     "execution_count": 68,
     "metadata": {},
     "output_type": "execute_result"
    }
   ],
   "source": [
    "pca = PCA(n_components=10, svd_solver=\"full\")\n",
    "pca.fit(d_CD/ np.sqrt(d_CD.shape[0]))"
   ]
  },
  {
   "cell_type": "code",
   "execution_count": 69,
   "metadata": {},
   "outputs": [
    {
     "data": {
      "text/plain": [
       "PCA(n_components=10, svd_solver='full')"
      ]
     },
     "execution_count": 69,
     "metadata": {},
     "output_type": "execute_result"
    }
   ],
   "source": [
    "pca.fit(d_CD)"
   ]
  },
  {
   "cell_type": "code",
   "execution_count": 70,
   "metadata": {},
   "outputs": [
    {
     "data": {
      "text/plain": [
       "(924, 38)"
      ]
     },
     "execution_count": 70,
     "metadata": {},
     "output_type": "execute_result"
    }
   ],
   "source": [
    "d_CD.shape"
   ]
  },
  {
   "cell_type": "code",
   "execution_count": 71,
   "metadata": {},
   "outputs": [
    {
     "name": "stdout",
     "output_type": "stream",
     "text": [
      "[8.16023171e-01 1.08578766e-01 4.71720458e-02 1.28024264e-02\n",
      " 6.20562130e-03 3.98863739e-03 2.22168963e-03 1.42294941e-03\n",
      " 7.76794791e-04 5.27661980e-04]\n"
     ]
    }
   ],
   "source": [
    "print(pca.explained_variance_ratio_)"
   ]
  },
  {
   "cell_type": "code",
   "execution_count": 72,
   "metadata": {},
   "outputs": [
    {
     "data": {
      "text/plain": [
       "array([1.05124173e+02+0.j, 8.35126770e+00+0.j, 5.40810283e+00+0.j,\n",
       "       1.38478176e+00+0.j, 8.42755820e-01+0.j, 4.56642713e-01+0.j,\n",
       "       2.56353998e-01+0.j, 1.46955548e-01+0.j, 8.66549036e-02+0.j,\n",
       "       4.24823724e-02+0.j, 1.06154621e-02+0.j, 7.45814961e-03+0.j,\n",
       "       1.81546505e-03+0.j, 1.45260839e-03+0.j, 5.43181370e-04+0.j,\n",
       "       3.36978152e-04+0.j, 1.22713977e-04+0.j, 4.77765428e-05+0.j,\n",
       "       2.33688471e-05+0.j, 4.77487144e-06+0.j, 3.84064692e-06+0.j,\n",
       "       3.93886201e-07+0.j, 3.16198352e-07+0.j, 2.30845986e-08+0.j,\n",
       "       1.82114790e-08+0.j, 1.53895481e-09+0.j, 8.73894806e-10+0.j,\n",
       "       8.71512427e-11+0.j, 3.17042147e-11+0.j, 5.80461475e-12+0.j,\n",
       "       3.67202107e-12+0.j, 2.59619506e-12+0.j, 1.89747323e-12+0.j,\n",
       "       5.79189052e-13+0.j, 2.22080176e-13+0.j, 6.08298558e-14+0.j,\n",
       "       7.39642937e-14+0.j, 1.34050388e-13+0.j])"
      ]
     },
     "execution_count": 72,
     "metadata": {},
     "output_type": "execute_result"
    }
   ],
   "source": [
    "l"
   ]
  },
  {
   "cell_type": "code",
   "execution_count": 73,
   "metadata": {},
   "outputs": [
    {
     "data": {
      "text/plain": [
       "array([240.42070632,  87.69868351,  57.80467705,  30.11388361,\n",
       "        20.96588783,  16.80865261,  12.54475884,  10.03957556,\n",
       "         7.41777705,   6.11362118])"
      ]
     },
     "execution_count": 73,
     "metadata": {},
     "output_type": "execute_result"
    }
   ],
   "source": [
    "pca.singular_values_"
   ]
  },
  {
   "cell_type": "code",
   "execution_count": 74,
   "metadata": {},
   "outputs": [
    {
     "data": {
      "text/plain": [
       "array([0.81625191, 0.92486112, 0.97204639, 0.9848524 , 0.99105976,\n",
       "       0.99504952, 0.99727183, 0.99869518, 0.99947219, 1.        ])"
      ]
     },
     "execution_count": 74,
     "metadata": {},
     "output_type": "execute_result"
    }
   ],
   "source": [
    "np.cumsum(pca.singular_values_**2) / np. sum(pca.singular_values_**2)"
   ]
  },
  {
   "cell_type": "code",
   "execution_count": 75,
   "metadata": {},
   "outputs": [
    {
     "data": {
      "text/plain": [
       "array([0.81602317, 0.92460194, 0.97177398, 0.98457641, 0.99078203,\n",
       "       0.99477067, 0.99699236, 0.99841531, 0.9991921 , 0.99971976])"
      ]
     },
     "execution_count": 75,
     "metadata": {},
     "output_type": "execute_result"
    }
   ],
   "source": [
    "pca.explained_variance_ratio_.cumsum()"
   ]
  },
  {
   "cell_type": "code",
   "execution_count": null,
   "metadata": {},
   "outputs": [],
   "source": []
  },
  {
   "cell_type": "code",
   "execution_count": 76,
   "metadata": {},
   "outputs": [
    {
     "data": {
      "text/plain": [
       "array([[-6.36720642, -0.16277388, -1.45569942, -0.45032519,  0.3430642 ,\n",
       "         0.71698878, -0.65867457, -0.7229953 ,  0.90841249, -0.35887877]])"
      ]
     },
     "execution_count": 76,
     "metadata": {},
     "output_type": "execute_result"
    }
   ],
   "source": [
    "x = dv_mat[0]\n",
    "#x = d_CD[0]\n",
    "x.shape\n",
    "\n",
    "y = pca.transform(x.reshape(1,-1))\n",
    "y"
   ]
  },
  {
   "cell_type": "code",
   "execution_count": 77,
   "metadata": {},
   "outputs": [
    {
     "data": {
      "text/plain": [
       "(array([[ 0.05240615,  0.02063493, -0.00797237, -0.02946281, -0.04333547,\n",
       "         -0.05024895, -0.0513165 , -0.04777364, -0.04083032, -0.03162984,\n",
       "         -0.02129481, -0.0109523 , -0.00161594,  0.00627119,  0.01381889,\n",
       "          0.02488246,  0.04295032,  0.037659  , -0.01959013,  0.04768365,\n",
       "         -0.03411703, -0.03148372, -0.0065446 ,  0.01512331,  0.02398808,\n",
       "          0.01909608,  0.00463346, -0.01200046, -0.0220866 , -0.01861658,\n",
       "         -0.00098007,  0.02045247,  0.02580753,  0.00183985, -0.03037922,\n",
       "         -0.01936688,  0.0212543 , -0.00596862]]),\n",
       " array([-3.05686990e-05,  1.41461487e-06, -2.03587915e-05, -2.83451664e-05,\n",
       "        -1.78182272e-05, -7.12713563e-06,  1.33505819e-05, -4.87592006e-05,\n",
       "         4.08134329e-05,  3.10090400e-05, -4.37217568e-05,  2.87667863e-05,\n",
       "        -3.01127784e-05, -2.91023425e-05, -1.05557410e-05,  1.21733547e-06,\n",
       "         3.25002366e-05, -1.51975928e-05,  2.07184912e-05, -4.55952468e-05,\n",
       "        -4.00769204e-05,  4.53083740e-05,  3.95193274e-05,  3.26006448e-05,\n",
       "         7.31717910e-06,  2.90426251e-05,  3.67545363e-05,  1.24454855e-05,\n",
       "         1.47584378e-05, -2.53157759e-05,  2.95210775e-05, -4.89776467e-05,\n",
       "         4.56672888e-06, -2.91845790e-05,  6.69725523e-06, -1.54381723e-05,\n",
       "        -2.54308397e-05, -7.48536559e-06]),\n",
       " 0.1751597066211835)"
      ]
     },
     "execution_count": 77,
     "metadata": {},
     "output_type": "execute_result"
    }
   ],
   "source": [
    "z = pca.inverse_transform(y) #/ np.sqrt(400)\n",
    "z, x, np.linalg.norm(z-x)"
   ]
  },
  {
   "cell_type": "code",
   "execution_count": null,
   "metadata": {},
   "outputs": [],
   "source": []
  },
  {
   "cell_type": "code",
   "execution_count": 78,
   "metadata": {},
   "outputs": [
    {
     "ename": "SyntaxError",
     "evalue": "invalid syntax (<ipython-input-78-2cf473a21f79>, line 14)",
     "output_type": "error",
     "traceback": [
      "\u001b[1;36m  File \u001b[1;32m\"<ipython-input-78-2cf473a21f79>\"\u001b[1;36m, line \u001b[1;32m14\u001b[0m\n\u001b[1;33m    Z =\u001b[0m\n\u001b[1;37m        ^\u001b[0m\n\u001b[1;31mSyntaxError\u001b[0m\u001b[1;31m:\u001b[0m invalid syntax\n"
     ]
    }
   ],
   "source": [
    "fig, axes = plt.subplots(3, 3, figsize=(16,18))\n",
    "\n",
    "#for k, ax in enumerate(axes.flat):\n",
    "\n",
    "for i,n in enumerate([1,2,3,5,7,10,15,24,38]):\n",
    "    pca = PCA(n_components=n)\n",
    "    pca.fit(d_CD/ np.sqrt(d_CD.shape[0]))\n",
    "    x = dv_mat[0]\n",
    "    y = pca.transform(x.reshape(1,-1))\n",
    "    z = pca.inverse_transform(y) #/ np.sqrt(400)\n",
    "    print(n, np.linalg.norm(z-x))\n",
    "    \n",
    "    Y = pca.transform(d_CD)\n",
    "    Z = \n",
    "    \n",
    "    axes[i].scatter()"
   ]
  },
  {
   "cell_type": "code",
   "execution_count": null,
   "metadata": {},
   "outputs": [],
   "source": [
    "d_CD.shape"
   ]
  },
  {
   "cell_type": "code",
   "execution_count": null,
   "metadata": {},
   "outputs": [],
   "source": [
    "d_CD.var(axis=0)"
   ]
  },
  {
   "cell_type": "code",
   "execution_count": null,
   "metadata": {},
   "outputs": [],
   "source": [
    "C3 = np.cov(d_CD.T)"
   ]
  },
  {
   "cell_type": "code",
   "execution_count": null,
   "metadata": {},
   "outputs": [],
   "source": [
    "C3, C, pca.components_#, C2"
   ]
  },
  {
   "cell_type": "code",
   "execution_count": null,
   "metadata": {},
   "outputs": [],
   "source": [
    "pca.components_[0]"
   ]
  },
  {
   "cell_type": "code",
   "execution_count": null,
   "metadata": {},
   "outputs": [],
   "source": [
    "d_CD.mean()"
   ]
  },
  {
   "cell_type": "code",
   "execution_count": null,
   "metadata": {},
   "outputs": [],
   "source": [
    "x = np.array([[0, 2], [1, 1], [2, 0]])"
   ]
  },
  {
   "cell_type": "code",
   "execution_count": null,
   "metadata": {},
   "outputs": [],
   "source": [
    "x.shape"
   ]
  },
  {
   "cell_type": "code",
   "execution_count": null,
   "metadata": {},
   "outputs": [],
   "source": [
    "np.cov(x)"
   ]
  },
  {
   "cell_type": "code",
   "execution_count": null,
   "metadata": {},
   "outputs": [],
   "source": [
    "np.outer(x.T, x)"
   ]
  },
  {
   "cell_type": "code",
   "execution_count": null,
   "metadata": {},
   "outputs": [],
   "source": [
    "C2 = np.zeros((2,2))\n",
    "for i in range(x.shape[0]):\n",
    "    C2 += np.outer(x[i].T, x[i])\n",
    "\n",
    "C2 = C2 / x.shape[0]\n",
    "C2"
   ]
  },
  {
   "cell_type": "code",
   "execution_count": null,
   "metadata": {},
   "outputs": [],
   "source": [
    "np.outer(x[0], x[0]), np.outer(x[1], x[1]), np.outer(x[2], x[2]), "
   ]
  },
  {
   "cell_type": "code",
   "execution_count": null,
   "metadata": {},
   "outputs": [],
   "source": [
    "l,W = np.linalg.eig(C)"
   ]
  },
  {
   "cell_type": "code",
   "execution_count": null,
   "metadata": {},
   "outputs": [],
   "source": [
    "l2, W2 = linalg.eig(C)\n"
   ]
  },
  {
   "cell_type": "code",
   "execution_count": null,
   "metadata": {},
   "outputs": [],
   "source": [
    "W- W2"
   ]
  },
  {
   "cell_type": "code",
   "execution_count": null,
   "metadata": {},
   "outputs": [],
   "source": [
    "W.T * W * d_CD.T"
   ]
  },
  {
   "cell_type": "code",
   "execution_count": null,
   "metadata": {},
   "outputs": [],
   "source": [
    "np.dot(W, d_CD.T).shape"
   ]
  },
  {
   "cell_type": "code",
   "execution_count": null,
   "metadata": {},
   "outputs": [],
   "source": [
    "d_CD.T"
   ]
  },
  {
   "cell_type": "code",
   "execution_count": null,
   "metadata": {},
   "outputs": [],
   "source": [
    "np.dot(W[:10].T, np.dot(W[:10], d_CD.T))"
   ]
  },
  {
   "cell_type": "code",
   "execution_count": null,
   "metadata": {},
   "outputs": [],
   "source": [
    "W.T @ W - np.eye(38,38)"
   ]
  },
  {
   "cell_type": "code",
   "execution_count": null,
   "metadata": {},
   "outputs": [],
   "source": [
    "r = 1\n",
    "W2[:r].T @ W2[:r], np.linalg.norm(W2[:r].T @ W2[:r] - np.eye(38,38))"
   ]
  },
  {
   "cell_type": "code",
   "execution_count": null,
   "metadata": {},
   "outputs": [],
   "source": [
    "U = pca.components_[:3]"
   ]
  },
  {
   "cell_type": "code",
   "execution_count": null,
   "metadata": {},
   "outputs": [],
   "source": [
    "W"
   ]
  },
  {
   "cell_type": "code",
   "execution_count": null,
   "metadata": {},
   "outputs": [],
   "source": [
    "pca.components_"
   ]
  },
  {
   "cell_type": "code",
   "execution_count": null,
   "metadata": {},
   "outputs": [],
   "source": [
    "pca.singular_values_ **2"
   ]
  },
  {
   "cell_type": "code",
   "execution_count": null,
   "metadata": {},
   "outputs": [],
   "source": [
    "l"
   ]
  },
  {
   "cell_type": "code",
   "execution_count": null,
   "metadata": {},
   "outputs": [],
   "source": [
    "pca = PCA(n_components=38, svd_solver=\"full\")\n",
    "pca.fit(d_CD/ np.sqrt(d_CD.shape[0]))"
   ]
  },
  {
   "cell_type": "code",
   "execution_count": null,
   "metadata": {},
   "outputs": [],
   "source": [
    "plt.semilogy(l, \"o\")\n",
    "#plt.semilogy(pca.singular_values_)\n",
    "plt.semilogy(pca.singular_values_**2)\n"
   ]
  },
  {
   "cell_type": "code",
   "execution_count": null,
   "metadata": {},
   "outputs": [],
   "source": [
    "l, pca.singular_values_**2"
   ]
  },
  {
   "cell_type": "code",
   "execution_count": null,
   "metadata": {},
   "outputs": [],
   "source": [
    "pca.transform(dv_mat[:1])"
   ]
  },
  {
   "cell_type": "code",
   "execution_count": null,
   "metadata": {},
   "outputs": [],
   "source": [
    "W[:,:3].T @ dv_mat[:1].T, W[:3] @ dv_mat[1]"
   ]
  },
  {
   "cell_type": "code",
   "execution_count": null,
   "metadata": {},
   "outputs": [],
   "source": [
    "W[:,:3].T.shape, dv_mat[:1].shape"
   ]
  },
  {
   "cell_type": "code",
   "execution_count": null,
   "metadata": {},
   "outputs": [],
   "source": [
    "l*C, "
   ]
  },
  {
   "cell_type": "code",
   "execution_count": null,
   "metadata": {},
   "outputs": [],
   "source": []
  },
  {
   "cell_type": "code",
   "execution_count": null,
   "metadata": {},
   "outputs": [],
   "source": []
  },
  {
   "cell_type": "code",
   "execution_count": null,
   "metadata": {
    "scrolled": true
   },
   "outputs": [],
   "source": [
    "for i in range(10):\n",
    "    for j in range(10):\n",
    "        #print(i,j, W[:,i] @ pca.components_[j])\n",
    "        print(i,j, W[:,i] @ W[:,j])"
   ]
  },
  {
   "cell_type": "code",
   "execution_count": null,
   "metadata": {},
   "outputs": [],
   "source": [
    "(pca.components_ * pca.singular_values_).shape"
   ]
  },
  {
   "cell_type": "code",
   "execution_count": null,
   "metadata": {},
   "outputs": [],
   "source": [
    "U[0]"
   ]
  },
  {
   "cell_type": "code",
   "execution_count": null,
   "metadata": {},
   "outputs": [],
   "source": [
    "l"
   ]
  },
  {
   "cell_type": "code",
   "execution_count": null,
   "metadata": {},
   "outputs": [],
   "source": [
    "pca.n_samples_"
   ]
  },
  {
   "cell_type": "code",
   "execution_count": null,
   "metadata": {},
   "outputs": [],
   "source": [
    "x = np.zeros(38)\n",
    "x"
   ]
  },
  {
   "cell_type": "code",
   "execution_count": null,
   "metadata": {},
   "outputs": [],
   "source": [
    "y = np.dot(U, x)\n",
    "y, y.shape"
   ]
  },
  {
   "cell_type": "code",
   "execution_count": null,
   "metadata": {},
   "outputs": [],
   "source": [
    "U.shape, V.shape, dv_mat.shape, np.sum(l)"
   ]
  },
  {
   "cell_type": "code",
   "execution_count": null,
   "metadata": {},
   "outputs": [],
   "source": [
    "np.dot(U,dv_mat.T).shape\n",
    "Y = np.dot(dv_mat, U.T)"
   ]
  },
  {
   "cell_type": "code",
   "execution_count": null,
   "metadata": {},
   "outputs": [],
   "source": [
    "Y = pca.transform(dv_mat[a])"
   ]
  },
  {
   "cell_type": "code",
   "execution_count": null,
   "metadata": {},
   "outputs": [],
   "source": [
    "Y.shape"
   ]
  },
  {
   "cell_type": "code",
   "execution_count": null,
   "metadata": {
    "scrolled": true
   },
   "outputs": [],
   "source": [
    "Y = np.dot(dv_mat, U2) #* np.sum(l).astype(\"double\")\n",
    "#Y = np.dot(dv_mat, U.T) #* np.sum(l).astype(\"double\")\n",
    "U\n",
    "Y.shape, df_result[\"c_D\"].shape"
   ]
  },
  {
   "cell_type": "code",
   "execution_count": null,
   "metadata": {},
   "outputs": [],
   "source": [
    "plt.plot(df_result[\"rms_nu\"], df_result[\"c_D\"], \"o\")\n",
    "plt.plot(df_result[\"rms_rho\"], df_result[\"c_D\"], \"o\")"
   ]
  },
  {
   "cell_type": "code",
   "execution_count": null,
   "metadata": {},
   "outputs": [],
   "source": [
    "plt.plot(df_result[\"rms_nu\"], df_result[\"AOA\"], \"o\")\n",
    "plt.plot(df_result[\"rms_rho\"], df_result[\"AOA\"], \"o\")"
   ]
  },
  {
   "cell_type": "code",
   "execution_count": null,
   "metadata": {},
   "outputs": [],
   "source": [
    "a = df_result[\"rms_rho\"] < -6"
   ]
  },
  {
   "cell_type": "code",
   "execution_count": null,
   "metadata": {},
   "outputs": [],
   "source": [
    "Y[a].shape"
   ]
  },
  {
   "cell_type": "code",
   "execution_count": null,
   "metadata": {},
   "outputs": [],
   "source": []
  },
  {
   "cell_type": "code",
   "execution_count": null,
   "metadata": {},
   "outputs": [],
   "source": []
  },
  {
   "cell_type": "code",
   "execution_count": null,
   "metadata": {},
   "outputs": [],
   "source": [
    "#fig, axes = plt.subplots(1, 1, figsize=(16,40))\n",
    "\n",
    "plt.plot(U[:r].T * l[:r])"
   ]
  },
  {
   "cell_type": "code",
   "execution_count": null,
   "metadata": {},
   "outputs": [],
   "source": [
    "np.dot(dv_mat[0], U.T)"
   ]
  },
  {
   "cell_type": "code",
   "execution_count": null,
   "metadata": {},
   "outputs": [],
   "source": [
    "np.dot(dv_mat[0], U[0]), Y[0,0]"
   ]
  },
  {
   "cell_type": "code",
   "execution_count": null,
   "metadata": {},
   "outputs": [],
   "source": [
    "c_D = df_result[\"c_D\"].values"
   ]
  },
  {
   "cell_type": "code",
   "execution_count": null,
   "metadata": {},
   "outputs": [],
   "source": [
    "c_D"
   ]
  },
  {
   "cell_type": "code",
   "execution_count": 79,
   "metadata": {},
   "outputs": [
    {
     "data": {
      "text/plain": [
       "<matplotlib.collections.PathCollection at 0x1e4888c3160>"
      ]
     },
     "execution_count": 79,
     "metadata": {},
     "output_type": "execute_result"
    },
    {
     "data": {
      "image/png": "[encoded data removed]",
      "text/plain": [
       "<Figure size 432x288 with 1 Axes>"
      ]
     },
     "metadata": {
      "needs_background": "light"
     },
     "output_type": "display_data"
    }
   ],
   "source": [
    "#plt.scatter(Y[:,0], Y[:,1], c=df_result[\"c_D\"][a])\n",
    "#plt.scatter(Y[:,0], df_result[\"c_D\"]), plt.scatter(Y[:,1], df_result[\"c_D\"]), plt.scatter(Y[:,2], df_result[\"c_D\"])\n",
    "#plt.scatter(Y[:,:], df_result[\"c_D\"])\n",
    "plt.scatter(Y[:,0], c_D)"
   ]
  },
  {
   "cell_type": "code",
   "execution_count": null,
   "metadata": {},
   "outputs": [],
   "source": []
  },
  {
   "cell_type": "code",
   "execution_count": null,
   "metadata": {},
   "outputs": [],
   "source": [
    "from sklearn.manifold import LocallyLinearEmbedding"
   ]
  },
  {
   "cell_type": "code",
   "execution_count": null,
   "metadata": {},
   "outputs": [],
   "source": [
    "embedding = LocallyLinearEmbedding(n_components=2)\n",
    "X_transformed = embedding.fit_transform(dv_mat)\n",
    "#Y = X_transformed\n",
    "\n",
    "X_transformed.shape"
   ]
  },
  {
   "cell_type": "code",
   "execution_count": null,
   "metadata": {},
   "outputs": [],
   "source": []
  },
  {
   "cell_type": "code",
   "execution_count": null,
   "metadata": {},
   "outputs": [],
   "source": []
  },
  {
   "cell_type": "code",
   "execution_count": 80,
   "metadata": {},
   "outputs": [],
   "source": [
    "from sklearn.model_selection import train_test_split"
   ]
  },
  {
   "cell_type": "code",
   "execution_count": 81,
   "metadata": {},
   "outputs": [],
   "source": [
    "x_train, x_test, y_train, y_test = train_test_split(Y, df_result[\"c_D\"][a], test_size=0.2, random_state=3)\n",
    "#x_train, x_test, y_train, y_test = train_test_split(Y[a], df_meta[\"AOA\"][a], test_size=0.2, random_state=21)\n",
    "#df_meta"
   ]
  },
  {
   "cell_type": "code",
   "execution_count": 82,
   "metadata": {},
   "outputs": [
    {
     "data": {
      "text/plain": [
       "((739, 5), (185,))"
      ]
     },
     "execution_count": 82,
     "metadata": {},
     "output_type": "execute_result"
    }
   ],
   "source": [
    "x_train.shape, y_test.shape"
   ]
  },
  {
   "cell_type": "code",
   "execution_count": null,
   "metadata": {},
   "outputs": [],
   "source": []
  },
  {
   "cell_type": "code",
   "execution_count": 83,
   "metadata": {},
   "outputs": [],
   "source": [
    "from sklearn.gaussian_process import GaussianProcessRegressor\n",
    "from sklearn.gaussian_process.kernels import (RBF, Matern, RationalQuadratic,\n",
    "                                              ExpSineSquared, DotProduct,\n",
    "                                              ConstantKernel, WhiteKernel)\n"
   ]
  },
  {
   "cell_type": "code",
   "execution_count": null,
   "metadata": {},
   "outputs": [],
   "source": [
    "kernel = 1.0 * Matern(length_scale=1.0, length_scale_bounds=(1e-2, 10.0), nu=1.5)"
   ]
  },
  {
   "cell_type": "code",
   "execution_count": null,
   "metadata": {},
   "outputs": [],
   "source": [
    "kernel = Matern(nu=2.5) "
   ]
  },
  {
   "cell_type": "code",
   "execution_count": null,
   "metadata": {},
   "outputs": [],
   "source": [
    "kernel = RBF() + Matern(nu=1.5) #+ WhiteKernel() #+ RBF()"
   ]
  },
  {
   "cell_type": "code",
   "execution_count": null,
   "metadata": {},
   "outputs": [],
   "source": [
    "#kernel = ConstantKernel(0.1, (0.01, 10.0)) * (DotProduct(sigma_0=1.0, sigma_0_bounds=(0.1, 10.0)) ** 2) + Matern(length_scale=1.0, length_scale_bounds=(1e-2, 10.0), nu=1.5) #+ WhiteKernel(noise_level=0.1)"
   ]
  },
  {
   "cell_type": "code",
   "execution_count": null,
   "metadata": {},
   "outputs": [],
   "source": [
    "kernel = ConstantKernel()*Matern(nu=2.5) + ConstantKernel()*Matern(nu=1.5) + WhiteKernel(noise_level_bounds=(1e-07, 1e-04)) # + DotProduct()"
   ]
  },
  {
   "cell_type": "code",
   "execution_count": null,
   "metadata": {},
   "outputs": [],
   "source": [
    "kernel = RationalQuadratic(length_scale_bounds=(1e-7, 10.0)) #* ExpSineSquared()"
   ]
  },
  {
   "cell_type": "code",
   "execution_count": 84,
   "metadata": {},
   "outputs": [],
   "source": [
    "kernel = 1.0 * RBF(length_scale=[0.1e-05]*r, length_scale_bounds=(1e-7, 10.0)) + WhiteKernel(noise_level=1e-05, noise_level_bounds=(1e-09, 1e-04))# + ConstantKernel()"
   ]
  },
  {
   "cell_type": "code",
   "execution_count": null,
   "metadata": {},
   "outputs": [],
   "source": [
    "ls = sigma**2 / (l1.astype(\"double\") ** 2)"
   ]
  },
  {
   "cell_type": "code",
   "execution_count": null,
   "metadata": {},
   "outputs": [],
   "source": [
    "sigma = 1\n",
    "ls = sigma**2 / (pca.singular_values_[:r] ** 2)\n",
    "ls"
   ]
  },
  {
   "cell_type": "code",
   "execution_count": null,
   "metadata": {},
   "outputs": [],
   "source": [
    "kernel = RBF(length_scale=ls) + WhiteKernel(noise_level=1e-05, noise_level_bounds=(1e-09, 1e-04))# + ConstantKernel()"
   ]
  },
  {
   "cell_type": "code",
   "execution_count": 85,
   "metadata": {},
   "outputs": [
    {
     "name": "stdout",
     "output_type": "stream",
     "text": [
      "0.036**2 * RBF(length_scale=[1.49, 9.21e-05, 0.000171, 0.000188, 0.00234]) + WhiteKernel(noise_level=1.74e-05)\n",
      "0.5756428676140792\n",
      "0.4014019531251135\n",
      "2963.502298850027\n"
     ]
    }
   ],
   "source": [
    "gp = GaussianProcessRegressor(kernel=kernel, n_restarts_optimizer=3, normalize_y=False)\n",
    "gp.fit(x_train, y_train)\n",
    "print(gp.kernel_)\n",
    "print(gp.score(x_train, y_train))\n",
    "print(gp.score(x_test, y_test))\n",
    "print(gp.log_marginal_likelihood())"
   ]
  },
  {
   "cell_type": "code",
   "execution_count": null,
   "metadata": {},
   "outputs": [],
   "source": []
  },
  {
   "cell_type": "code",
   "execution_count": 88,
   "metadata": {
    "scrolled": false
   },
   "outputs": [
    {
     "data": {
      "text/plain": [
       "Text(0.5, 1.0, 'Validation Data')"
      ]
     },
     "execution_count": 88,
     "metadata": {},
     "output_type": "execute_result"
    },
    {
     "data": {
      "image/png": "[encoded data removed]",
      "text/plain": [
       "<Figure size 864x360 with 2 Axes>"
      ]
     },
     "metadata": {
      "needs_background": "light"
     },
     "output_type": "display_data"
    }
   ],
   "source": [
    "plt.figure(figsize=(12,5))\n",
    "\n",
    "plt.subplot(1, 2, 1)\n",
    "\n",
    "y_pred = gp.predict(x_train)\n",
    "y_train.values\n",
    "#plt.plot(y_pred)\n",
    "plt.plot(y_train.values, y_pred, '+')\n",
    "plt.plot([0.01, 0.05], [0.01, 0.05], \"--\")\n",
    "\n",
    "#plt.gca().set_xlim([0.008, 0.042])\n",
    "#plt.gca().set_ylim([0.008, 0.042])\n",
    "ax1 = plt.gca()\n",
    "ax1.set_ylabel(\"Predicted $C_D$\")\n",
    "ax1.set_xlabel(\"True $C_D$\")\n",
    "ax1.set_title(\"Training Data\")\n",
    "\n",
    "plt.subplot(1, 2, 2)\n",
    "\n",
    "y_pred = gp.predict(x_test)\n",
    "y_test.values\n",
    "#plt.plot(y_pred)\n",
    "plt.plot(y_test.values, y_pred, '+', label=\"asd\")\n",
    "plt.plot([0.01, 0.05], [0.01, 0.05], \"--\")\n",
    "#plt.plot(y_pred, 'o', c=\"r\")\n",
    "ax1.set_xlim(plt.gca().get_xlim())\n",
    "ax1.set_ylim(plt.gca().get_ylim())\n",
    "ax2 = plt.gca()\n",
    "ax2.set_ylabel(\"Predicted $C_D$\")\n",
    "ax2.set_xlabel(\"True $C_D$\")\n",
    "ax2.set_title(\"Validation Data\")"
   ]
  },
  {
   "cell_type": "code",
   "execution_count": null,
   "metadata": {},
   "outputs": [],
   "source": []
  },
  {
   "cell_type": "code",
   "execution_count": null,
   "metadata": {},
   "outputs": [],
   "source": [
    "plt.plot(Y[:,4][a], df_result[\"c_D\"][a], \"o\")"
   ]
  },
  {
   "cell_type": "code",
   "execution_count": null,
   "metadata": {},
   "outputs": [],
   "source": []
  },
  {
   "cell_type": "code",
   "execution_count": null,
   "metadata": {},
   "outputs": [],
   "source": [
    "np.sum(df_result[\"rms_rho\"] < -6)"
   ]
  },
  {
   "cell_type": "code",
   "execution_count": null,
   "metadata": {},
   "outputs": [],
   "source": [
    "y_lb = np.min(Y[a])\n",
    "y_ub = np.max(Y[a])\n",
    "y_lb, y_ub"
   ]
  },
  {
   "cell_type": "code",
   "execution_count": null,
   "metadata": {},
   "outputs": [],
   "source": [
    "X_ = np.linspace(y_lb, y_ub, 100)\n",
    "#y_mean, y_std = gp.predict(X_[:, np.newaxis], return_std=True)"
   ]
  },
  {
   "cell_type": "code",
   "execution_count": null,
   "metadata": {},
   "outputs": [],
   "source": [
    "#np.dot(U[0, :, np.newaxis], X_[np.newaxis, :])\n",
    "X_ = np.zeros((r, 100))\n",
    "X_[0] = np.linspace(y_lb, y_ub, 100)"
   ]
  },
  {
   "cell_type": "code",
   "execution_count": null,
   "metadata": {
    "scrolled": true
   },
   "outputs": [],
   "source": [
    "y_mean, y_std = gp.predict(X_.T, return_std=True)"
   ]
  },
  {
   "cell_type": "code",
   "execution_count": null,
   "metadata": {},
   "outputs": [],
   "source": [
    "plt.figure(figsize=(8, 8))\n",
    "plt.plot(X_[0], y_mean, 'k', lw=3, zorder=9)\n",
    "plt.fill_between(X_[0], y_mean - y_std, y_mean + y_std, alpha=0.2, color='k')\n",
    "y_samples = gp.sample_y(X_.T, 5)\n",
    "plt.plot(X_[0], y_samples, lw=1)\n",
    "plt.scatter(x_train[:, 0], y_train, c='r', s=50, zorder=10, edgecolors=(0, 0, 0), )\n",
    "plt.scatter(x_test[:, 0], y_test, c='b', s=50, zorder=10, edgecolors=(0, 0, 0))"
   ]
  },
  {
   "cell_type": "code",
   "execution_count": null,
   "metadata": {},
   "outputs": [],
   "source": []
  },
  {
   "cell_type": "code",
   "execution_count": null,
   "metadata": {},
   "outputs": [],
   "source": []
  },
  {
   "cell_type": "code",
   "execution_count": null,
   "metadata": {},
   "outputs": [],
   "source": []
  },
  {
   "cell_type": "code",
   "execution_count": null,
   "metadata": {},
   "outputs": [],
   "source": [
    "np.dot(X_, np.ones((20,1)))"
   ]
  },
  {
   "cell_type": "code",
   "execution_count": null,
   "metadata": {},
   "outputs": [],
   "source": []
  },
  {
   "cell_type": "code",
   "execution_count": null,
   "metadata": {},
   "outputs": [],
   "source": []
  },
  {
   "cell_type": "code",
   "execution_count": null,
   "metadata": {
    "scrolled": false
   },
   "outputs": [],
   "source": [
    "from sklearn.gaussian_process import GaussianProcessRegressor\n",
    "from sklearn.gaussian_process.kernels import (RBF, Matern, RationalQuadratic,\n",
    "                                              ExpSineSquared, DotProduct,\n",
    "                                              ConstantKernel, WhiteKernel)\n",
    "\n",
    "\n",
    "kernels = [1.0 * RBF(length_scale=1.0, length_scale_bounds=(1e-1, 10.0)),\n",
    "           1.0 * RationalQuadratic(length_scale=1.0, alpha=0.1),\n",
    "           1.0 * ExpSineSquared(length_scale=1.0, periodicity=3.0,\n",
    "                                length_scale_bounds=(0.1, 10.0),\n",
    "                                periodicity_bounds=(1.0, 10.0)),\n",
    "           ConstantKernel(0.1, (0.01, 10.0))\n",
    "               * (DotProduct(sigma_0=1.0, sigma_0_bounds=(0.1, 10.0)) ** 2)  + WhiteKernel(),\n",
    "           1.0 * Matern(length_scale=1.0, length_scale_bounds=(1e-1, 10.0),\n",
    "                        nu=1.5)]\n",
    "\n",
    "for kernel in kernels:\n",
    "    # Specify Gaussian Process\n",
    "    gp = GaussianProcessRegressor(kernel=kernel)\n",
    "\n",
    "    # Plot prior\n",
    "    plt.figure(figsize=(8, 8))\n",
    "    plt.subplot(2, 1, 1)\n",
    "    X_ = np.linspace(0, 5, 100)\n",
    "    y_mean, y_std = gp.predict(X_[:, np.newaxis], return_std=True)\n",
    "    plt.plot(X_, y_mean, 'k', lw=3, zorder=9)\n",
    "    plt.fill_between(X_, y_mean - y_std, y_mean + y_std,\n",
    "                     alpha=0.2, color='k')\n",
    "    y_samples = gp.sample_y(X_[:, np.newaxis], 10)\n",
    "    plt.plot(X_, y_samples, lw=1)\n",
    "    plt.xlim(0, 5)\n",
    "    plt.ylim(-3, 3)\n",
    "    plt.title(\"Prior (kernel:  %s)\" % kernel, fontsize=12)\n",
    "\n",
    "    # Generate data and fit GP\n",
    "    rng = np.random.RandomState(4)\n",
    "    X = rng.uniform(0, 5, 10)[:, np.newaxis]\n",
    "    y = np.sin((X[:, 0] - 2.5) ** 2)\n",
    "    gp.fit(X, y)\n",
    "\n",
    "    # Plot posterior\n",
    "    plt.subplot(2, 1, 2)\n",
    "    X_ = np.linspace(0, 5, 100)\n",
    "    y_mean, y_std = gp.predict(X_[:, np.newaxis], return_std=True)\n",
    "    plt.plot(X_, y_mean, 'k', lw=3, zorder=9)\n",
    "    plt.fill_between(X_, y_mean - y_std, y_mean + y_std,\n",
    "                     alpha=0.2, color='k')\n",
    "\n",
    "    y_samples = gp.sample_y(X_[:, np.newaxis], 10)\n",
    "    plt.plot(X_, y_samples, lw=1)\n",
    "    plt.scatter(X[:, 0], y, c='r', s=50, zorder=10, edgecolors=(0, 0, 0))\n",
    "    plt.xlim(0, 5)\n",
    "    plt.ylim(-3, 3)\n",
    "    plt.title(\"Posterior (kernel: %s)\\n Log-Likelihood: %.3f\"\n",
    "              % (gp.kernel_, gp.log_marginal_likelihood(gp.kernel_.theta)),\n",
    "              fontsize=12)\n",
    "    plt.tight_layout()\n",
    "\n",
    "plt.show()"
   ]
  },
  {
   "cell_type": "code",
   "execution_count": null,
   "metadata": {},
   "outputs": [],
   "source": []
  },
  {
   "cell_type": "code",
   "execution_count": null,
   "metadata": {},
   "outputs": [],
   "source": []
  },
  {
   "cell_type": "code",
   "execution_count": null,
   "metadata": {},
   "outputs": [],
   "source": [
    "df_result[\"c_D\"].argmin()"
   ]
  },
  {
   "cell_type": "markdown",
   "metadata": {},
   "source": [
    "#### "
   ]
  },
  {
   "cell_type": "code",
   "execution_count": null,
   "metadata": {},
   "outputs": [],
   "source": [
    "df_result.loc[706]"
   ]
  },
  {
   "cell_type": "code",
   "execution_count": null,
   "metadata": {},
   "outputs": [],
   "source": []
  }
 ],
 "metadata": {
  "kernelspec": {
   "display_name": "Python 3",
   "language": "python",
   "name": "python3"
  },
  "language_info": {
   "codemirror_mode": {
    "name": "ipython",
    "version": 3
   },
   "file_extension": ".py",
   "mimetype": "text/x-python",
   "name": "python",
   "nbconvert_exporter": "python",
   "pygments_lexer": "ipython3",
   "version": "3.8.5"
  }
 },
 "nbformat": 4,
 "nbformat_minor": 4
}
